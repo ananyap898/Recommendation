{
 "cells": [
  {
   "cell_type": "markdown",
   "metadata": {},
   "source": [
    "# DATA612\n",
    "### PROJECT 3:Matrix Factorization methods\n",
    "### Ananya "
   ]
  },
  {
   "cell_type": "markdown",
   "metadata": {},
   "source": [
    "# Introduction\n",
    "\n",
    "\n",
    "### svd gives us best lower rank decomposition.\n",
    "### A = U . Sigma . V^T\n",
    "\n",
    "#### u = user to concept  similarity matrix (orthogonal matrix)\n",
    "#### sigma = diagonal matrix  ( stength of concept) \n",
    "#### v = movie to concep matrix (orthogonal matrix)\n",
    "#### A = original  input  matrix \n",
    "\n",
    "SVD is a matrix factorization technique that is usually used to reduce the number of features of a data set by reducing space dimensions from N to K where K < N. As in real wordld we can see a lot of noise.\n",
    "\n",
    "By tacking kth dimenssion we will build 3 factor U,sigma and V and the outcome matrix B will be closely similar to original matrix. Idealy  we will find best fit for k  where rank(B) = K\n",
    "\n",
    "In this project we will try for diffrent K values and take the best k when we see RMSE is mimum. \n",
    "\n",
    "It is mostly used with collbarative filtering Model. Because it does not need exta information and will contains user to item rating matrix.\n"
   ]
  },
  {
   "cell_type": "markdown",
   "metadata": {},
   "source": [
    "### How SVD is useful in recomndation system \n",
    "\n",
    "By applying matrix factorization for recommender systems we can get hidden correlation between diffrent user, which is some how ignored in colabarative filtering approach such as items frequently bought or viewed.\n",
    "Using this capability we can estimate if a user is going to like a movie that they never saw. And if that estimated rating is high, we can recommend that movie to the user. we have devloped a model using this technique below.\n",
    "\n"
   ]
  },
  {
   "cell_type": "code",
   "execution_count": 1,
   "metadata": {},
   "outputs": [],
   "source": [
    "import pandas as pd\n",
    "import numpy as np\n",
    "from numpy import array\n",
    "from numpy import diag\n",
    "from numpy import dot\n",
    "from scipy.linalg import svd\n",
    "from math import sqrt\n",
    "import numpy as geek \n",
    "from sklearn.metrics import mean_squared_error\n",
    "import matplotlib.pyplot as plt\n",
    "import seaborn as sns\n",
    "from scipy.sparse.linalg import svds\n",
    "from surprise import SVD, accuracy\n",
    "from surprise import Reader, Dataset\n",
    "from surprise.model_selection import train_test_split\n",
    "import matplotlib.pyplot as plt"
   ]
  },
  {
   "cell_type": "markdown",
   "metadata": {},
   "source": [
    "###  Loading data"
   ]
  },
  {
   "cell_type": "code",
   "execution_count": 2,
   "metadata": {},
   "outputs": [
    {
     "data": {
      "text/html": [
       "<div>\n",
       "<style scoped>\n",
       "    .dataframe tbody tr th:only-of-type {\n",
       "        vertical-align: middle;\n",
       "    }\n",
       "\n",
       "    .dataframe tbody tr th {\n",
       "        vertical-align: top;\n",
       "    }\n",
       "\n",
       "    .dataframe thead th {\n",
       "        text-align: right;\n",
       "    }\n",
       "</style>\n",
       "<table border=\"1\" class=\"dataframe\">\n",
       "  <thead>\n",
       "    <tr style=\"text-align: right;\">\n",
       "      <th></th>\n",
       "      <th>userId</th>\n",
       "      <th>movieId</th>\n",
       "      <th>rating</th>\n",
       "      <th>timestamp</th>\n",
       "    </tr>\n",
       "  </thead>\n",
       "  <tbody>\n",
       "    <tr>\n",
       "      <th>0</th>\n",
       "      <td>12882</td>\n",
       "      <td>1</td>\n",
       "      <td>4.0</td>\n",
       "      <td>1147195252</td>\n",
       "    </tr>\n",
       "    <tr>\n",
       "      <th>1</th>\n",
       "      <td>12882</td>\n",
       "      <td>32</td>\n",
       "      <td>3.5</td>\n",
       "      <td>1147195307</td>\n",
       "    </tr>\n",
       "    <tr>\n",
       "      <th>2</th>\n",
       "      <td>12882</td>\n",
       "      <td>47</td>\n",
       "      <td>5.0</td>\n",
       "      <td>1147195343</td>\n",
       "    </tr>\n",
       "    <tr>\n",
       "      <th>3</th>\n",
       "      <td>12882</td>\n",
       "      <td>50</td>\n",
       "      <td>5.0</td>\n",
       "      <td>1147185499</td>\n",
       "    </tr>\n",
       "    <tr>\n",
       "      <th>4</th>\n",
       "      <td>12882</td>\n",
       "      <td>110</td>\n",
       "      <td>4.5</td>\n",
       "      <td>1147195239</td>\n",
       "    </tr>\n",
       "  </tbody>\n",
       "</table>\n",
       "</div>"
      ],
      "text/plain": [
       "   userId  movieId  rating   timestamp\n",
       "0   12882        1     4.0  1147195252\n",
       "1   12882       32     3.5  1147195307\n",
       "2   12882       47     5.0  1147195343\n",
       "3   12882       50     5.0  1147185499\n",
       "4   12882      110     4.5  1147195239"
      ]
     },
     "execution_count": 2,
     "metadata": {},
     "output_type": "execute_result"
    }
   ],
   "source": [
    "data = pd.read_csv(r'ratings.csv')\n",
    "data.head()"
   ]
  },
  {
   "cell_type": "code",
   "execution_count": 3,
   "metadata": {},
   "outputs": [
    {
     "name": "stdout",
     "output_type": "stream",
     "text": [
      "<class 'pandas.core.frame.DataFrame'>\n",
      "RangeIndex: 264505 entries, 0 to 264504\n",
      "Data columns (total 4 columns):\n",
      " #   Column     Non-Null Count   Dtype  \n",
      "---  ------     --------------   -----  \n",
      " 0   userId     264505 non-null  int64  \n",
      " 1   movieId    264505 non-null  int64  \n",
      " 2   rating     264505 non-null  float64\n",
      " 3   timestamp  264505 non-null  int64  \n",
      "dtypes: float64(1), int64(3)\n",
      "memory usage: 8.1 MB\n"
     ]
    }
   ],
   "source": [
    "data.info()"
   ]
  },
  {
   "cell_type": "code",
   "execution_count": 4,
   "metadata": {},
   "outputs": [
    {
     "data": {
      "text/plain": [
       "4.0    66481\n",
       "3.5    47305\n",
       "3.0    44574\n",
       "4.5    30529\n",
       "5.0    25767\n",
       "2.5    19017\n",
       "2.0    15978\n",
       "1.5     5716\n",
       "1.0     5543\n",
       "0.5     3595\n",
       "Name: rating, dtype: int64"
      ]
     },
     "execution_count": 4,
     "metadata": {},
     "output_type": "execute_result"
    }
   ],
   "source": [
    "data.rating.value_counts()"
   ]
  },
  {
   "cell_type": "code",
   "execution_count": 5,
   "metadata": {},
   "outputs": [
    {
     "data": {
      "image/png": "[encoded data removed]",
      "text/plain": [
       "<Figure size 432x288 with 1 Axes>"
      ]
     },
     "metadata": {
      "needs_background": "light"
     },
     "output_type": "display_data"
    }
   ],
   "source": [
    "data.rating.value_counts().plot(kind='bar')\n",
    "plt.show()"
   ]
  },
  {
   "cell_type": "code",
   "execution_count": 6,
   "metadata": {},
   "outputs": [
    {
     "data": {
      "text/html": [
       "<div>\n",
       "<style scoped>\n",
       "    .dataframe tbody tr th:only-of-type {\n",
       "        vertical-align: middle;\n",
       "    }\n",
       "\n",
       "    .dataframe tbody tr th {\n",
       "        vertical-align: top;\n",
       "    }\n",
       "\n",
       "    .dataframe thead th {\n",
       "        text-align: right;\n",
       "    }\n",
       "</style>\n",
       "<table border=\"1\" class=\"dataframe\">\n",
       "  <thead>\n",
       "    <tr style=\"text-align: right;\">\n",
       "      <th></th>\n",
       "      <th>movieId</th>\n",
       "      <th>title</th>\n",
       "      <th>genres</th>\n",
       "    </tr>\n",
       "  </thead>\n",
       "  <tbody>\n",
       "    <tr>\n",
       "      <th>0</th>\n",
       "      <td>1</td>\n",
       "      <td>Toy Story (1995)</td>\n",
       "      <td>Adventure|Animation|Children|Comedy|Fantasy</td>\n",
       "    </tr>\n",
       "    <tr>\n",
       "      <th>1</th>\n",
       "      <td>2</td>\n",
       "      <td>Jumanji (1995)</td>\n",
       "      <td>Adventure|Children|Fantasy</td>\n",
       "    </tr>\n",
       "    <tr>\n",
       "      <th>2</th>\n",
       "      <td>3</td>\n",
       "      <td>Grumpier Old Men (1995)</td>\n",
       "      <td>Comedy|Romance</td>\n",
       "    </tr>\n",
       "    <tr>\n",
       "      <th>3</th>\n",
       "      <td>4</td>\n",
       "      <td>Waiting to Exhale (1995)</td>\n",
       "      <td>Comedy|Drama|Romance</td>\n",
       "    </tr>\n",
       "    <tr>\n",
       "      <th>4</th>\n",
       "      <td>5</td>\n",
       "      <td>Father of the Bride Part II (1995)</td>\n",
       "      <td>Comedy</td>\n",
       "    </tr>\n",
       "    <tr>\n",
       "      <th>...</th>\n",
       "      <td>...</td>\n",
       "      <td>...</td>\n",
       "      <td>...</td>\n",
       "    </tr>\n",
       "    <tr>\n",
       "      <th>2495</th>\n",
       "      <td>109487</td>\n",
       "      <td>Interstellar (2014)</td>\n",
       "      <td>Sci-Fi|IMAX</td>\n",
       "    </tr>\n",
       "    <tr>\n",
       "      <th>2496</th>\n",
       "      <td>111362</td>\n",
       "      <td>X-Men: Days of Future Past (2014)</td>\n",
       "      <td>Action|Adventure|Sci-Fi</td>\n",
       "    </tr>\n",
       "    <tr>\n",
       "      <th>2497</th>\n",
       "      <td>111759</td>\n",
       "      <td>Edge of Tomorrow (2014)</td>\n",
       "      <td>Action|Sci-Fi|IMAX</td>\n",
       "    </tr>\n",
       "    <tr>\n",
       "      <th>2498</th>\n",
       "      <td>112556</td>\n",
       "      <td>Gone Girl (2014)</td>\n",
       "      <td>Drama|Thriller</td>\n",
       "    </tr>\n",
       "    <tr>\n",
       "      <th>2499</th>\n",
       "      <td>112852</td>\n",
       "      <td>Guardians of the Galaxy (2014)</td>\n",
       "      <td>Action|Adventure|Sci-Fi</td>\n",
       "    </tr>\n",
       "  </tbody>\n",
       "</table>\n",
       "<p>2500 rows × 3 columns</p>\n",
       "</div>"
      ],
      "text/plain": [
       "      movieId                               title  \\\n",
       "0           1                    Toy Story (1995)   \n",
       "1           2                      Jumanji (1995)   \n",
       "2           3             Grumpier Old Men (1995)   \n",
       "3           4            Waiting to Exhale (1995)   \n",
       "4           5  Father of the Bride Part II (1995)   \n",
       "...       ...                                 ...   \n",
       "2495   109487                 Interstellar (2014)   \n",
       "2496   111362   X-Men: Days of Future Past (2014)   \n",
       "2497   111759             Edge of Tomorrow (2014)   \n",
       "2498   112556                    Gone Girl (2014)   \n",
       "2499   112852      Guardians of the Galaxy (2014)   \n",
       "\n",
       "                                           genres  \n",
       "0     Adventure|Animation|Children|Comedy|Fantasy  \n",
       "1                      Adventure|Children|Fantasy  \n",
       "2                                  Comedy|Romance  \n",
       "3                            Comedy|Drama|Romance  \n",
       "4                                          Comedy  \n",
       "...                                           ...  \n",
       "2495                                  Sci-Fi|IMAX  \n",
       "2496                      Action|Adventure|Sci-Fi  \n",
       "2497                           Action|Sci-Fi|IMAX  \n",
       "2498                               Drama|Thriller  \n",
       "2499                      Action|Adventure|Sci-Fi  \n",
       "\n",
       "[2500 rows x 3 columns]"
      ]
     },
     "execution_count": 6,
     "metadata": {},
     "output_type": "execute_result"
    }
   ],
   "source": [
    "data_movie= pd.read_csv(r\"movies.csv\", encoding = 'unicode_escape')\n",
    "data_movie"
   ]
  },
  {
   "cell_type": "code",
   "execution_count": 7,
   "metadata": {},
   "outputs": [
    {
     "data": {
      "text/html": [
       "<div>\n",
       "<style scoped>\n",
       "    .dataframe tbody tr th:only-of-type {\n",
       "        vertical-align: middle;\n",
       "    }\n",
       "\n",
       "    .dataframe tbody tr th {\n",
       "        vertical-align: top;\n",
       "    }\n",
       "\n",
       "    .dataframe thead th {\n",
       "        text-align: right;\n",
       "    }\n",
       "</style>\n",
       "<table border=\"1\" class=\"dataframe\">\n",
       "  <thead>\n",
       "    <tr style=\"text-align: right;\">\n",
       "      <th>movieId</th>\n",
       "      <th>1</th>\n",
       "      <th>2</th>\n",
       "      <th>3</th>\n",
       "      <th>4</th>\n",
       "      <th>5</th>\n",
       "      <th>6</th>\n",
       "      <th>7</th>\n",
       "      <th>9</th>\n",
       "      <th>10</th>\n",
       "      <th>11</th>\n",
       "      <th>...</th>\n",
       "      <th>106487</th>\n",
       "      <th>106489</th>\n",
       "      <th>106782</th>\n",
       "      <th>106920</th>\n",
       "      <th>109374</th>\n",
       "      <th>109487</th>\n",
       "      <th>111362</th>\n",
       "      <th>111759</th>\n",
       "      <th>112556</th>\n",
       "      <th>112852</th>\n",
       "    </tr>\n",
       "    <tr>\n",
       "      <th>userId</th>\n",
       "      <th></th>\n",
       "      <th></th>\n",
       "      <th></th>\n",
       "      <th></th>\n",
       "      <th></th>\n",
       "      <th></th>\n",
       "      <th></th>\n",
       "      <th></th>\n",
       "      <th></th>\n",
       "      <th></th>\n",
       "      <th></th>\n",
       "      <th></th>\n",
       "      <th></th>\n",
       "      <th></th>\n",
       "      <th></th>\n",
       "      <th></th>\n",
       "      <th></th>\n",
       "      <th></th>\n",
       "      <th></th>\n",
       "      <th></th>\n",
       "      <th></th>\n",
       "    </tr>\n",
       "  </thead>\n",
       "  <tbody>\n",
       "    <tr>\n",
       "      <th>316</th>\n",
       "      <td>2.5</td>\n",
       "      <td>0.0</td>\n",
       "      <td>0.0</td>\n",
       "      <td>0.0</td>\n",
       "      <td>0.0</td>\n",
       "      <td>0.0</td>\n",
       "      <td>2.0</td>\n",
       "      <td>0.0</td>\n",
       "      <td>2.5</td>\n",
       "      <td>0.0</td>\n",
       "      <td>...</td>\n",
       "      <td>0.0</td>\n",
       "      <td>0.0</td>\n",
       "      <td>0.0</td>\n",
       "      <td>0.0</td>\n",
       "      <td>0.0</td>\n",
       "      <td>0.0</td>\n",
       "      <td>0.0</td>\n",
       "      <td>0.0</td>\n",
       "      <td>0.0</td>\n",
       "      <td>0.0</td>\n",
       "    </tr>\n",
       "    <tr>\n",
       "      <th>320</th>\n",
       "      <td>0.0</td>\n",
       "      <td>0.0</td>\n",
       "      <td>0.0</td>\n",
       "      <td>0.0</td>\n",
       "      <td>0.0</td>\n",
       "      <td>0.0</td>\n",
       "      <td>0.0</td>\n",
       "      <td>0.0</td>\n",
       "      <td>0.0</td>\n",
       "      <td>0.0</td>\n",
       "      <td>...</td>\n",
       "      <td>0.0</td>\n",
       "      <td>0.0</td>\n",
       "      <td>0.0</td>\n",
       "      <td>0.0</td>\n",
       "      <td>0.0</td>\n",
       "      <td>0.0</td>\n",
       "      <td>0.0</td>\n",
       "      <td>0.0</td>\n",
       "      <td>0.0</td>\n",
       "      <td>0.0</td>\n",
       "    </tr>\n",
       "    <tr>\n",
       "      <th>359</th>\n",
       "      <td>5.0</td>\n",
       "      <td>0.0</td>\n",
       "      <td>0.0</td>\n",
       "      <td>0.0</td>\n",
       "      <td>0.0</td>\n",
       "      <td>5.0</td>\n",
       "      <td>0.0</td>\n",
       "      <td>0.0</td>\n",
       "      <td>4.0</td>\n",
       "      <td>4.0</td>\n",
       "      <td>...</td>\n",
       "      <td>0.0</td>\n",
       "      <td>0.0</td>\n",
       "      <td>0.0</td>\n",
       "      <td>0.0</td>\n",
       "      <td>0.0</td>\n",
       "      <td>0.0</td>\n",
       "      <td>0.0</td>\n",
       "      <td>0.0</td>\n",
       "      <td>0.0</td>\n",
       "      <td>0.0</td>\n",
       "    </tr>\n",
       "    <tr>\n",
       "      <th>370</th>\n",
       "      <td>4.5</td>\n",
       "      <td>4.0</td>\n",
       "      <td>0.0</td>\n",
       "      <td>0.0</td>\n",
       "      <td>0.0</td>\n",
       "      <td>5.0</td>\n",
       "      <td>0.0</td>\n",
       "      <td>0.0</td>\n",
       "      <td>0.0</td>\n",
       "      <td>0.0</td>\n",
       "      <td>...</td>\n",
       "      <td>2.5</td>\n",
       "      <td>3.0</td>\n",
       "      <td>4.5</td>\n",
       "      <td>4.0</td>\n",
       "      <td>0.0</td>\n",
       "      <td>0.0</td>\n",
       "      <td>3.0</td>\n",
       "      <td>4.5</td>\n",
       "      <td>3.5</td>\n",
       "      <td>3.0</td>\n",
       "    </tr>\n",
       "    <tr>\n",
       "      <th>910</th>\n",
       "      <td>5.0</td>\n",
       "      <td>4.0</td>\n",
       "      <td>3.5</td>\n",
       "      <td>0.0</td>\n",
       "      <td>3.5</td>\n",
       "      <td>3.5</td>\n",
       "      <td>0.0</td>\n",
       "      <td>0.0</td>\n",
       "      <td>0.0</td>\n",
       "      <td>4.0</td>\n",
       "      <td>...</td>\n",
       "      <td>0.0</td>\n",
       "      <td>0.0</td>\n",
       "      <td>3.5</td>\n",
       "      <td>0.0</td>\n",
       "      <td>0.0</td>\n",
       "      <td>0.0</td>\n",
       "      <td>0.0</td>\n",
       "      <td>4.5</td>\n",
       "      <td>0.0</td>\n",
       "      <td>0.0</td>\n",
       "    </tr>\n",
       "  </tbody>\n",
       "</table>\n",
       "<p>5 rows × 2500 columns</p>\n",
       "</div>"
      ],
      "text/plain": [
       "movieId  1       2       3       4       5       6       7       9       \\\n",
       "userId                                                                    \n",
       "316         2.5     0.0     0.0     0.0     0.0     0.0     2.0     0.0   \n",
       "320         0.0     0.0     0.0     0.0     0.0     0.0     0.0     0.0   \n",
       "359         5.0     0.0     0.0     0.0     0.0     5.0     0.0     0.0   \n",
       "370         4.5     4.0     0.0     0.0     0.0     5.0     0.0     0.0   \n",
       "910         5.0     4.0     3.5     0.0     3.5     3.5     0.0     0.0   \n",
       "\n",
       "movieId  10      11      ...  106487  106489  106782  106920  109374  109487  \\\n",
       "userId                   ...                                                   \n",
       "316         2.5     0.0  ...     0.0     0.0     0.0     0.0     0.0     0.0   \n",
       "320         0.0     0.0  ...     0.0     0.0     0.0     0.0     0.0     0.0   \n",
       "359         4.0     4.0  ...     0.0     0.0     0.0     0.0     0.0     0.0   \n",
       "370         0.0     0.0  ...     2.5     3.0     4.5     4.0     0.0     0.0   \n",
       "910         0.0     4.0  ...     0.0     0.0     3.5     0.0     0.0     0.0   \n",
       "\n",
       "movieId  111362  111759  112556  112852  \n",
       "userId                                   \n",
       "316         0.0     0.0     0.0     0.0  \n",
       "320         0.0     0.0     0.0     0.0  \n",
       "359         0.0     0.0     0.0     0.0  \n",
       "370         3.0     4.5     3.5     3.0  \n",
       "910         0.0     4.5     0.0     0.0  \n",
       "\n",
       "[5 rows x 2500 columns]"
      ]
     },
     "execution_count": 7,
     "metadata": {},
     "output_type": "execute_result"
    }
   ],
   "source": [
    "# before calculating svd we are filing all unknown  valuses with 0 \n",
    "rating_data = data.pivot(index = 'userId', columns ='movieId', values = 'rating').fillna(0)\n",
    "rating_data.head()"
   ]
  },
  {
   "cell_type": "code",
   "execution_count": 8,
   "metadata": {},
   "outputs": [
    {
     "data": {
      "text/plain": [
       "(862, 2500)"
      ]
     },
     "execution_count": 8,
     "metadata": {},
     "output_type": "execute_result"
    }
   ],
   "source": [
    "rating_data_np = rating_data.values\n",
    "rating_data_np.shape"
   ]
  },
  {
   "cell_type": "code",
   "execution_count": 9,
   "metadata": {},
   "outputs": [
    {
     "data": {
      "text/plain": [
       "(862,)"
      ]
     },
     "execution_count": 9,
     "metadata": {},
     "output_type": "execute_result"
    }
   ],
   "source": [
    "# row level mean \n",
    "user_ratings_mean = np.mean(rating_data_np, axis = 1)\n",
    "user_ratings_mean.shape"
   ]
  },
  {
   "cell_type": "markdown",
   "metadata": {},
   "source": [
    "### normalizing the data by substacting from mean"
   ]
  },
  {
   "cell_type": "code",
   "execution_count": 10,
   "metadata": {},
   "outputs": [
    {
     "data": {
      "text/plain": [
       "array([[ 2.3282, -0.1718, -0.1718, ..., -0.1718, -0.1718, -0.1718],\n",
       "       [-0.0918, -0.0918, -0.0918, ..., -0.0918, -0.0918, -0.0918],\n",
       "       [ 3.772 , -1.228 , -1.228 , ..., -1.228 , -1.228 , -1.228 ],\n",
       "       ...,\n",
       "       [ 2.2818,  0.2818,  0.2818, ..., -0.7182, -0.7182, -0.7182],\n",
       "       [-0.023 , -0.023 , -0.023 , ..., -0.023 , -0.023 , -0.023 ],\n",
       "       [ 2.4278, -0.5722, -0.5722, ..., -0.5722, -0.5722, -0.5722]])"
      ]
     },
     "execution_count": 10,
     "metadata": {},
     "output_type": "execute_result"
    }
   ],
   "source": [
    "rating_balance = rating_data_np - user_ratings_mean.reshape(-1, 1)\n",
    "rating_balance"
   ]
  },
  {
   "cell_type": "code",
   "execution_count": 11,
   "metadata": {},
   "outputs": [],
   "source": [
    "# choosing k = 50 \n",
    "U, sigma, Vt = svds(rating_balance, k = 50)"
   ]
  },
  {
   "cell_type": "code",
   "execution_count": 12,
   "metadata": {},
   "outputs": [
    {
     "data": {
      "text/plain": [
       "43100"
      ]
     },
     "execution_count": 12,
     "metadata": {},
     "output_type": "execute_result"
    }
   ],
   "source": [
    "U.size\n"
   ]
  },
  {
   "cell_type": "code",
   "execution_count": 13,
   "metadata": {},
   "outputs": [],
   "source": [
    "sigma = diag(sigma)\n"
   ]
  },
  {
   "cell_type": "code",
   "execution_count": 14,
   "metadata": {},
   "outputs": [
    {
     "data": {
      "text/plain": [
       "2500"
      ]
     },
     "execution_count": 14,
     "metadata": {},
     "output_type": "execute_result"
    }
   ],
   "source": [
    "sigma.size"
   ]
  },
  {
   "cell_type": "code",
   "execution_count": 15,
   "metadata": {},
   "outputs": [
    {
     "data": {
      "text/plain": [
       "array([[ 2.11906711,  0.61385236, -0.05222982, ...,  0.39116413,\n",
       "         0.16155901,  0.23388866],\n",
       "       [ 0.95573809, -0.23727701, -0.10567897, ...,  0.12229678,\n",
       "         0.04380235,  0.15066071],\n",
       "       [ 4.98602611,  0.83407065,  0.63992083, ..., -0.11519179,\n",
       "        -0.98541253, -0.06899797],\n",
       "       ...,\n",
       "       [ 2.14256668,  1.00812762,  1.23859564, ...,  0.11726861,\n",
       "        -0.41320252,  0.59409644],\n",
       "       [ 0.01791919, -0.18701744,  0.12925435, ...,  0.05646094,\n",
       "        -0.13129512,  0.04174165],\n",
       "       [ 0.75702332,  1.95052215, -0.24257585, ..., -0.73891205,\n",
       "         0.08543341, -0.79873833]])"
      ]
     },
     "execution_count": 15,
     "metadata": {},
     "output_type": "execute_result"
    }
   ],
   "source": [
    "all_user_predicted_ratings = np.dot(np.dot(U, sigma), Vt) + user_ratings_mean.reshape(-1, 1)\n",
    "all_user_predicted_ratings"
   ]
  },
  {
   "cell_type": "code",
   "execution_count": 16,
   "metadata": {},
   "outputs": [
    {
     "data": {
      "text/html": [
       "<div>\n",
       "<style scoped>\n",
       "    .dataframe tbody tr th:only-of-type {\n",
       "        vertical-align: middle;\n",
       "    }\n",
       "\n",
       "    .dataframe tbody tr th {\n",
       "        vertical-align: top;\n",
       "    }\n",
       "\n",
       "    .dataframe thead th {\n",
       "        text-align: right;\n",
       "    }\n",
       "</style>\n",
       "<table border=\"1\" class=\"dataframe\">\n",
       "  <thead>\n",
       "    <tr style=\"text-align: right;\">\n",
       "      <th>movieId</th>\n",
       "      <th>1</th>\n",
       "      <th>2</th>\n",
       "      <th>3</th>\n",
       "      <th>4</th>\n",
       "      <th>5</th>\n",
       "      <th>6</th>\n",
       "      <th>7</th>\n",
       "      <th>9</th>\n",
       "      <th>10</th>\n",
       "      <th>11</th>\n",
       "      <th>...</th>\n",
       "      <th>106487</th>\n",
       "      <th>106489</th>\n",
       "      <th>106782</th>\n",
       "      <th>106920</th>\n",
       "      <th>109374</th>\n",
       "      <th>109487</th>\n",
       "      <th>111362</th>\n",
       "      <th>111759</th>\n",
       "      <th>112556</th>\n",
       "      <th>112852</th>\n",
       "    </tr>\n",
       "  </thead>\n",
       "  <tbody>\n",
       "    <tr>\n",
       "      <th>0</th>\n",
       "      <td>2.119067</td>\n",
       "      <td>0.613852</td>\n",
       "      <td>-0.052230</td>\n",
       "      <td>-0.027751</td>\n",
       "      <td>-0.051678</td>\n",
       "      <td>0.315190</td>\n",
       "      <td>0.293183</td>\n",
       "      <td>-0.061597</td>\n",
       "      <td>1.545483</td>\n",
       "      <td>-0.172818</td>\n",
       "      <td>...</td>\n",
       "      <td>-0.045512</td>\n",
       "      <td>0.091259</td>\n",
       "      <td>-0.138855</td>\n",
       "      <td>0.422652</td>\n",
       "      <td>0.103241</td>\n",
       "      <td>0.255620</td>\n",
       "      <td>0.139546</td>\n",
       "      <td>0.391164</td>\n",
       "      <td>0.161559</td>\n",
       "      <td>0.233889</td>\n",
       "    </tr>\n",
       "    <tr>\n",
       "      <th>1</th>\n",
       "      <td>0.955738</td>\n",
       "      <td>-0.237277</td>\n",
       "      <td>-0.105679</td>\n",
       "      <td>-0.013774</td>\n",
       "      <td>0.085375</td>\n",
       "      <td>0.072693</td>\n",
       "      <td>-0.017604</td>\n",
       "      <td>0.055298</td>\n",
       "      <td>0.144746</td>\n",
       "      <td>0.035752</td>\n",
       "      <td>...</td>\n",
       "      <td>-0.139834</td>\n",
       "      <td>0.155302</td>\n",
       "      <td>0.089100</td>\n",
       "      <td>0.172352</td>\n",
       "      <td>0.070345</td>\n",
       "      <td>0.266449</td>\n",
       "      <td>0.075577</td>\n",
       "      <td>0.122297</td>\n",
       "      <td>0.043802</td>\n",
       "      <td>0.150661</td>\n",
       "    </tr>\n",
       "    <tr>\n",
       "      <th>2</th>\n",
       "      <td>4.986026</td>\n",
       "      <td>0.834071</td>\n",
       "      <td>0.639921</td>\n",
       "      <td>0.341459</td>\n",
       "      <td>-0.759039</td>\n",
       "      <td>5.490041</td>\n",
       "      <td>0.958097</td>\n",
       "      <td>0.532520</td>\n",
       "      <td>3.298465</td>\n",
       "      <td>2.916416</td>\n",
       "      <td>...</td>\n",
       "      <td>0.265069</td>\n",
       "      <td>-0.711310</td>\n",
       "      <td>-0.864171</td>\n",
       "      <td>-0.102563</td>\n",
       "      <td>0.358748</td>\n",
       "      <td>0.142638</td>\n",
       "      <td>-0.557714</td>\n",
       "      <td>-0.115192</td>\n",
       "      <td>-0.985413</td>\n",
       "      <td>-0.068998</td>\n",
       "    </tr>\n",
       "    <tr>\n",
       "      <th>3</th>\n",
       "      <td>3.408845</td>\n",
       "      <td>1.985493</td>\n",
       "      <td>-0.181973</td>\n",
       "      <td>-0.000719</td>\n",
       "      <td>-0.148836</td>\n",
       "      <td>2.689435</td>\n",
       "      <td>-0.031172</td>\n",
       "      <td>0.105745</td>\n",
       "      <td>-0.543796</td>\n",
       "      <td>0.059714</td>\n",
       "      <td>...</td>\n",
       "      <td>1.888099</td>\n",
       "      <td>1.534087</td>\n",
       "      <td>2.364835</td>\n",
       "      <td>2.738875</td>\n",
       "      <td>2.239476</td>\n",
       "      <td>2.046838</td>\n",
       "      <td>2.033682</td>\n",
       "      <td>2.438882</td>\n",
       "      <td>2.187125</td>\n",
       "      <td>2.189135</td>\n",
       "    </tr>\n",
       "    <tr>\n",
       "      <th>4</th>\n",
       "      <td>5.584060</td>\n",
       "      <td>4.034014</td>\n",
       "      <td>2.404591</td>\n",
       "      <td>-0.121086</td>\n",
       "      <td>1.946357</td>\n",
       "      <td>2.158587</td>\n",
       "      <td>0.259161</td>\n",
       "      <td>0.437136</td>\n",
       "      <td>1.091123</td>\n",
       "      <td>2.375878</td>\n",
       "      <td>...</td>\n",
       "      <td>0.208481</td>\n",
       "      <td>0.599231</td>\n",
       "      <td>3.217568</td>\n",
       "      <td>0.879881</td>\n",
       "      <td>0.919543</td>\n",
       "      <td>-0.964696</td>\n",
       "      <td>-0.021422</td>\n",
       "      <td>1.023661</td>\n",
       "      <td>-0.354916</td>\n",
       "      <td>0.034875</td>\n",
       "    </tr>\n",
       "    <tr>\n",
       "      <th>...</th>\n",
       "      <td>...</td>\n",
       "      <td>...</td>\n",
       "      <td>...</td>\n",
       "      <td>...</td>\n",
       "      <td>...</td>\n",
       "      <td>...</td>\n",
       "      <td>...</td>\n",
       "      <td>...</td>\n",
       "      <td>...</td>\n",
       "      <td>...</td>\n",
       "      <td>...</td>\n",
       "      <td>...</td>\n",
       "      <td>...</td>\n",
       "      <td>...</td>\n",
       "      <td>...</td>\n",
       "      <td>...</td>\n",
       "      <td>...</td>\n",
       "      <td>...</td>\n",
       "      <td>...</td>\n",
       "      <td>...</td>\n",
       "      <td>...</td>\n",
       "    </tr>\n",
       "    <tr>\n",
       "      <th>857</th>\n",
       "      <td>-0.046199</td>\n",
       "      <td>-0.052756</td>\n",
       "      <td>0.047358</td>\n",
       "      <td>0.060583</td>\n",
       "      <td>0.025258</td>\n",
       "      <td>0.005490</td>\n",
       "      <td>0.131102</td>\n",
       "      <td>0.019754</td>\n",
       "      <td>-0.203896</td>\n",
       "      <td>0.165939</td>\n",
       "      <td>...</td>\n",
       "      <td>0.044487</td>\n",
       "      <td>0.018021</td>\n",
       "      <td>-0.098847</td>\n",
       "      <td>-0.022989</td>\n",
       "      <td>-0.004303</td>\n",
       "      <td>0.067192</td>\n",
       "      <td>0.048498</td>\n",
       "      <td>0.039177</td>\n",
       "      <td>0.052256</td>\n",
       "      <td>0.003043</td>\n",
       "    </tr>\n",
       "    <tr>\n",
       "      <th>858</th>\n",
       "      <td>5.087604</td>\n",
       "      <td>2.379512</td>\n",
       "      <td>0.468721</td>\n",
       "      <td>0.090683</td>\n",
       "      <td>-0.409465</td>\n",
       "      <td>0.134818</td>\n",
       "      <td>0.407569</td>\n",
       "      <td>-0.094466</td>\n",
       "      <td>1.112559</td>\n",
       "      <td>1.914647</td>\n",
       "      <td>...</td>\n",
       "      <td>2.617915</td>\n",
       "      <td>1.325780</td>\n",
       "      <td>1.004907</td>\n",
       "      <td>1.041718</td>\n",
       "      <td>0.501383</td>\n",
       "      <td>0.599761</td>\n",
       "      <td>2.105462</td>\n",
       "      <td>1.945703</td>\n",
       "      <td>0.692200</td>\n",
       "      <td>2.461221</td>\n",
       "    </tr>\n",
       "    <tr>\n",
       "      <th>859</th>\n",
       "      <td>2.142567</td>\n",
       "      <td>1.008128</td>\n",
       "      <td>1.238596</td>\n",
       "      <td>-0.095162</td>\n",
       "      <td>1.065315</td>\n",
       "      <td>1.479304</td>\n",
       "      <td>-0.386874</td>\n",
       "      <td>0.737590</td>\n",
       "      <td>1.032852</td>\n",
       "      <td>0.706260</td>\n",
       "      <td>...</td>\n",
       "      <td>0.141971</td>\n",
       "      <td>0.594731</td>\n",
       "      <td>0.234454</td>\n",
       "      <td>-0.301490</td>\n",
       "      <td>0.266662</td>\n",
       "      <td>0.390650</td>\n",
       "      <td>0.624477</td>\n",
       "      <td>0.117269</td>\n",
       "      <td>-0.413203</td>\n",
       "      <td>0.594096</td>\n",
       "    </tr>\n",
       "    <tr>\n",
       "      <th>860</th>\n",
       "      <td>0.017919</td>\n",
       "      <td>-0.187017</td>\n",
       "      <td>0.129254</td>\n",
       "      <td>0.035083</td>\n",
       "      <td>0.110980</td>\n",
       "      <td>0.138084</td>\n",
       "      <td>0.019556</td>\n",
       "      <td>0.037386</td>\n",
       "      <td>0.099932</td>\n",
       "      <td>0.064534</td>\n",
       "      <td>...</td>\n",
       "      <td>0.040833</td>\n",
       "      <td>0.048136</td>\n",
       "      <td>-0.066995</td>\n",
       "      <td>-0.110976</td>\n",
       "      <td>-0.054178</td>\n",
       "      <td>0.000416</td>\n",
       "      <td>0.085973</td>\n",
       "      <td>0.056461</td>\n",
       "      <td>-0.131295</td>\n",
       "      <td>0.041742</td>\n",
       "    </tr>\n",
       "    <tr>\n",
       "      <th>861</th>\n",
       "      <td>0.757023</td>\n",
       "      <td>1.950522</td>\n",
       "      <td>-0.242576</td>\n",
       "      <td>-0.031945</td>\n",
       "      <td>0.298662</td>\n",
       "      <td>0.104311</td>\n",
       "      <td>0.371228</td>\n",
       "      <td>0.020471</td>\n",
       "      <td>1.233655</td>\n",
       "      <td>1.156850</td>\n",
       "      <td>...</td>\n",
       "      <td>0.401423</td>\n",
       "      <td>-0.317928</td>\n",
       "      <td>0.726190</td>\n",
       "      <td>0.141209</td>\n",
       "      <td>-0.216907</td>\n",
       "      <td>-0.255234</td>\n",
       "      <td>-0.739455</td>\n",
       "      <td>-0.738912</td>\n",
       "      <td>0.085433</td>\n",
       "      <td>-0.798738</td>\n",
       "    </tr>\n",
       "  </tbody>\n",
       "</table>\n",
       "<p>862 rows × 2500 columns</p>\n",
       "</div>"
      ],
      "text/plain": [
       "movieId    1         2         3         4         5         6         7       \\\n",
       "0        2.119067  0.613852 -0.052230 -0.027751 -0.051678  0.315190  0.293183   \n",
       "1        0.955738 -0.237277 -0.105679 -0.013774  0.085375  0.072693 -0.017604   \n",
       "2        4.986026  0.834071  0.639921  0.341459 -0.759039  5.490041  0.958097   \n",
       "3        3.408845  1.985493 -0.181973 -0.000719 -0.148836  2.689435 -0.031172   \n",
       "4        5.584060  4.034014  2.404591 -0.121086  1.946357  2.158587  0.259161   \n",
       "..            ...       ...       ...       ...       ...       ...       ...   \n",
       "857     -0.046199 -0.052756  0.047358  0.060583  0.025258  0.005490  0.131102   \n",
       "858      5.087604  2.379512  0.468721  0.090683 -0.409465  0.134818  0.407569   \n",
       "859      2.142567  1.008128  1.238596 -0.095162  1.065315  1.479304 -0.386874   \n",
       "860      0.017919 -0.187017  0.129254  0.035083  0.110980  0.138084  0.019556   \n",
       "861      0.757023  1.950522 -0.242576 -0.031945  0.298662  0.104311  0.371228   \n",
       "\n",
       "movieId    9         10        11      ...    106487    106489    106782  \\\n",
       "0       -0.061597  1.545483 -0.172818  ... -0.045512  0.091259 -0.138855   \n",
       "1        0.055298  0.144746  0.035752  ... -0.139834  0.155302  0.089100   \n",
       "2        0.532520  3.298465  2.916416  ...  0.265069 -0.711310 -0.864171   \n",
       "3        0.105745 -0.543796  0.059714  ...  1.888099  1.534087  2.364835   \n",
       "4        0.437136  1.091123  2.375878  ...  0.208481  0.599231  3.217568   \n",
       "..            ...       ...       ...  ...       ...       ...       ...   \n",
       "857      0.019754 -0.203896  0.165939  ...  0.044487  0.018021 -0.098847   \n",
       "858     -0.094466  1.112559  1.914647  ...  2.617915  1.325780  1.004907   \n",
       "859      0.737590  1.032852  0.706260  ...  0.141971  0.594731  0.234454   \n",
       "860      0.037386  0.099932  0.064534  ...  0.040833  0.048136 -0.066995   \n",
       "861      0.020471  1.233655  1.156850  ...  0.401423 -0.317928  0.726190   \n",
       "\n",
       "movieId    106920    109374    109487    111362    111759    112556    112852  \n",
       "0        0.422652  0.103241  0.255620  0.139546  0.391164  0.161559  0.233889  \n",
       "1        0.172352  0.070345  0.266449  0.075577  0.122297  0.043802  0.150661  \n",
       "2       -0.102563  0.358748  0.142638 -0.557714 -0.115192 -0.985413 -0.068998  \n",
       "3        2.738875  2.239476  2.046838  2.033682  2.438882  2.187125  2.189135  \n",
       "4        0.879881  0.919543 -0.964696 -0.021422  1.023661 -0.354916  0.034875  \n",
       "..            ...       ...       ...       ...       ...       ...       ...  \n",
       "857     -0.022989 -0.004303  0.067192  0.048498  0.039177  0.052256  0.003043  \n",
       "858      1.041718  0.501383  0.599761  2.105462  1.945703  0.692200  2.461221  \n",
       "859     -0.301490  0.266662  0.390650  0.624477  0.117269 -0.413203  0.594096  \n",
       "860     -0.110976 -0.054178  0.000416  0.085973  0.056461 -0.131295  0.041742  \n",
       "861      0.141209 -0.216907 -0.255234 -0.739455 -0.738912  0.085433 -0.798738  \n",
       "\n",
       "[862 rows x 2500 columns]"
      ]
     },
     "execution_count": 16,
     "metadata": {},
     "output_type": "execute_result"
    }
   ],
   "source": [
    "all_user_predicted_ratings_df = pd.DataFrame(all_user_predicted_ratings, columns = rating_data.columns)\n",
    "all_user_predicted_ratings_df "
   ]
  },
  {
   "cell_type": "code",
   "execution_count": 17,
   "metadata": {},
   "outputs": [
    {
     "data": {
      "text/plain": [
       "0.8012192902124254"
      ]
     },
     "execution_count": 17,
     "metadata": {},
     "output_type": "execute_result"
    }
   ],
   "source": [
    "rms = sqrt(mean_squared_error(rating_data_np,all_user_predicted_ratings ))\n",
    "rms"
   ]
  },
  {
   "cell_type": "markdown",
   "metadata": {},
   "source": [
    "### if we will not normalize and apply svd then we will see how it is gong to effect the rmse "
   ]
  },
  {
   "cell_type": "code",
   "execution_count": 18,
   "metadata": {},
   "outputs": [],
   "source": [
    "U, Sigma,Vt = svds(rating_data_np,k=50)"
   ]
  },
  {
   "cell_type": "code",
   "execution_count": 19,
   "metadata": {},
   "outputs": [],
   "source": [
    "Sigma = diag(Sigma)"
   ]
  },
  {
   "cell_type": "code",
   "execution_count": 20,
   "metadata": {},
   "outputs": [
    {
     "data": {
      "text/plain": [
       "array([[  83.22539661,    0.        ,    0.        , ...,    0.        ,\n",
       "           0.        ,    0.        ],\n",
       "       [   0.        ,   83.74892263,    0.        , ...,    0.        ,\n",
       "           0.        ,    0.        ],\n",
       "       [   0.        ,    0.        ,   84.18535981, ...,    0.        ,\n",
       "           0.        ,    0.        ],\n",
       "       ...,\n",
       "       [   0.        ,    0.        ,    0.        , ...,  296.71449783,\n",
       "           0.        ,    0.        ],\n",
       "       [   0.        ,    0.        ,    0.        , ...,    0.        ,\n",
       "         326.2891049 ,    0.        ],\n",
       "       [   0.        ,    0.        ,    0.        , ...,    0.        ,\n",
       "           0.        , 1109.82669699]])"
      ]
     },
     "execution_count": 20,
     "metadata": {},
     "output_type": "execute_result"
    }
   ],
   "source": [
    "Sigma"
   ]
  },
  {
   "cell_type": "code",
   "execution_count": 21,
   "metadata": {},
   "outputs": [
    {
     "data": {
      "text/plain": [
       "array([[ 1.72539918e+00,  4.04700523e-01, -9.31351359e-02, ...,\n",
       "         2.97523212e-01,  9.94391166e-02,  1.36306347e-01],\n",
       "       [ 7.13657928e-01, -3.57417627e-01, -1.37064876e-01, ...,\n",
       "         6.72224130e-02,  2.26512637e-03,  9.02369444e-02],\n",
       "       [ 3.29036366e+00, -3.77232656e-01,  6.89158837e-02, ...,\n",
       "         1.30746767e-01, -8.42951847e-01,  1.53082732e-01],\n",
       "       ...,\n",
       "       [ 1.33879015e+00,  5.09697961e-01,  9.95499407e-01, ...,\n",
       "         1.63578863e-01, -3.69631208e-01,  6.38877427e-01],\n",
       "       [-1.09084708e-02, -2.23929188e-01,  1.11780172e-01, ...,\n",
       "         5.29647732e-02, -1.37036071e-01,  3.42941295e-02],\n",
       "       [-4.92484263e-03,  1.41118369e+00, -4.07128376e-01, ...,\n",
       "        -7.75831612e-01,  3.26281680e-02, -8.57255353e-01]])"
      ]
     },
     "execution_count": 21,
     "metadata": {},
     "output_type": "execute_result"
    }
   ],
   "source": [
    "rating_prdict = np.dot(np.dot(U, sigma), Vt)\n",
    "rating_prdict"
   ]
  },
  {
   "cell_type": "code",
   "execution_count": 22,
   "metadata": {},
   "outputs": [
    {
     "data": {
      "text/plain": [
       "0.8399632857386327"
      ]
     },
     "execution_count": 22,
     "metadata": {},
     "output_type": "execute_result"
    }
   ],
   "source": [
    "rms = sqrt(mean_squared_error(rating_data_np,rating_prdict ))\n",
    "rms"
   ]
  },
  {
   "cell_type": "markdown",
   "metadata": {},
   "source": [
    "### Recomend movie for a paticular user from past rating "
   ]
  },
  {
   "cell_type": "code",
   "execution_count": 23,
   "metadata": {},
   "outputs": [],
   "source": [
    "def recommend(all_user_predicted_ratings_df, userID, data_movie, data, num_recommendations):\n",
    "   \n",
    "    # Get and sort the user's predictions and user_id start from 1 and index starts from 0 so \n",
    "    # row number = userID - 1\n",
    "    sorted_user_predictions = all_user_predicted_ratings_df.iloc[userID - 1].sort_values(ascending=False) \n",
    "   \n",
    "    # Get the user's data and merge in the movie data frame to get the full user and movie details \n",
    "    user_data = data[data.userId == (userID)]\n",
    "    user_full = (user_data.merge(data_movie, how = 'left', left_on = 'movieId', right_on = 'movieId').\n",
    "                     sort_values(['rating'], ascending=False)\n",
    "                 )\n",
    "\n",
    "  \n",
    "    # Recomend movies  which has highest predicted rating for an unseen movie \n",
    "    recommendations = (data_movie[~data_movie['movieId'].isin(user_full['movieId'])].\n",
    "         merge(pd.DataFrame(sorted_user_predictions).reset_index(), how = 'left',\n",
    "               left_on = 'movieId',\n",
    "               right_on = 'movieId').\n",
    "         rename(columns = {userID - 1: 'Predictit_movie'}).\n",
    "         sort_values('Predictit_movie', ascending = False).\n",
    "                       iloc[:num_recommendations, :-1]\n",
    "                      )\n",
    "\n",
    "    return user_full, recommendations\n",
    "\n",
    "\n",
    "\n"
   ]
  },
  {
   "cell_type": "code",
   "execution_count": 24,
   "metadata": {},
   "outputs": [],
   "source": [
    "already_rated, Predictit_movie = recommend(all_user_predicted_ratings_df, 316, data_movie, data, 10)\n"
   ]
  },
  {
   "cell_type": "code",
   "execution_count": 25,
   "metadata": {},
   "outputs": [
    {
     "data": {
      "text/html": [
       "<div>\n",
       "<style scoped>\n",
       "    .dataframe tbody tr th:only-of-type {\n",
       "        vertical-align: middle;\n",
       "    }\n",
       "\n",
       "    .dataframe tbody tr th {\n",
       "        vertical-align: top;\n",
       "    }\n",
       "\n",
       "    .dataframe thead th {\n",
       "        text-align: right;\n",
       "    }\n",
       "</style>\n",
       "<table border=\"1\" class=\"dataframe\">\n",
       "  <thead>\n",
       "    <tr style=\"text-align: right;\">\n",
       "      <th></th>\n",
       "      <th>movieId</th>\n",
       "      <th>title</th>\n",
       "      <th>genres</th>\n",
       "    </tr>\n",
       "  </thead>\n",
       "  <tbody>\n",
       "    <tr>\n",
       "      <th>1229</th>\n",
       "      <td>2858</td>\n",
       "      <td>American Beauty (1999)</td>\n",
       "      <td>Comedy|Drama</td>\n",
       "    </tr>\n",
       "    <tr>\n",
       "      <th>390</th>\n",
       "      <td>858</td>\n",
       "      <td>Godfather, The (1972)</td>\n",
       "      <td>Crime|Drama</td>\n",
       "    </tr>\n",
       "    <tr>\n",
       "      <th>37</th>\n",
       "      <td>50</td>\n",
       "      <td>Usual Suspects, The (1995)</td>\n",
       "      <td>Crime|Mystery|Thriller</td>\n",
       "    </tr>\n",
       "    <tr>\n",
       "      <th>1743</th>\n",
       "      <td>4973</td>\n",
       "      <td>Amelie (Fabuleux destin d'Amélie Poulain, Le) ...</td>\n",
       "      <td>Comedy|Romance</td>\n",
       "    </tr>\n",
       "    <tr>\n",
       "      <th>2122</th>\n",
       "      <td>44191</td>\n",
       "      <td>V for Vendetta (2006)</td>\n",
       "      <td>Action|Sci-Fi|Thriller|IMAX</td>\n",
       "    </tr>\n",
       "    <tr>\n",
       "      <th>565</th>\n",
       "      <td>1221</td>\n",
       "      <td>Godfather: Part II, The (1974)</td>\n",
       "      <td>Crime|Drama</td>\n",
       "    </tr>\n",
       "    <tr>\n",
       "      <th>1978</th>\n",
       "      <td>7361</td>\n",
       "      <td>Eternal Sunshine of the Spotless Mind (2004)</td>\n",
       "      <td>Drama|Romance|Sci-Fi</td>\n",
       "    </tr>\n",
       "    <tr>\n",
       "      <th>1123</th>\n",
       "      <td>2542</td>\n",
       "      <td>Lock, Stock &amp; Two Smoking Barrels (1998)</td>\n",
       "      <td>Comedy|Crime|Thriller</td>\n",
       "    </tr>\n",
       "    <tr>\n",
       "      <th>1635</th>\n",
       "      <td>4226</td>\n",
       "      <td>Memento (2000)</td>\n",
       "      <td>Mystery|Thriller</td>\n",
       "    </tr>\n",
       "    <tr>\n",
       "      <th>1279</th>\n",
       "      <td>2997</td>\n",
       "      <td>Being John Malkovich (1999)</td>\n",
       "      <td>Comedy|Drama|Fantasy</td>\n",
       "    </tr>\n",
       "  </tbody>\n",
       "</table>\n",
       "</div>"
      ],
      "text/plain": [
       "      movieId                                              title  \\\n",
       "1229     2858                             American Beauty (1999)   \n",
       "390       858                              Godfather, The (1972)   \n",
       "37         50                         Usual Suspects, The (1995)   \n",
       "1743     4973  Amelie (Fabuleux destin d'Amélie Poulain, Le) ...   \n",
       "2122    44191                              V for Vendetta (2006)   \n",
       "565      1221                     Godfather: Part II, The (1974)   \n",
       "1978     7361       Eternal Sunshine of the Spotless Mind (2004)   \n",
       "1123     2542           Lock, Stock & Two Smoking Barrels (1998)   \n",
       "1635     4226                                     Memento (2000)   \n",
       "1279     2997                        Being John Malkovich (1999)   \n",
       "\n",
       "                           genres  \n",
       "1229                 Comedy|Drama  \n",
       "390                   Crime|Drama  \n",
       "37         Crime|Mystery|Thriller  \n",
       "1743               Comedy|Romance  \n",
       "2122  Action|Sci-Fi|Thriller|IMAX  \n",
       "565                   Crime|Drama  \n",
       "1978         Drama|Romance|Sci-Fi  \n",
       "1123        Comedy|Crime|Thriller  \n",
       "1635             Mystery|Thriller  \n",
       "1279         Comedy|Drama|Fantasy  "
      ]
     },
     "execution_count": 25,
     "metadata": {},
     "output_type": "execute_result"
    }
   ],
   "source": [
    "Predictit_movie"
   ]
  },
  {
   "cell_type": "code",
   "execution_count": 26,
   "metadata": {},
   "outputs": [
    {
     "data": {
      "text/html": [
       "<div>\n",
       "<style scoped>\n",
       "    .dataframe tbody tr th:only-of-type {\n",
       "        vertical-align: middle;\n",
       "    }\n",
       "\n",
       "    .dataframe tbody tr th {\n",
       "        vertical-align: top;\n",
       "    }\n",
       "\n",
       "    .dataframe thead th {\n",
       "        text-align: right;\n",
       "    }\n",
       "</style>\n",
       "<table border=\"1\" class=\"dataframe\">\n",
       "  <thead>\n",
       "    <tr style=\"text-align: right;\">\n",
       "      <th></th>\n",
       "      <th>userId</th>\n",
       "      <th>movieId</th>\n",
       "      <th>rating</th>\n",
       "      <th>timestamp</th>\n",
       "      <th>title</th>\n",
       "      <th>genres</th>\n",
       "    </tr>\n",
       "  </thead>\n",
       "  <tbody>\n",
       "    <tr>\n",
       "      <th>119</th>\n",
       "      <td>316</td>\n",
       "      <td>8376</td>\n",
       "      <td>5.0</td>\n",
       "      <td>1150747280</td>\n",
       "      <td>Napoleon Dynamite (2004)</td>\n",
       "      <td>Comedy</td>\n",
       "    </tr>\n",
       "    <tr>\n",
       "      <th>125</th>\n",
       "      <td>316</td>\n",
       "      <td>34405</td>\n",
       "      <td>5.0</td>\n",
       "      <td>1150745547</td>\n",
       "      <td>Serenity (2005)</td>\n",
       "      <td>Action|Adventure|Sci-Fi</td>\n",
       "    </tr>\n",
       "    <tr>\n",
       "      <th>40</th>\n",
       "      <td>316</td>\n",
       "      <td>1210</td>\n",
       "      <td>4.5</td>\n",
       "      <td>1150538739</td>\n",
       "      <td>Star Wars: Episode VI - Return of the Jedi (1983)</td>\n",
       "      <td>Action|Adventure|Sci-Fi</td>\n",
       "    </tr>\n",
       "    <tr>\n",
       "      <th>38</th>\n",
       "      <td>316</td>\n",
       "      <td>1196</td>\n",
       "      <td>4.5</td>\n",
       "      <td>1150538750</td>\n",
       "      <td>Star Wars: Episode V - The Empire Strikes Back...</td>\n",
       "      <td>Action|Adventure|Sci-Fi</td>\n",
       "    </tr>\n",
       "    <tr>\n",
       "      <th>121</th>\n",
       "      <td>316</td>\n",
       "      <td>32587</td>\n",
       "      <td>4.5</td>\n",
       "      <td>1150538517</td>\n",
       "      <td>Sin City (2005)</td>\n",
       "      <td>Action|Crime|Film-Noir|Mystery|Thriller</td>\n",
       "    </tr>\n",
       "    <tr>\n",
       "      <th>...</th>\n",
       "      <td>...</td>\n",
       "      <td>...</td>\n",
       "      <td>...</td>\n",
       "      <td>...</td>\n",
       "      <td>...</td>\n",
       "      <td>...</td>\n",
       "    </tr>\n",
       "    <tr>\n",
       "      <th>19</th>\n",
       "      <td>316</td>\n",
       "      <td>370</td>\n",
       "      <td>2.0</td>\n",
       "      <td>1150538109</td>\n",
       "      <td>Naked Gun 33 1/3: The Final Insult (1994)</td>\n",
       "      <td>Action|Comedy</td>\n",
       "    </tr>\n",
       "    <tr>\n",
       "      <th>15</th>\n",
       "      <td>316</td>\n",
       "      <td>329</td>\n",
       "      <td>2.0</td>\n",
       "      <td>1150538776</td>\n",
       "      <td>Star Trek: Generations (1994)</td>\n",
       "      <td>Adventure|Drama|Sci-Fi</td>\n",
       "    </tr>\n",
       "    <tr>\n",
       "      <th>4</th>\n",
       "      <td>316</td>\n",
       "      <td>34</td>\n",
       "      <td>2.0</td>\n",
       "      <td>1150538278</td>\n",
       "      <td>Babe (1995)</td>\n",
       "      <td>Children|Drama</td>\n",
       "    </tr>\n",
       "    <tr>\n",
       "      <th>64</th>\n",
       "      <td>316</td>\n",
       "      <td>1721</td>\n",
       "      <td>1.5</td>\n",
       "      <td>1150538821</td>\n",
       "      <td>Titanic (1997)</td>\n",
       "      <td>Drama|Romance</td>\n",
       "    </tr>\n",
       "    <tr>\n",
       "      <th>6</th>\n",
       "      <td>316</td>\n",
       "      <td>160</td>\n",
       "      <td>1.0</td>\n",
       "      <td>1150538068</td>\n",
       "      <td>Congo (1995)</td>\n",
       "      <td>Action|Adventure|Mystery|Sci-Fi</td>\n",
       "    </tr>\n",
       "  </tbody>\n",
       "</table>\n",
       "<p>129 rows × 6 columns</p>\n",
       "</div>"
      ],
      "text/plain": [
       "     userId  movieId  rating   timestamp  \\\n",
       "119     316     8376     5.0  1150747280   \n",
       "125     316    34405     5.0  1150745547   \n",
       "40      316     1210     4.5  1150538739   \n",
       "38      316     1196     4.5  1150538750   \n",
       "121     316    32587     4.5  1150538517   \n",
       "..      ...      ...     ...         ...   \n",
       "19      316      370     2.0  1150538109   \n",
       "15      316      329     2.0  1150538776   \n",
       "4       316       34     2.0  1150538278   \n",
       "64      316     1721     1.5  1150538821   \n",
       "6       316      160     1.0  1150538068   \n",
       "\n",
       "                                                 title  \\\n",
       "119                           Napoleon Dynamite (2004)   \n",
       "125                                    Serenity (2005)   \n",
       "40   Star Wars: Episode VI - Return of the Jedi (1983)   \n",
       "38   Star Wars: Episode V - The Empire Strikes Back...   \n",
       "121                                    Sin City (2005)   \n",
       "..                                                 ...   \n",
       "19           Naked Gun 33 1/3: The Final Insult (1994)   \n",
       "15                       Star Trek: Generations (1994)   \n",
       "4                                          Babe (1995)   \n",
       "64                                      Titanic (1997)   \n",
       "6                                         Congo (1995)   \n",
       "\n",
       "                                      genres  \n",
       "119                                   Comedy  \n",
       "125                  Action|Adventure|Sci-Fi  \n",
       "40                   Action|Adventure|Sci-Fi  \n",
       "38                   Action|Adventure|Sci-Fi  \n",
       "121  Action|Crime|Film-Noir|Mystery|Thriller  \n",
       "..                                       ...  \n",
       "19                             Action|Comedy  \n",
       "15                    Adventure|Drama|Sci-Fi  \n",
       "4                             Children|Drama  \n",
       "64                             Drama|Romance  \n",
       "6            Action|Adventure|Mystery|Sci-Fi  \n",
       "\n",
       "[129 rows x 6 columns]"
      ]
     },
     "execution_count": 26,
     "metadata": {},
     "output_type": "execute_result"
    }
   ],
   "source": [
    "already_rated"
   ]
  },
  {
   "cell_type": "markdown",
   "metadata": {},
   "source": [
    "### calculating for diffrent k  (singular value)"
   ]
  },
  {
   "cell_type": "code",
   "execution_count": 27,
   "metadata": {},
   "outputs": [],
   "source": [
    "# k = 20\n",
    "U, sigma, Vt = svds(rating_balance, k = 20)"
   ]
  },
  {
   "cell_type": "code",
   "execution_count": 28,
   "metadata": {},
   "outputs": [],
   "source": [
    "sigma = diag(sigma)"
   ]
  },
  {
   "cell_type": "code",
   "execution_count": 29,
   "metadata": {},
   "outputs": [],
   "source": [
    "result = np.dot(np.dot(U,sigma), Vt)\n",
    "result = result + user_ratings_mean.reshape(-1, 1)"
   ]
  },
  {
   "cell_type": "code",
   "execution_count": 292,
   "metadata": {},
   "outputs": [
    {
     "data": {
      "text/plain": [
       "0.8725668360234073"
      ]
     },
     "execution_count": 292,
     "metadata": {},
     "output_type": "execute_result"
    }
   ],
   "source": [
    "rms = sqrt(mean_squared_error(rating_data_np,result))\n",
    "rms"
   ]
  },
  {
   "cell_type": "code",
   "execution_count": 32,
   "metadata": {},
   "outputs": [],
   "source": [
    "U, sigma, Vt = svds(rating_balance, k = 70)\n"
   ]
  },
  {
   "cell_type": "code",
   "execution_count": 33,
   "metadata": {},
   "outputs": [],
   "source": [
    "sigma = diag(sigma)"
   ]
  },
  {
   "cell_type": "code",
   "execution_count": 34,
   "metadata": {},
   "outputs": [],
   "source": [
    "result = np.dot(np.dot(U,sigma), Vt)\n",
    "result = result + user_ratings_mean.reshape(-1, 1)"
   ]
  },
  {
   "cell_type": "code",
   "execution_count": 43,
   "metadata": {},
   "outputs": [
    {
     "data": {
      "text/plain": [
       "0.7632433429776845"
      ]
     },
     "execution_count": 43,
     "metadata": {},
     "output_type": "execute_result"
    }
   ],
   "source": [
    "rms = sqrt(mean_squared_error(rating_data_np,result))\n",
    "rms"
   ]
  },
  {
   "cell_type": "markdown",
   "metadata": {},
   "source": [
    "### as we can see above we have tried with diffrent k value and k = 70 it is giving best fit as it is giving minimum root mena squqre error "
   ]
  },
  {
   "cell_type": "markdown",
   "metadata": {},
   "source": [
    "### svd calculation susing  surprise pakage "
   ]
  },
  {
   "cell_type": "code",
   "execution_count": 35,
   "metadata": {},
   "outputs": [],
   "source": [
    "data = data[['userId', 'movieId', 'rating', 'timestamp']]\n"
   ]
  },
  {
   "cell_type": "code",
   "execution_count": 36,
   "metadata": {},
   "outputs": [],
   "source": [
    "data = data.iloc[:, :-1]"
   ]
  },
  {
   "cell_type": "code",
   "execution_count": 37,
   "metadata": {},
   "outputs": [],
   "source": [
    "reader = Reader()\n",
    "data = Dataset.load_from_df(data[['userId', 'movieId', 'rating']], reader)"
   ]
  },
  {
   "cell_type": "code",
   "execution_count": 38,
   "metadata": {},
   "outputs": [
    {
     "data": {
      "text/plain": [
       "<surprise.dataset.DatasetAutoFolds at 0x1a20f2da90>"
      ]
     },
     "execution_count": 38,
     "metadata": {},
     "output_type": "execute_result"
    }
   ],
   "source": [
    "data"
   ]
  },
  {
   "cell_type": "code",
   "execution_count": 39,
   "metadata": {},
   "outputs": [],
   "source": [
    "# spliting data into train and test set \n",
    "from surprise.model_selection import train_test_split\n",
    "\n",
    "trainset, testset = train_test_split(data, test_size=0.20)"
   ]
  },
  {
   "cell_type": "markdown",
   "metadata": {},
   "source": [
    "###  we will train the model using traindata and predict useing test set "
   ]
  },
  {
   "cell_type": "code",
   "execution_count": 40,
   "metadata": {},
   "outputs": [
    {
     "data": {
      "text/plain": [
       "<surprise.prediction_algorithms.matrix_factorization.SVD at 0x1a20f2dc90>"
      ]
     },
     "execution_count": 40,
     "metadata": {},
     "output_type": "execute_result"
    }
   ],
   "source": [
    "algo = SVD()\n",
    "algo.fit(trainset)"
   ]
  },
  {
   "cell_type": "code",
   "execution_count": 41,
   "metadata": {},
   "outputs": [],
   "source": [
    "predictions = algo.test(testset)"
   ]
  },
  {
   "cell_type": "code",
   "execution_count": 42,
   "metadata": {},
   "outputs": [
    {
     "name": "stdout",
     "output_type": "stream",
     "text": [
      "RMSE: 0.7806\n"
     ]
    },
    {
     "data": {
      "text/plain": [
       "0.7805953661602242"
      ]
     },
     "execution_count": 42,
     "metadata": {},
     "output_type": "execute_result"
    }
   ],
   "source": [
    "# accuracy in test set \n",
    "accuracy.rmse(predictions)"
   ]
  },
  {
   "cell_type": "markdown",
   "metadata": {},
   "source": [
    "### Benifit of using SVD\n",
    "\n",
    "1. Discover hidden corelation/topics and words that are commonly occour together \n",
    "2. Remove redundent and noisy fetaures\n",
    "3. Interpretation of visulaisation \n",
    "4. Easier  storage and processing of data \n"
   ]
  },
  {
   "cell_type": "markdown",
   "metadata": {},
   "source": [
    "### challanges usig SVD\n",
    "\n",
    "1. A singular vector specify a linear combination of all input columns or row \n",
    "2. singular vector are denser than original matrix \n",
    "3. Time complexity is very high o(nm2) or (mn2) \n"
   ]
  },
  {
   "cell_type": "markdown",
   "metadata": {},
   "source": [
    "# Conclusion \n",
    "\n",
    "From the above discussion we can say that for K =70 rmse is lower. So we will consider K = 70 is best fit in this particular case.\n",
    "\n",
    "We can even find best K value using Gradient descent which we did not discussion to make the algoritm simple and \n",
    "focus more on SVD than other methodologies.\n",
    "\n",
    "To verify our predicttion we can see the genres of Predictit_movie(not rated movie) , already_rated(rated movie) \n",
    "are similar .So we can trust our prediction and say logically it is predicting sound.\n",
    "\n",
    "For the same data we apply svd using surprise pakage and train the model using train data and apply that in test data \n",
    "and got rmse of 0.790716202956183. Which is good for this huge data set.\n",
    "\n"
   ]
  }
 ],
 "metadata": {
  "kernelspec": {
   "display_name": "Python 3",
   "language": "python",
   "name": "python3"
  },
  "language_info": {
   "codemirror_mode": {
    "name": "ipython",
    "version": 3
   },
   "file_extension": ".py",
   "mimetype": "text/x-python",
   "name": "python",
   "nbconvert_exporter": "python",
   "pygments_lexer": "ipython3",
   "version": "3.7.6"
  }
 },
 "nbformat": 4,
 "nbformat_minor": 4
}
