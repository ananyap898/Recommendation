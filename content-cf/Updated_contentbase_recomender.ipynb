{
 "cells": [
  {
   "cell_type": "markdown",
   "metadata": {},
   "source": [
    "# DATA612\n",
    "### PROJECT 2 :Content-Based and Collaborative Filtering\n",
    "### Ananya"
   ]
  },
  {
   "cell_type": "markdown",
   "metadata": {},
   "source": [
    "# content  based recommnedation system \n",
    "   Content based recomendation system first step is to exatct important feature from the data set and merge them\n",
    "   to create a bag o words and calculate doc-tfidf score. \n",
    "   calculate the cosine similarity to find similar movie based on it's content.\n",
    "   Then recommend top similar product to user. \n",
    "\n"
   ]
  },
  {
   "cell_type": "code",
   "execution_count": 272,
   "metadata": {},
   "outputs": [],
   "source": [
    "# importing required library \n",
    "import pandas as pd\n",
    "from sklearn.feature_extraction.text import TfidfVectorizer\n",
    "from sklearn.metrics.pairwise import linear_kernel\n",
    "from sklearn.feature_extraction import text\n",
    "import matplotlib.pyplot as plt\n",
    "import numpy as np\n",
    "import seaborn as sns\n"
   ]
  },
  {
   "cell_type": "code",
   "execution_count": 273,
   "metadata": {},
   "outputs": [
    {
     "data": {
      "text/html": [
       "<div>\n",
       "<style scoped>\n",
       "    .dataframe tbody tr th:only-of-type {\n",
       "        vertical-align: middle;\n",
       "    }\n",
       "\n",
       "    .dataframe tbody tr th {\n",
       "        vertical-align: top;\n",
       "    }\n",
       "\n",
       "    .dataframe thead th {\n",
       "        text-align: right;\n",
       "    }\n",
       "</style>\n",
       "<table border=\"1\" class=\"dataframe\">\n",
       "  <thead>\n",
       "    <tr style=\"text-align: right;\">\n",
       "      <th></th>\n",
       "      <th>Rank</th>\n",
       "      <th>Title</th>\n",
       "      <th>Genre</th>\n",
       "      <th>Description</th>\n",
       "      <th>Director</th>\n",
       "      <th>Actors</th>\n",
       "      <th>Year</th>\n",
       "      <th>Runtime (Minutes)</th>\n",
       "      <th>Rating</th>\n",
       "      <th>Votes</th>\n",
       "      <th>Revenue (Millions)</th>\n",
       "      <th>Metascore</th>\n",
       "    </tr>\n",
       "  </thead>\n",
       "  <tbody>\n",
       "    <tr>\n",
       "      <th>0</th>\n",
       "      <td>1</td>\n",
       "      <td>Guardians of the Galaxy</td>\n",
       "      <td>Action,Adventure,Sci-Fi</td>\n",
       "      <td>A group of intergalactic criminals are forced ...</td>\n",
       "      <td>James Gunn</td>\n",
       "      <td>Chris Pratt, Vin Diesel, Bradley Cooper, Zoe S...</td>\n",
       "      <td>2014</td>\n",
       "      <td>121</td>\n",
       "      <td>8.1</td>\n",
       "      <td>757074</td>\n",
       "      <td>333.13</td>\n",
       "      <td>76.0</td>\n",
       "    </tr>\n",
       "    <tr>\n",
       "      <th>1</th>\n",
       "      <td>2</td>\n",
       "      <td>Prometheus</td>\n",
       "      <td>Adventure,Mystery,Sci-Fi</td>\n",
       "      <td>Following clues to the origin of mankind, a te...</td>\n",
       "      <td>Ridley Scott</td>\n",
       "      <td>Noomi Rapace, Logan Marshall-Green, Michael Fa...</td>\n",
       "      <td>2012</td>\n",
       "      <td>124</td>\n",
       "      <td>7.0</td>\n",
       "      <td>485820</td>\n",
       "      <td>126.46</td>\n",
       "      <td>65.0</td>\n",
       "    </tr>\n",
       "    <tr>\n",
       "      <th>2</th>\n",
       "      <td>3</td>\n",
       "      <td>Split</td>\n",
       "      <td>Horror,Thriller</td>\n",
       "      <td>Three girls are kidnapped by a man with a diag...</td>\n",
       "      <td>M. Night Shyamalan</td>\n",
       "      <td>James McAvoy, Anya Taylor-Joy, Haley Lu Richar...</td>\n",
       "      <td>2016</td>\n",
       "      <td>117</td>\n",
       "      <td>7.3</td>\n",
       "      <td>157606</td>\n",
       "      <td>138.12</td>\n",
       "      <td>62.0</td>\n",
       "    </tr>\n",
       "    <tr>\n",
       "      <th>3</th>\n",
       "      <td>4</td>\n",
       "      <td>Sing</td>\n",
       "      <td>Animation,Comedy,Family</td>\n",
       "      <td>In a city of humanoid animals, a hustling thea...</td>\n",
       "      <td>Christophe Lourdelet</td>\n",
       "      <td>Matthew McConaughey,Reese Witherspoon, Seth Ma...</td>\n",
       "      <td>2016</td>\n",
       "      <td>108</td>\n",
       "      <td>7.2</td>\n",
       "      <td>60545</td>\n",
       "      <td>270.32</td>\n",
       "      <td>59.0</td>\n",
       "    </tr>\n",
       "    <tr>\n",
       "      <th>4</th>\n",
       "      <td>5</td>\n",
       "      <td>Suicide Squad</td>\n",
       "      <td>Action,Adventure,Fantasy</td>\n",
       "      <td>A secret government agency recruits some of th...</td>\n",
       "      <td>David Ayer</td>\n",
       "      <td>Will Smith, Jared Leto, Margot Robbie, Viola D...</td>\n",
       "      <td>2016</td>\n",
       "      <td>123</td>\n",
       "      <td>6.2</td>\n",
       "      <td>393727</td>\n",
       "      <td>325.02</td>\n",
       "      <td>40.0</td>\n",
       "    </tr>\n",
       "  </tbody>\n",
       "</table>\n",
       "</div>"
      ],
      "text/plain": [
       "   Rank                    Title                     Genre  \\\n",
       "0     1  Guardians of the Galaxy   Action,Adventure,Sci-Fi   \n",
       "1     2               Prometheus  Adventure,Mystery,Sci-Fi   \n",
       "2     3                    Split           Horror,Thriller   \n",
       "3     4                     Sing   Animation,Comedy,Family   \n",
       "4     5            Suicide Squad  Action,Adventure,Fantasy   \n",
       "\n",
       "                                         Description              Director  \\\n",
       "0  A group of intergalactic criminals are forced ...            James Gunn   \n",
       "1  Following clues to the origin of mankind, a te...          Ridley Scott   \n",
       "2  Three girls are kidnapped by a man with a diag...    M. Night Shyamalan   \n",
       "3  In a city of humanoid animals, a hustling thea...  Christophe Lourdelet   \n",
       "4  A secret government agency recruits some of th...            David Ayer   \n",
       "\n",
       "                                              Actors  Year  Runtime (Minutes)  \\\n",
       "0  Chris Pratt, Vin Diesel, Bradley Cooper, Zoe S...  2014                121   \n",
       "1  Noomi Rapace, Logan Marshall-Green, Michael Fa...  2012                124   \n",
       "2  James McAvoy, Anya Taylor-Joy, Haley Lu Richar...  2016                117   \n",
       "3  Matthew McConaughey,Reese Witherspoon, Seth Ma...  2016                108   \n",
       "4  Will Smith, Jared Leto, Margot Robbie, Viola D...  2016                123   \n",
       "\n",
       "   Rating   Votes  Revenue (Millions)  Metascore  \n",
       "0     8.1  757074              333.13       76.0  \n",
       "1     7.0  485820              126.46       65.0  \n",
       "2     7.3  157606              138.12       62.0  \n",
       "3     7.2   60545              270.32       59.0  \n",
       "4     6.2  393727              325.02       40.0  "
      ]
     },
     "execution_count": 273,
     "metadata": {},
     "output_type": "execute_result"
    }
   ],
   "source": [
    "# reading data set \n",
    "ds1 = pd.read_csv(r\"datasets-imdb-1000.csv\")\n",
    "ds1.head(5)"
   ]
  },
  {
   "cell_type": "code",
   "execution_count": 257,
   "metadata": {},
   "outputs": [
    {
     "name": "stdout",
     "output_type": "stream",
     "text": [
      "<class 'pandas.core.frame.DataFrame'>\n",
      "RangeIndex: 1000 entries, 0 to 999\n",
      "Data columns (total 12 columns):\n",
      " #   Column              Non-Null Count  Dtype  \n",
      "---  ------              --------------  -----  \n",
      " 0   Rank                1000 non-null   int64  \n",
      " 1   Title               1000 non-null   object \n",
      " 2   Genre               1000 non-null   object \n",
      " 3   Description         1000 non-null   object \n",
      " 4   Director            1000 non-null   object \n",
      " 5   Actors              1000 non-null   object \n",
      " 6   Year                1000 non-null   int64  \n",
      " 7   Runtime (Minutes)   1000 non-null   int64  \n",
      " 8   Rating              1000 non-null   float64\n",
      " 9   Votes               1000 non-null   int64  \n",
      " 10  Revenue (Millions)  872 non-null    float64\n",
      " 11  Metascore           936 non-null    float64\n",
      "dtypes: float64(3), int64(4), object(5)\n",
      "memory usage: 93.9+ KB\n"
     ]
    }
   ],
   "source": [
    "# inforamation about the data \n",
    "ds1.info()"
   ]
  },
  {
   "cell_type": "code",
   "execution_count": 274,
   "metadata": {},
   "outputs": [
    {
     "data": {
      "text/plain": [
       "12000"
      ]
     },
     "execution_count": 274,
     "metadata": {},
     "output_type": "execute_result"
    }
   ],
   "source": [
    "# size of data \n",
    "ds1.size"
   ]
  },
  {
   "cell_type": "code",
   "execution_count": 275,
   "metadata": {},
   "outputs": [
    {
     "data": {
      "text/plain": [
       "(1000, 12)"
      ]
     },
     "execution_count": 275,
     "metadata": {},
     "output_type": "execute_result"
    }
   ],
   "source": [
    "ds1.shape"
   ]
  },
  {
   "cell_type": "code",
   "execution_count": 276,
   "metadata": {},
   "outputs": [],
   "source": [
    "# spliting data into test train split \n",
    "train = ds1.sample(frac=0.8, random_state=200)\n",
    "test = ds1.drop(train.index)\n"
   ]
  },
  {
   "cell_type": "code",
   "execution_count": 277,
   "metadata": {},
   "outputs": [
    {
     "data": {
      "text/html": [
       "<div>\n",
       "<style scoped>\n",
       "    .dataframe tbody tr th:only-of-type {\n",
       "        vertical-align: middle;\n",
       "    }\n",
       "\n",
       "    .dataframe tbody tr th {\n",
       "        vertical-align: top;\n",
       "    }\n",
       "\n",
       "    .dataframe thead th {\n",
       "        text-align: right;\n",
       "    }\n",
       "</style>\n",
       "<table border=\"1\" class=\"dataframe\">\n",
       "  <thead>\n",
       "    <tr style=\"text-align: right;\">\n",
       "      <th></th>\n",
       "      <th>Rank</th>\n",
       "      <th>Title</th>\n",
       "      <th>Genre</th>\n",
       "      <th>Description</th>\n",
       "      <th>Director</th>\n",
       "      <th>Actors</th>\n",
       "      <th>Year</th>\n",
       "      <th>Runtime (Minutes)</th>\n",
       "      <th>Rating</th>\n",
       "      <th>Votes</th>\n",
       "      <th>Revenue (Millions)</th>\n",
       "      <th>Metascore</th>\n",
       "    </tr>\n",
       "  </thead>\n",
       "  <tbody>\n",
       "    <tr>\n",
       "      <th>674</th>\n",
       "      <td>675</td>\n",
       "      <td>War on Everyone</td>\n",
       "      <td>Action,Comedy</td>\n",
       "      <td>Two corrupt cops set out to blackmail and fram...</td>\n",
       "      <td>John Michael McDonagh</td>\n",
       "      <td>Alexander Skarsgård, Michael Peña, Theo James,...</td>\n",
       "      <td>2016</td>\n",
       "      <td>98</td>\n",
       "      <td>5.9</td>\n",
       "      <td>9285</td>\n",
       "      <td>NaN</td>\n",
       "      <td>50.0</td>\n",
       "    </tr>\n",
       "    <tr>\n",
       "      <th>233</th>\n",
       "      <td>234</td>\n",
       "      <td>Mission: Impossible - Rogue Nation</td>\n",
       "      <td>Action,Adventure,Thriller</td>\n",
       "      <td>Ethan and team take on their most impossible m...</td>\n",
       "      <td>Christopher McQuarrie</td>\n",
       "      <td>Tom Cruise, Rebecca Ferguson, Jeremy Renner, S...</td>\n",
       "      <td>2015</td>\n",
       "      <td>131</td>\n",
       "      <td>7.4</td>\n",
       "      <td>257472</td>\n",
       "      <td>195.00</td>\n",
       "      <td>75.0</td>\n",
       "    </tr>\n",
       "    <tr>\n",
       "      <th>739</th>\n",
       "      <td>740</td>\n",
       "      <td>The Mummy: Tomb of the Dragon Emperor</td>\n",
       "      <td>Action,Adventure,Fantasy</td>\n",
       "      <td>In the Far East, Alex O'Connell, the son of fa...</td>\n",
       "      <td>Rob Cohen</td>\n",
       "      <td>Brendan Fraser, Jet Li, Maria Bello, Michelle ...</td>\n",
       "      <td>2008</td>\n",
       "      <td>112</td>\n",
       "      <td>5.2</td>\n",
       "      <td>124554</td>\n",
       "      <td>102.18</td>\n",
       "      <td>31.0</td>\n",
       "    </tr>\n",
       "    <tr>\n",
       "      <th>865</th>\n",
       "      <td>866</td>\n",
       "      <td>Horns</td>\n",
       "      <td>Drama,Fantasy,Horror</td>\n",
       "      <td>In the aftermath of his girlfriend's mysteriou...</td>\n",
       "      <td>Alexandre Aja</td>\n",
       "      <td>Daniel Radcliffe, Juno Temple, Max Minghella, ...</td>\n",
       "      <td>2013</td>\n",
       "      <td>120</td>\n",
       "      <td>6.5</td>\n",
       "      <td>61060</td>\n",
       "      <td>0.16</td>\n",
       "      <td>46.0</td>\n",
       "    </tr>\n",
       "    <tr>\n",
       "      <th>523</th>\n",
       "      <td>524</td>\n",
       "      <td>Whiskey Tango Foxtrot</td>\n",
       "      <td>Biography,Comedy,Drama</td>\n",
       "      <td>A journalist recounts her wartime coverage in ...</td>\n",
       "      <td>Glenn Ficarra</td>\n",
       "      <td>Tina Fey, Margot Robbie, Martin Freeman, Alfre...</td>\n",
       "      <td>2016</td>\n",
       "      <td>112</td>\n",
       "      <td>6.6</td>\n",
       "      <td>36156</td>\n",
       "      <td>NaN</td>\n",
       "      <td>NaN</td>\n",
       "    </tr>\n",
       "  </tbody>\n",
       "</table>\n",
       "</div>"
      ],
      "text/plain": [
       "     Rank                                  Title                      Genre  \\\n",
       "674   675                        War on Everyone              Action,Comedy   \n",
       "233   234     Mission: Impossible - Rogue Nation  Action,Adventure,Thriller   \n",
       "739   740  The Mummy: Tomb of the Dragon Emperor   Action,Adventure,Fantasy   \n",
       "865   866                                  Horns       Drama,Fantasy,Horror   \n",
       "523   524                  Whiskey Tango Foxtrot     Biography,Comedy,Drama   \n",
       "\n",
       "                                           Description               Director  \\\n",
       "674  Two corrupt cops set out to blackmail and fram...  John Michael McDonagh   \n",
       "233  Ethan and team take on their most impossible m...  Christopher McQuarrie   \n",
       "739  In the Far East, Alex O'Connell, the son of fa...              Rob Cohen   \n",
       "865  In the aftermath of his girlfriend's mysteriou...          Alexandre Aja   \n",
       "523  A journalist recounts her wartime coverage in ...          Glenn Ficarra   \n",
       "\n",
       "                                                Actors  Year  \\\n",
       "674  Alexander Skarsgård, Michael Peña, Theo James,...  2016   \n",
       "233  Tom Cruise, Rebecca Ferguson, Jeremy Renner, S...  2015   \n",
       "739  Brendan Fraser, Jet Li, Maria Bello, Michelle ...  2008   \n",
       "865  Daniel Radcliffe, Juno Temple, Max Minghella, ...  2013   \n",
       "523  Tina Fey, Margot Robbie, Martin Freeman, Alfre...  2016   \n",
       "\n",
       "     Runtime (Minutes)  Rating   Votes  Revenue (Millions)  Metascore  \n",
       "674                 98     5.9    9285                 NaN       50.0  \n",
       "233                131     7.4  257472              195.00       75.0  \n",
       "739                112     5.2  124554              102.18       31.0  \n",
       "865                120     6.5   61060                0.16       46.0  \n",
       "523                112     6.6   36156                 NaN        NaN  "
      ]
     },
     "execution_count": 277,
     "metadata": {},
     "output_type": "execute_result"
    }
   ],
   "source": [
    "train.head()\n"
   ]
  },
  {
   "cell_type": "code",
   "execution_count": 278,
   "metadata": {},
   "outputs": [
    {
     "data": {
      "text/plain": [
       "9600"
      ]
     },
     "execution_count": 278,
     "metadata": {},
     "output_type": "execute_result"
    }
   ],
   "source": [
    "train.size"
   ]
  },
  {
   "cell_type": "code",
   "execution_count": 279,
   "metadata": {},
   "outputs": [
    {
     "data": {
      "text/plain": [
       "(800, 12)"
      ]
     },
     "execution_count": 279,
     "metadata": {},
     "output_type": "execute_result"
    }
   ],
   "source": [
    "train.shape"
   ]
  },
  {
   "cell_type": "code",
   "execution_count": 280,
   "metadata": {},
   "outputs": [
    {
     "data": {
      "text/html": [
       "<div>\n",
       "<style scoped>\n",
       "    .dataframe tbody tr th:only-of-type {\n",
       "        vertical-align: middle;\n",
       "    }\n",
       "\n",
       "    .dataframe tbody tr th {\n",
       "        vertical-align: top;\n",
       "    }\n",
       "\n",
       "    .dataframe thead th {\n",
       "        text-align: right;\n",
       "    }\n",
       "</style>\n",
       "<table border=\"1\" class=\"dataframe\">\n",
       "  <thead>\n",
       "    <tr style=\"text-align: right;\">\n",
       "      <th></th>\n",
       "      <th>Rank</th>\n",
       "      <th>Title</th>\n",
       "      <th>Genre</th>\n",
       "      <th>Description</th>\n",
       "      <th>Director</th>\n",
       "      <th>Actors</th>\n",
       "      <th>Year</th>\n",
       "      <th>Runtime (Minutes)</th>\n",
       "      <th>Rating</th>\n",
       "      <th>Votes</th>\n",
       "      <th>Revenue (Millions)</th>\n",
       "      <th>Metascore</th>\n",
       "    </tr>\n",
       "  </thead>\n",
       "  <tbody>\n",
       "    <tr>\n",
       "      <th>0</th>\n",
       "      <td>1</td>\n",
       "      <td>Guardians of the Galaxy</td>\n",
       "      <td>Action,Adventure,Sci-Fi</td>\n",
       "      <td>A group of intergalactic criminals are forced ...</td>\n",
       "      <td>James Gunn</td>\n",
       "      <td>Chris Pratt, Vin Diesel, Bradley Cooper, Zoe S...</td>\n",
       "      <td>2014</td>\n",
       "      <td>121</td>\n",
       "      <td>8.1</td>\n",
       "      <td>757074</td>\n",
       "      <td>333.13</td>\n",
       "      <td>76.0</td>\n",
       "    </tr>\n",
       "    <tr>\n",
       "      <th>2</th>\n",
       "      <td>3</td>\n",
       "      <td>Split</td>\n",
       "      <td>Horror,Thriller</td>\n",
       "      <td>Three girls are kidnapped by a man with a diag...</td>\n",
       "      <td>M. Night Shyamalan</td>\n",
       "      <td>James McAvoy, Anya Taylor-Joy, Haley Lu Richar...</td>\n",
       "      <td>2016</td>\n",
       "      <td>117</td>\n",
       "      <td>7.3</td>\n",
       "      <td>157606</td>\n",
       "      <td>138.12</td>\n",
       "      <td>62.0</td>\n",
       "    </tr>\n",
       "    <tr>\n",
       "      <th>6</th>\n",
       "      <td>7</td>\n",
       "      <td>La La Land</td>\n",
       "      <td>Comedy,Drama,Music</td>\n",
       "      <td>A jazz pianist falls for an aspiring actress i...</td>\n",
       "      <td>Damien Chazelle</td>\n",
       "      <td>Ryan Gosling, Emma Stone, Rosemarie DeWitt, J....</td>\n",
       "      <td>2016</td>\n",
       "      <td>128</td>\n",
       "      <td>8.3</td>\n",
       "      <td>258682</td>\n",
       "      <td>151.06</td>\n",
       "      <td>93.0</td>\n",
       "    </tr>\n",
       "    <tr>\n",
       "      <th>7</th>\n",
       "      <td>8</td>\n",
       "      <td>Mindhorn</td>\n",
       "      <td>Comedy</td>\n",
       "      <td>A has-been actor best known for playing the ti...</td>\n",
       "      <td>Sean Foley</td>\n",
       "      <td>Essie Davis, Andrea Riseborough, Julian Barrat...</td>\n",
       "      <td>2016</td>\n",
       "      <td>89</td>\n",
       "      <td>6.4</td>\n",
       "      <td>2490</td>\n",
       "      <td>NaN</td>\n",
       "      <td>71.0</td>\n",
       "    </tr>\n",
       "    <tr>\n",
       "      <th>10</th>\n",
       "      <td>11</td>\n",
       "      <td>Fantastic Beasts and Where to Find Them</td>\n",
       "      <td>Adventure,Family,Fantasy</td>\n",
       "      <td>The adventures of writer Newt Scamander in New...</td>\n",
       "      <td>David Yates</td>\n",
       "      <td>Eddie Redmayne, Katherine Waterston, Alison Su...</td>\n",
       "      <td>2016</td>\n",
       "      <td>133</td>\n",
       "      <td>7.5</td>\n",
       "      <td>232072</td>\n",
       "      <td>234.02</td>\n",
       "      <td>66.0</td>\n",
       "    </tr>\n",
       "  </tbody>\n",
       "</table>\n",
       "</div>"
      ],
      "text/plain": [
       "    Rank                                    Title                     Genre  \\\n",
       "0      1                  Guardians of the Galaxy   Action,Adventure,Sci-Fi   \n",
       "2      3                                    Split           Horror,Thriller   \n",
       "6      7                               La La Land        Comedy,Drama,Music   \n",
       "7      8                                 Mindhorn                    Comedy   \n",
       "10    11  Fantastic Beasts and Where to Find Them  Adventure,Family,Fantasy   \n",
       "\n",
       "                                          Description            Director  \\\n",
       "0   A group of intergalactic criminals are forced ...          James Gunn   \n",
       "2   Three girls are kidnapped by a man with a diag...  M. Night Shyamalan   \n",
       "6   A jazz pianist falls for an aspiring actress i...     Damien Chazelle   \n",
       "7   A has-been actor best known for playing the ti...          Sean Foley   \n",
       "10  The adventures of writer Newt Scamander in New...         David Yates   \n",
       "\n",
       "                                               Actors  Year  \\\n",
       "0   Chris Pratt, Vin Diesel, Bradley Cooper, Zoe S...  2014   \n",
       "2   James McAvoy, Anya Taylor-Joy, Haley Lu Richar...  2016   \n",
       "6   Ryan Gosling, Emma Stone, Rosemarie DeWitt, J....  2016   \n",
       "7   Essie Davis, Andrea Riseborough, Julian Barrat...  2016   \n",
       "10  Eddie Redmayne, Katherine Waterston, Alison Su...  2016   \n",
       "\n",
       "    Runtime (Minutes)  Rating   Votes  Revenue (Millions)  Metascore  \n",
       "0                 121     8.1  757074              333.13       76.0  \n",
       "2                 117     7.3  157606              138.12       62.0  \n",
       "6                 128     8.3  258682              151.06       93.0  \n",
       "7                  89     6.4    2490                 NaN       71.0  \n",
       "10                133     7.5  232072              234.02       66.0  "
      ]
     },
     "execution_count": 280,
     "metadata": {},
     "output_type": "execute_result"
    }
   ],
   "source": [
    "test.head()"
   ]
  },
  {
   "cell_type": "code",
   "execution_count": 265,
   "metadata": {},
   "outputs": [
    {
     "data": {
      "text/plain": [
       "2400"
      ]
     },
     "execution_count": 265,
     "metadata": {},
     "output_type": "execute_result"
    }
   ],
   "source": [
    "test.size"
   ]
  },
  {
   "cell_type": "markdown",
   "metadata": {},
   "source": [
    "### only considering required  5 attribute to create a content profile "
   ]
  },
  {
   "cell_type": "code",
   "execution_count": 291,
   "metadata": {},
   "outputs": [
    {
     "data": {
      "text/html": [
       "<div>\n",
       "<style scoped>\n",
       "    .dataframe tbody tr th:only-of-type {\n",
       "        vertical-align: middle;\n",
       "    }\n",
       "\n",
       "    .dataframe tbody tr th {\n",
       "        vertical-align: top;\n",
       "    }\n",
       "\n",
       "    .dataframe thead th {\n",
       "        text-align: right;\n",
       "    }\n",
       "</style>\n",
       "<table border=\"1\" class=\"dataframe\">\n",
       "  <thead>\n",
       "    <tr style=\"text-align: right;\">\n",
       "      <th></th>\n",
       "      <th>Title</th>\n",
       "      <th>Genre</th>\n",
       "      <th>Director</th>\n",
       "      <th>Actors</th>\n",
       "      <th>Description</th>\n",
       "    </tr>\n",
       "  </thead>\n",
       "  <tbody>\n",
       "    <tr>\n",
       "      <th>674</th>\n",
       "      <td>War on Everyone</td>\n",
       "      <td>Action,Comedy</td>\n",
       "      <td>John Michael McDonagh</td>\n",
       "      <td>Alexander Skarsgård, Michael Peña, Theo James,...</td>\n",
       "      <td>Two corrupt cops set out to blackmail and fram...</td>\n",
       "    </tr>\n",
       "    <tr>\n",
       "      <th>233</th>\n",
       "      <td>Mission: Impossible - Rogue Nation</td>\n",
       "      <td>Action,Adventure,Thriller</td>\n",
       "      <td>Christopher McQuarrie</td>\n",
       "      <td>Tom Cruise, Rebecca Ferguson, Jeremy Renner, S...</td>\n",
       "      <td>Ethan and team take on their most impossible m...</td>\n",
       "    </tr>\n",
       "    <tr>\n",
       "      <th>739</th>\n",
       "      <td>The Mummy: Tomb of the Dragon Emperor</td>\n",
       "      <td>Action,Adventure,Fantasy</td>\n",
       "      <td>Rob Cohen</td>\n",
       "      <td>Brendan Fraser, Jet Li, Maria Bello, Michelle ...</td>\n",
       "      <td>In the Far East, Alex O'Connell, the son of fa...</td>\n",
       "    </tr>\n",
       "    <tr>\n",
       "      <th>865</th>\n",
       "      <td>Horns</td>\n",
       "      <td>Drama,Fantasy,Horror</td>\n",
       "      <td>Alexandre Aja</td>\n",
       "      <td>Daniel Radcliffe, Juno Temple, Max Minghella, ...</td>\n",
       "      <td>In the aftermath of his girlfriend's mysteriou...</td>\n",
       "    </tr>\n",
       "    <tr>\n",
       "      <th>523</th>\n",
       "      <td>Whiskey Tango Foxtrot</td>\n",
       "      <td>Biography,Comedy,Drama</td>\n",
       "      <td>Glenn Ficarra</td>\n",
       "      <td>Tina Fey, Margot Robbie, Martin Freeman, Alfre...</td>\n",
       "      <td>A journalist recounts her wartime coverage in ...</td>\n",
       "    </tr>\n",
       "  </tbody>\n",
       "</table>\n",
       "</div>"
      ],
      "text/plain": [
       "                                     Title                      Genre  \\\n",
       "674                        War on Everyone              Action,Comedy   \n",
       "233     Mission: Impossible - Rogue Nation  Action,Adventure,Thriller   \n",
       "739  The Mummy: Tomb of the Dragon Emperor   Action,Adventure,Fantasy   \n",
       "865                                  Horns       Drama,Fantasy,Horror   \n",
       "523                  Whiskey Tango Foxtrot     Biography,Comedy,Drama   \n",
       "\n",
       "                  Director                                             Actors  \\\n",
       "674  John Michael McDonagh  Alexander Skarsgård, Michael Peña, Theo James,...   \n",
       "233  Christopher McQuarrie  Tom Cruise, Rebecca Ferguson, Jeremy Renner, S...   \n",
       "739              Rob Cohen  Brendan Fraser, Jet Li, Maria Bello, Michelle ...   \n",
       "865          Alexandre Aja  Daniel Radcliffe, Juno Temple, Max Minghella, ...   \n",
       "523          Glenn Ficarra  Tina Fey, Margot Robbie, Martin Freeman, Alfre...   \n",
       "\n",
       "                                           Description  \n",
       "674  Two corrupt cops set out to blackmail and fram...  \n",
       "233  Ethan and team take on their most impossible m...  \n",
       "739  In the Far East, Alex O'Connell, the son of fa...  \n",
       "865  In the aftermath of his girlfriend's mysteriou...  \n",
       "523  A journalist recounts her wartime coverage in ...  "
      ]
     },
     "execution_count": 291,
     "metadata": {},
     "output_type": "execute_result"
    }
   ],
   "source": [
    "df_train = train[['Title','Genre','Director','Actors','Description']]\n",
    "df_train.head()"
   ]
  },
  {
   "cell_type": "code",
   "execution_count": 292,
   "metadata": {},
   "outputs": [
    {
     "data": {
      "text/plain": [
       "(800, 5)"
      ]
     },
     "execution_count": 292,
     "metadata": {},
     "output_type": "execute_result"
    }
   ],
   "source": [
    "df_train.shape"
   ]
  },
  {
   "cell_type": "code",
   "execution_count": 293,
   "metadata": {},
   "outputs": [
    {
     "name": "stderr",
     "output_type": "stream",
     "text": [
      "/opt/anaconda3/lib/python3.7/site-packages/ipykernel_launcher.py:2: SettingWithCopyWarning: \n",
      "A value is trying to be set on a copy of a slice from a DataFrame.\n",
      "Try using .loc[row_indexer,col_indexer] = value instead\n",
      "\n",
      "See the caveats in the documentation: https://pandas.pydata.org/pandas-docs/stable/user_guide/indexing.html#returning-a-view-versus-a-copy\n",
      "  \n",
      "/opt/anaconda3/lib/python3.7/site-packages/ipykernel_launcher.py:5: SettingWithCopyWarning: \n",
      "A value is trying to be set on a copy of a slice from a DataFrame.\n",
      "Try using .loc[row_indexer,col_indexer] = value instead\n",
      "\n",
      "See the caveats in the documentation: https://pandas.pydata.org/pandas-docs/stable/user_guide/indexing.html#returning-a-view-versus-a-copy\n",
      "  \"\"\"\n",
      "/opt/anaconda3/lib/python3.7/site-packages/ipykernel_launcher.py:7: SettingWithCopyWarning: \n",
      "A value is trying to be set on a copy of a slice from a DataFrame.\n",
      "Try using .loc[row_indexer,col_indexer] = value instead\n",
      "\n",
      "See the caveats in the documentation: https://pandas.pydata.org/pandas-docs/stable/user_guide/indexing.html#returning-a-view-versus-a-copy\n",
      "  import sys\n"
     ]
    }
   ],
   "source": [
    "# discarding the commas between the actors' full names and getting only the first three names\n",
    "df_train['Actors'] = df_train['Actors'].map(lambda x: x.split(',')[:3])\n",
    "\n",
    "# creating geners a list \n",
    "df_train['Genre'] = df_train['Genre'].map(lambda x: x.lower().split(','))\n",
    "\n",
    "df_train['Director'] = df_train['Director'].map(lambda x: x.split(' '))\n",
    "\n",
    "# merging together first and last name for each actor and director \n",
    "for index, row in df_train.iterrows():\n",
    "    row['Actors'] = [x.lower().replace(' ','') for x in row['Actors']]\n",
    "    row['Director'] = ''.join(row['Director']).lower()\n"
   ]
  },
  {
   "cell_type": "code",
   "execution_count": 294,
   "metadata": {},
   "outputs": [
    {
     "data": {
      "text/html": [
       "<div>\n",
       "<style scoped>\n",
       "    .dataframe tbody tr th:only-of-type {\n",
       "        vertical-align: middle;\n",
       "    }\n",
       "\n",
       "    .dataframe tbody tr th {\n",
       "        vertical-align: top;\n",
       "    }\n",
       "\n",
       "    .dataframe thead th {\n",
       "        text-align: right;\n",
       "    }\n",
       "</style>\n",
       "<table border=\"1\" class=\"dataframe\">\n",
       "  <thead>\n",
       "    <tr style=\"text-align: right;\">\n",
       "      <th></th>\n",
       "      <th>Title</th>\n",
       "      <th>Genre</th>\n",
       "      <th>Director</th>\n",
       "      <th>Actors</th>\n",
       "      <th>Description</th>\n",
       "    </tr>\n",
       "  </thead>\n",
       "  <tbody>\n",
       "    <tr>\n",
       "      <th>674</th>\n",
       "      <td>War on Everyone</td>\n",
       "      <td>[action, comedy]</td>\n",
       "      <td>johnmichaelmcdonagh</td>\n",
       "      <td>[alexanderskarsgård, michaelpeña, theojames]</td>\n",
       "      <td>Two corrupt cops set out to blackmail and fram...</td>\n",
       "    </tr>\n",
       "    <tr>\n",
       "      <th>233</th>\n",
       "      <td>Mission: Impossible - Rogue Nation</td>\n",
       "      <td>[action, adventure, thriller]</td>\n",
       "      <td>christophermcquarrie</td>\n",
       "      <td>[tomcruise, rebeccaferguson, jeremyrenner]</td>\n",
       "      <td>Ethan and team take on their most impossible m...</td>\n",
       "    </tr>\n",
       "    <tr>\n",
       "      <th>739</th>\n",
       "      <td>The Mummy: Tomb of the Dragon Emperor</td>\n",
       "      <td>[action, adventure, fantasy]</td>\n",
       "      <td>robcohen</td>\n",
       "      <td>[brendanfraser, jetli, mariabello]</td>\n",
       "      <td>In the Far East, Alex O'Connell, the son of fa...</td>\n",
       "    </tr>\n",
       "    <tr>\n",
       "      <th>865</th>\n",
       "      <td>Horns</td>\n",
       "      <td>[drama, fantasy, horror]</td>\n",
       "      <td>alexandreaja</td>\n",
       "      <td>[danielradcliffe, junotemple, maxminghella]</td>\n",
       "      <td>In the aftermath of his girlfriend's mysteriou...</td>\n",
       "    </tr>\n",
       "    <tr>\n",
       "      <th>523</th>\n",
       "      <td>Whiskey Tango Foxtrot</td>\n",
       "      <td>[biography, comedy, drama]</td>\n",
       "      <td>glennficarra</td>\n",
       "      <td>[tinafey, margotrobbie, martinfreeman]</td>\n",
       "      <td>A journalist recounts her wartime coverage in ...</td>\n",
       "    </tr>\n",
       "    <tr>\n",
       "      <th>...</th>\n",
       "      <td>...</td>\n",
       "      <td>...</td>\n",
       "      <td>...</td>\n",
       "      <td>...</td>\n",
       "      <td>...</td>\n",
       "    </tr>\n",
       "    <tr>\n",
       "      <th>766</th>\n",
       "      <td>Ender's Game</td>\n",
       "      <td>[action, sci-fi]</td>\n",
       "      <td>gavinhood</td>\n",
       "      <td>[harrisonford, asabutterfield, haileesteinfeld]</td>\n",
       "      <td>Young Ender Wiggin is recruited by the Interna...</td>\n",
       "    </tr>\n",
       "    <tr>\n",
       "      <th>414</th>\n",
       "      <td>Mechanic: Resurrection</td>\n",
       "      <td>[action, adventure, crime]</td>\n",
       "      <td>dennisgansel</td>\n",
       "      <td>[jasonstatham, jessicaalba, tommyleejones]</td>\n",
       "      <td>Arthur Bishop thought he had put his murderous...</td>\n",
       "    </tr>\n",
       "    <tr>\n",
       "      <th>728</th>\n",
       "      <td>The A-Team</td>\n",
       "      <td>[action, adventure, comedy]</td>\n",
       "      <td>joecarnahan</td>\n",
       "      <td>[liamneeson, bradleycooper, sharltocopley]</td>\n",
       "      <td>A group of Iraq War veterans looks to clear th...</td>\n",
       "    </tr>\n",
       "    <tr>\n",
       "      <th>947</th>\n",
       "      <td>King Cobra</td>\n",
       "      <td>[crime, drama]</td>\n",
       "      <td>justinkelly</td>\n",
       "      <td>[garrettclayton, christianslater, mollyringwald]</td>\n",
       "      <td>This ripped-from-the-headlines drama covers th...</td>\n",
       "    </tr>\n",
       "    <tr>\n",
       "      <th>21</th>\n",
       "      <td>Manchester by the Sea</td>\n",
       "      <td>[drama]</td>\n",
       "      <td>kennethlonergan</td>\n",
       "      <td>[caseyaffleck, michellewilliams, kylechandler]</td>\n",
       "      <td>A depressed uncle is asked to take care of his...</td>\n",
       "    </tr>\n",
       "  </tbody>\n",
       "</table>\n",
       "<p>800 rows × 5 columns</p>\n",
       "</div>"
      ],
      "text/plain": [
       "                                     Title                          Genre  \\\n",
       "674                        War on Everyone               [action, comedy]   \n",
       "233     Mission: Impossible - Rogue Nation  [action, adventure, thriller]   \n",
       "739  The Mummy: Tomb of the Dragon Emperor   [action, adventure, fantasy]   \n",
       "865                                  Horns       [drama, fantasy, horror]   \n",
       "523                  Whiskey Tango Foxtrot     [biography, comedy, drama]   \n",
       "..                                     ...                            ...   \n",
       "766                           Ender's Game               [action, sci-fi]   \n",
       "414                 Mechanic: Resurrection     [action, adventure, crime]   \n",
       "728                             The A-Team    [action, adventure, comedy]   \n",
       "947                             King Cobra                 [crime, drama]   \n",
       "21                   Manchester by the Sea                        [drama]   \n",
       "\n",
       "                 Director                                            Actors  \\\n",
       "674   johnmichaelmcdonagh      [alexanderskarsgård, michaelpeña, theojames]   \n",
       "233  christophermcquarrie        [tomcruise, rebeccaferguson, jeremyrenner]   \n",
       "739              robcohen                [brendanfraser, jetli, mariabello]   \n",
       "865          alexandreaja       [danielradcliffe, junotemple, maxminghella]   \n",
       "523          glennficarra            [tinafey, margotrobbie, martinfreeman]   \n",
       "..                    ...                                               ...   \n",
       "766             gavinhood   [harrisonford, asabutterfield, haileesteinfeld]   \n",
       "414          dennisgansel        [jasonstatham, jessicaalba, tommyleejones]   \n",
       "728           joecarnahan        [liamneeson, bradleycooper, sharltocopley]   \n",
       "947           justinkelly  [garrettclayton, christianslater, mollyringwald]   \n",
       "21        kennethlonergan    [caseyaffleck, michellewilliams, kylechandler]   \n",
       "\n",
       "                                           Description  \n",
       "674  Two corrupt cops set out to blackmail and fram...  \n",
       "233  Ethan and team take on their most impossible m...  \n",
       "739  In the Far East, Alex O'Connell, the son of fa...  \n",
       "865  In the aftermath of his girlfriend's mysteriou...  \n",
       "523  A journalist recounts her wartime coverage in ...  \n",
       "..                                                 ...  \n",
       "766  Young Ender Wiggin is recruited by the Interna...  \n",
       "414  Arthur Bishop thought he had put his murderous...  \n",
       "728  A group of Iraq War veterans looks to clear th...  \n",
       "947  This ripped-from-the-headlines drama covers th...  \n",
       "21   A depressed uncle is asked to take care of his...  \n",
       "\n",
       "[800 rows x 5 columns]"
      ]
     },
     "execution_count": 294,
     "metadata": {},
     "output_type": "execute_result"
    }
   ],
   "source": [
    "df_train"
   ]
  },
  {
   "cell_type": "markdown",
   "metadata": {},
   "source": [
    "### Removing stop word from the description and creating bag of words with required information "
   ]
  },
  {
   "cell_type": "code",
   "execution_count": 295,
   "metadata": {},
   "outputs": [
    {
     "name": "stderr",
     "output_type": "stream",
     "text": [
      "/opt/anaconda3/lib/python3.7/site-packages/ipykernel_launcher.py:2: SettingWithCopyWarning: \n",
      "A value is trying to be set on a copy of a slice from a DataFrame.\n",
      "Try using .loc[row_indexer,col_indexer] = value instead\n",
      "\n",
      "See the caveats in the documentation: https://pandas.pydata.org/pandas-docs/stable/user_guide/indexing.html#returning-a-view-versus-a-copy\n",
      "  \n",
      "/opt/anaconda3/lib/python3.7/site-packages/ipykernel_launcher.py:3: SettingWithCopyWarning: \n",
      "A value is trying to be set on a copy of a slice from a DataFrame.\n",
      "Try using .loc[row_indexer,col_indexer] = value instead\n",
      "\n",
      "See the caveats in the documentation: https://pandas.pydata.org/pandas-docs/stable/user_guide/indexing.html#returning-a-view-versus-a-copy\n",
      "  This is separate from the ipykernel package so we can avoid doing imports until\n"
     ]
    }
   ],
   "source": [
    "stop = text.ENGLISH_STOP_WORDS\n",
    "df_train['Description'] = df_train['Description'].str.lower().str.split()\n",
    "df_train['Description'] = df_train['Description'].apply(lambda x: [item for item in x if item not in stop])\n"
   ]
  },
  {
   "cell_type": "markdown",
   "metadata": {},
   "source": [
    "### changed  description colum removing stop word and creating list of important words "
   ]
  },
  {
   "cell_type": "code",
   "execution_count": 287,
   "metadata": {},
   "outputs": [
    {
     "data": {
      "text/html": [
       "<div>\n",
       "<style scoped>\n",
       "    .dataframe tbody tr th:only-of-type {\n",
       "        vertical-align: middle;\n",
       "    }\n",
       "\n",
       "    .dataframe tbody tr th {\n",
       "        vertical-align: top;\n",
       "    }\n",
       "\n",
       "    .dataframe thead th {\n",
       "        text-align: right;\n",
       "    }\n",
       "</style>\n",
       "<table border=\"1\" class=\"dataframe\">\n",
       "  <thead>\n",
       "    <tr style=\"text-align: right;\">\n",
       "      <th></th>\n",
       "      <th>Title</th>\n",
       "      <th>Genre</th>\n",
       "      <th>Director</th>\n",
       "      <th>Actors</th>\n",
       "      <th>Description</th>\n",
       "    </tr>\n",
       "  </thead>\n",
       "  <tbody>\n",
       "    <tr>\n",
       "      <th>674</th>\n",
       "      <td>War on Everyone</td>\n",
       "      <td>[action, comedy]</td>\n",
       "      <td>johnmichaelmcdonagh</td>\n",
       "      <td>[alexanderskarsgård, michaelpeña, theojames]</td>\n",
       "      <td>[corrupt, cops, set, blackmail, frame, crimina...</td>\n",
       "    </tr>\n",
       "    <tr>\n",
       "      <th>233</th>\n",
       "      <td>Mission: Impossible - Rogue Nation</td>\n",
       "      <td>[action, adventure, thriller]</td>\n",
       "      <td>christophermcquarrie</td>\n",
       "      <td>[tomcruise, rebeccaferguson, jeremyrenner]</td>\n",
       "      <td>[ethan, team, impossible, mission, yet,, eradi...</td>\n",
       "    </tr>\n",
       "    <tr>\n",
       "      <th>739</th>\n",
       "      <td>The Mummy: Tomb of the Dragon Emperor</td>\n",
       "      <td>[action, adventure, fantasy]</td>\n",
       "      <td>robcohen</td>\n",
       "      <td>[brendanfraser, jetli, mariabello]</td>\n",
       "      <td>[far, east,, alex, o'connell,, son, famed, mum...</td>\n",
       "    </tr>\n",
       "    <tr>\n",
       "      <th>865</th>\n",
       "      <td>Horns</td>\n",
       "      <td>[drama, fantasy, horror]</td>\n",
       "      <td>alexandreaja</td>\n",
       "      <td>[danielradcliffe, junotemple, maxminghella]</td>\n",
       "      <td>[aftermath, girlfriend's, mysterious, death,, ...</td>\n",
       "    </tr>\n",
       "    <tr>\n",
       "      <th>523</th>\n",
       "      <td>Whiskey Tango Foxtrot</td>\n",
       "      <td>[biography, comedy, drama]</td>\n",
       "      <td>glennficarra</td>\n",
       "      <td>[tinafey, margotrobbie, martinfreeman]</td>\n",
       "      <td>[journalist, recounts, wartime, coverage, afgh...</td>\n",
       "    </tr>\n",
       "    <tr>\n",
       "      <th>...</th>\n",
       "      <td>...</td>\n",
       "      <td>...</td>\n",
       "      <td>...</td>\n",
       "      <td>...</td>\n",
       "      <td>...</td>\n",
       "    </tr>\n",
       "    <tr>\n",
       "      <th>766</th>\n",
       "      <td>Ender's Game</td>\n",
       "      <td>[action, sci-fi]</td>\n",
       "      <td>gavinhood</td>\n",
       "      <td>[harrisonford, asabutterfield, haileesteinfeld]</td>\n",
       "      <td>[young, ender, wiggin, recruited, internationa...</td>\n",
       "    </tr>\n",
       "    <tr>\n",
       "      <th>414</th>\n",
       "      <td>Mechanic: Resurrection</td>\n",
       "      <td>[action, adventure, crime]</td>\n",
       "      <td>dennisgansel</td>\n",
       "      <td>[jasonstatham, jessicaalba, tommyleejones]</td>\n",
       "      <td>[arthur, bishop, thought, murderous, past, him...</td>\n",
       "    </tr>\n",
       "    <tr>\n",
       "      <th>728</th>\n",
       "      <td>The A-Team</td>\n",
       "      <td>[action, adventure, comedy]</td>\n",
       "      <td>joecarnahan</td>\n",
       "      <td>[liamneeson, bradleycooper, sharltocopley]</td>\n",
       "      <td>[group, iraq, war, veterans, looks, clear, u.s...</td>\n",
       "    </tr>\n",
       "    <tr>\n",
       "      <th>947</th>\n",
       "      <td>King Cobra</td>\n",
       "      <td>[crime, drama]</td>\n",
       "      <td>justinkelly</td>\n",
       "      <td>[garrettclayton, christianslater, mollyringwald]</td>\n",
       "      <td>[ripped-from-the-headlines, drama, covers, ear...</td>\n",
       "    </tr>\n",
       "    <tr>\n",
       "      <th>21</th>\n",
       "      <td>Manchester by the Sea</td>\n",
       "      <td>[drama]</td>\n",
       "      <td>kennethlonergan</td>\n",
       "      <td>[caseyaffleck, michellewilliams, kylechandler]</td>\n",
       "      <td>[depressed, uncle, asked, care, teenage, nephe...</td>\n",
       "    </tr>\n",
       "  </tbody>\n",
       "</table>\n",
       "<p>800 rows × 5 columns</p>\n",
       "</div>"
      ],
      "text/plain": [
       "                                     Title                          Genre  \\\n",
       "674                        War on Everyone               [action, comedy]   \n",
       "233     Mission: Impossible - Rogue Nation  [action, adventure, thriller]   \n",
       "739  The Mummy: Tomb of the Dragon Emperor   [action, adventure, fantasy]   \n",
       "865                                  Horns       [drama, fantasy, horror]   \n",
       "523                  Whiskey Tango Foxtrot     [biography, comedy, drama]   \n",
       "..                                     ...                            ...   \n",
       "766                           Ender's Game               [action, sci-fi]   \n",
       "414                 Mechanic: Resurrection     [action, adventure, crime]   \n",
       "728                             The A-Team    [action, adventure, comedy]   \n",
       "947                             King Cobra                 [crime, drama]   \n",
       "21                   Manchester by the Sea                        [drama]   \n",
       "\n",
       "                 Director                                            Actors  \\\n",
       "674   johnmichaelmcdonagh      [alexanderskarsgård, michaelpeña, theojames]   \n",
       "233  christophermcquarrie        [tomcruise, rebeccaferguson, jeremyrenner]   \n",
       "739              robcohen                [brendanfraser, jetli, mariabello]   \n",
       "865          alexandreaja       [danielradcliffe, junotemple, maxminghella]   \n",
       "523          glennficarra            [tinafey, margotrobbie, martinfreeman]   \n",
       "..                    ...                                               ...   \n",
       "766             gavinhood   [harrisonford, asabutterfield, haileesteinfeld]   \n",
       "414          dennisgansel        [jasonstatham, jessicaalba, tommyleejones]   \n",
       "728           joecarnahan        [liamneeson, bradleycooper, sharltocopley]   \n",
       "947           justinkelly  [garrettclayton, christianslater, mollyringwald]   \n",
       "21        kennethlonergan    [caseyaffleck, michellewilliams, kylechandler]   \n",
       "\n",
       "                                           Description  \n",
       "674  [corrupt, cops, set, blackmail, frame, crimina...  \n",
       "233  [ethan, team, impossible, mission, yet,, eradi...  \n",
       "739  [far, east,, alex, o'connell,, son, famed, mum...  \n",
       "865  [aftermath, girlfriend's, mysterious, death,, ...  \n",
       "523  [journalist, recounts, wartime, coverage, afgh...  \n",
       "..                                                 ...  \n",
       "766  [young, ender, wiggin, recruited, internationa...  \n",
       "414  [arthur, bishop, thought, murderous, past, him...  \n",
       "728  [group, iraq, war, veterans, looks, clear, u.s...  \n",
       "947  [ripped-from-the-headlines, drama, covers, ear...  \n",
       "21   [depressed, uncle, asked, care, teenage, nephe...  \n",
       "\n",
       "[800 rows x 5 columns]"
      ]
     },
     "execution_count": 287,
     "metadata": {},
     "output_type": "execute_result"
    }
   ],
   "source": [
    "df_train"
   ]
  },
  {
   "cell_type": "code",
   "execution_count": 296,
   "metadata": {},
   "outputs": [
    {
     "data": {
      "text/html": [
       "<div>\n",
       "<style scoped>\n",
       "    .dataframe tbody tr th:only-of-type {\n",
       "        vertical-align: middle;\n",
       "    }\n",
       "\n",
       "    .dataframe tbody tr th {\n",
       "        vertical-align: top;\n",
       "    }\n",
       "\n",
       "    .dataframe thead th {\n",
       "        text-align: right;\n",
       "    }\n",
       "</style>\n",
       "<table border=\"1\" class=\"dataframe\">\n",
       "  <thead>\n",
       "    <tr style=\"text-align: right;\">\n",
       "      <th></th>\n",
       "      <th>Genre</th>\n",
       "      <th>Director</th>\n",
       "      <th>Actors</th>\n",
       "      <th>Description</th>\n",
       "    </tr>\n",
       "    <tr>\n",
       "      <th>Title</th>\n",
       "      <th></th>\n",
       "      <th></th>\n",
       "      <th></th>\n",
       "      <th></th>\n",
       "    </tr>\n",
       "  </thead>\n",
       "  <tbody>\n",
       "    <tr>\n",
       "      <th>War on Everyone</th>\n",
       "      <td>[action, comedy]</td>\n",
       "      <td>johnmichaelmcdonagh</td>\n",
       "      <td>[alexanderskarsgård, michaelpeña, theojames]</td>\n",
       "      <td>[corrupt, cops, set, blackmail, frame, crimina...</td>\n",
       "    </tr>\n",
       "    <tr>\n",
       "      <th>Mission: Impossible - Rogue Nation</th>\n",
       "      <td>[action, adventure, thriller]</td>\n",
       "      <td>christophermcquarrie</td>\n",
       "      <td>[tomcruise, rebeccaferguson, jeremyrenner]</td>\n",
       "      <td>[ethan, team, impossible, mission, yet,, eradi...</td>\n",
       "    </tr>\n",
       "    <tr>\n",
       "      <th>The Mummy: Tomb of the Dragon Emperor</th>\n",
       "      <td>[action, adventure, fantasy]</td>\n",
       "      <td>robcohen</td>\n",
       "      <td>[brendanfraser, jetli, mariabello]</td>\n",
       "      <td>[far, east,, alex, o'connell,, son, famed, mum...</td>\n",
       "    </tr>\n",
       "    <tr>\n",
       "      <th>Horns</th>\n",
       "      <td>[drama, fantasy, horror]</td>\n",
       "      <td>alexandreaja</td>\n",
       "      <td>[danielradcliffe, junotemple, maxminghella]</td>\n",
       "      <td>[aftermath, girlfriend's, mysterious, death,, ...</td>\n",
       "    </tr>\n",
       "    <tr>\n",
       "      <th>Whiskey Tango Foxtrot</th>\n",
       "      <td>[biography, comedy, drama]</td>\n",
       "      <td>glennficarra</td>\n",
       "      <td>[tinafey, margotrobbie, martinfreeman]</td>\n",
       "      <td>[journalist, recounts, wartime, coverage, afgh...</td>\n",
       "    </tr>\n",
       "  </tbody>\n",
       "</table>\n",
       "</div>"
      ],
      "text/plain": [
       "                                                               Genre  \\\n",
       "Title                                                                  \n",
       "War on Everyone                                     [action, comedy]   \n",
       "Mission: Impossible - Rogue Nation     [action, adventure, thriller]   \n",
       "The Mummy: Tomb of the Dragon Emperor   [action, adventure, fantasy]   \n",
       "Horns                                       [drama, fantasy, horror]   \n",
       "Whiskey Tango Foxtrot                     [biography, comedy, drama]   \n",
       "\n",
       "                                                   Director  \\\n",
       "Title                                                         \n",
       "War on Everyone                         johnmichaelmcdonagh   \n",
       "Mission: Impossible - Rogue Nation     christophermcquarrie   \n",
       "The Mummy: Tomb of the Dragon Emperor              robcohen   \n",
       "Horns                                          alexandreaja   \n",
       "Whiskey Tango Foxtrot                          glennficarra   \n",
       "\n",
       "                                                                             Actors  \\\n",
       "Title                                                                                 \n",
       "War on Everyone                        [alexanderskarsgård, michaelpeña, theojames]   \n",
       "Mission: Impossible - Rogue Nation       [tomcruise, rebeccaferguson, jeremyrenner]   \n",
       "The Mummy: Tomb of the Dragon Emperor            [brendanfraser, jetli, mariabello]   \n",
       "Horns                                   [danielradcliffe, junotemple, maxminghella]   \n",
       "Whiskey Tango Foxtrot                        [tinafey, margotrobbie, martinfreeman]   \n",
       "\n",
       "                                                                             Description  \n",
       "Title                                                                                     \n",
       "War on Everyone                        [corrupt, cops, set, blackmail, frame, crimina...  \n",
       "Mission: Impossible - Rogue Nation     [ethan, team, impossible, mission, yet,, eradi...  \n",
       "The Mummy: Tomb of the Dragon Emperor  [far, east,, alex, o'connell,, son, famed, mum...  \n",
       "Horns                                  [aftermath, girlfriend's, mysterious, death,, ...  \n",
       "Whiskey Tango Foxtrot                  [journalist, recounts, wartime, coverage, afgh...  "
      ]
     },
     "execution_count": 296,
     "metadata": {},
     "output_type": "execute_result"
    }
   ],
   "source": [
    "# createing new index as Title \n",
    "df_train.set_index('Title', inplace = True)\n",
    "df_train.head()"
   ]
  },
  {
   "cell_type": "markdown",
   "metadata": {},
   "source": [
    "### creating bag of words which contains all relivent information of a movie "
   ]
  },
  {
   "cell_type": "code",
   "execution_count": 297,
   "metadata": {},
   "outputs": [
    {
     "name": "stderr",
     "output_type": "stream",
     "text": [
      "/opt/anaconda3/lib/python3.7/site-packages/ipykernel_launcher.py:1: SettingWithCopyWarning: \n",
      "A value is trying to be set on a copy of a slice from a DataFrame.\n",
      "Try using .loc[row_indexer,col_indexer] = value instead\n",
      "\n",
      "See the caveats in the documentation: https://pandas.pydata.org/pandas-docs/stable/user_guide/indexing.html#returning-a-view-versus-a-copy\n",
      "  \"\"\"Entry point for launching an IPython kernel.\n",
      "/opt/anaconda3/lib/python3.7/site-packages/pandas/core/frame.py:3997: SettingWithCopyWarning: \n",
      "A value is trying to be set on a copy of a slice from a DataFrame\n",
      "\n",
      "See the caveats in the documentation: https://pandas.pydata.org/pandas-docs/stable/user_guide/indexing.html#returning-a-view-versus-a-copy\n",
      "  errors=errors,\n"
     ]
    }
   ],
   "source": [
    "df_train['bag_of_words'] = ''\n",
    "columns = df_train.columns\n",
    "for index, row in df_train.iterrows():\n",
    "    words = ''\n",
    "    for col in columns:\n",
    "        if col != 'Director':\n",
    "            words = words + ' '.join(row[col])+ ' '\n",
    "        else:\n",
    "            words = words + row[col]+ ' '\n",
    "    row['bag_of_words'] = words\n",
    "    \n",
    "df_train.drop(columns = [col for col in df_train.columns if col!= 'bag_of_words'], inplace = True)"
   ]
  },
  {
   "cell_type": "code",
   "execution_count": 298,
   "metadata": {},
   "outputs": [
    {
     "data": {
      "text/plain": [
       "(800, 1)"
      ]
     },
     "execution_count": 298,
     "metadata": {},
     "output_type": "execute_result"
    }
   ],
   "source": [
    "df_train.shape\n"
   ]
  },
  {
   "cell_type": "code",
   "execution_count": 299,
   "metadata": {},
   "outputs": [
    {
     "data": {
      "text/html": [
       "<div>\n",
       "<style scoped>\n",
       "    .dataframe tbody tr th:only-of-type {\n",
       "        vertical-align: middle;\n",
       "    }\n",
       "\n",
       "    .dataframe tbody tr th {\n",
       "        vertical-align: top;\n",
       "    }\n",
       "\n",
       "    .dataframe thead th {\n",
       "        text-align: right;\n",
       "    }\n",
       "</style>\n",
       "<table border=\"1\" class=\"dataframe\">\n",
       "  <thead>\n",
       "    <tr style=\"text-align: right;\">\n",
       "      <th></th>\n",
       "      <th>bag_of_words</th>\n",
       "    </tr>\n",
       "    <tr>\n",
       "      <th>Title</th>\n",
       "      <th></th>\n",
       "    </tr>\n",
       "  </thead>\n",
       "  <tbody>\n",
       "    <tr>\n",
       "      <th>War on Everyone</th>\n",
       "      <td>action comedy johnmichaelmcdonagh alexanderska...</td>\n",
       "    </tr>\n",
       "    <tr>\n",
       "      <th>Mission: Impossible - Rogue Nation</th>\n",
       "      <td>action adventure thriller christophermcquarrie...</td>\n",
       "    </tr>\n",
       "    <tr>\n",
       "      <th>The Mummy: Tomb of the Dragon Emperor</th>\n",
       "      <td>action adventure fantasy robcohen brendanfrase...</td>\n",
       "    </tr>\n",
       "    <tr>\n",
       "      <th>Horns</th>\n",
       "      <td>drama fantasy horror alexandreaja danielradcli...</td>\n",
       "    </tr>\n",
       "    <tr>\n",
       "      <th>Whiskey Tango Foxtrot</th>\n",
       "      <td>biography comedy drama glennficarra tinafey ma...</td>\n",
       "    </tr>\n",
       "    <tr>\n",
       "      <th>...</th>\n",
       "      <td>...</td>\n",
       "    </tr>\n",
       "    <tr>\n",
       "      <th>Ender's Game</th>\n",
       "      <td>action sci-fi gavinhood harrisonford asabutter...</td>\n",
       "    </tr>\n",
       "    <tr>\n",
       "      <th>Mechanic: Resurrection</th>\n",
       "      <td>action adventure crime dennisgansel jasonstath...</td>\n",
       "    </tr>\n",
       "    <tr>\n",
       "      <th>The A-Team</th>\n",
       "      <td>action adventure comedy joecarnahan liamneeson...</td>\n",
       "    </tr>\n",
       "    <tr>\n",
       "      <th>King Cobra</th>\n",
       "      <td>crime drama justinkelly garrettclayton christi...</td>\n",
       "    </tr>\n",
       "    <tr>\n",
       "      <th>Manchester by the Sea</th>\n",
       "      <td>drama kennethlonergan caseyaffleck michellewil...</td>\n",
       "    </tr>\n",
       "  </tbody>\n",
       "</table>\n",
       "<p>800 rows × 1 columns</p>\n",
       "</div>"
      ],
      "text/plain": [
       "                                                                            bag_of_words\n",
       "Title                                                                                   \n",
       "War on Everyone                        action comedy johnmichaelmcdonagh alexanderska...\n",
       "Mission: Impossible - Rogue Nation     action adventure thriller christophermcquarrie...\n",
       "The Mummy: Tomb of the Dragon Emperor  action adventure fantasy robcohen brendanfrase...\n",
       "Horns                                  drama fantasy horror alexandreaja danielradcli...\n",
       "Whiskey Tango Foxtrot                  biography comedy drama glennficarra tinafey ma...\n",
       "...                                                                                  ...\n",
       "Ender's Game                           action sci-fi gavinhood harrisonford asabutter...\n",
       "Mechanic: Resurrection                 action adventure crime dennisgansel jasonstath...\n",
       "The A-Team                             action adventure comedy joecarnahan liamneeson...\n",
       "King Cobra                             crime drama justinkelly garrettclayton christi...\n",
       "Manchester by the Sea                  drama kennethlonergan caseyaffleck michellewil...\n",
       "\n",
       "[800 rows x 1 columns]"
      ]
     },
     "execution_count": 299,
     "metadata": {},
     "output_type": "execute_result"
    }
   ],
   "source": [
    "df_train"
   ]
  },
  {
   "cell_type": "markdown",
   "metadata": {},
   "source": [
    "### Applying tfidf to creating item profile matrix "
   ]
  },
  {
   "cell_type": "code",
   "execution_count": 300,
   "metadata": {},
   "outputs": [],
   "source": [
    "tf = TfidfVectorizer(analyzer='word', ngram_range=(1, 3), min_df=0, stop_words='english')\n",
    "tfidf_matrix = tf.fit_transform(df['bag_of_words'])"
   ]
  },
  {
   "cell_type": "code",
   "execution_count": 163,
   "metadata": {},
   "outputs": [
    {
     "data": {
      "text/plain": [
       "<1000x45276 sparse matrix of type '<class 'numpy.float64'>'\n",
       "\twith 62525 stored elements in Compressed Sparse Row format>"
      ]
     },
     "execution_count": 163,
     "metadata": {},
     "output_type": "execute_result"
    }
   ],
   "source": [
    "tfidf_matrix"
   ]
  },
  {
   "cell_type": "markdown",
   "metadata": {},
   "source": [
    "### applying cosine similarity to find which item are most similar and close to each other "
   ]
  },
  {
   "cell_type": "code",
   "execution_count": 301,
   "metadata": {},
   "outputs": [
    {
     "data": {
      "text/plain": [
       "array([[1.        , 0.01533889, 0.        , ..., 0.        , 0.00277161,\n",
       "        0.        ],\n",
       "       [0.01533889, 1.        , 0.        , ..., 0.        , 0.00261331,\n",
       "        0.0075326 ],\n",
       "       [0.        , 0.        , 1.        , ..., 0.        , 0.        ,\n",
       "        0.        ],\n",
       "       ...,\n",
       "       [0.        , 0.        , 0.        , ..., 1.        , 0.        ,\n",
       "        0.        ],\n",
       "       [0.00277161, 0.00261331, 0.        , ..., 0.        , 1.        ,\n",
       "        0.00284218],\n",
       "       [0.        , 0.0075326 , 0.        , ..., 0.        , 0.00284218,\n",
       "        1.        ]])"
      ]
     },
     "execution_count": 301,
     "metadata": {},
     "output_type": "execute_result"
    }
   ],
   "source": [
    "cosine_sim = linear_kernel(tfidf_matrix, tfidf_matrix)\n",
    "cosine_sim "
   ]
  },
  {
   "cell_type": "markdown",
   "metadata": {},
   "source": [
    "### Creating a heat map of  correlation matrix which is square and is symmetric, so plotting all values would be redundant "
   ]
  },
  {
   "cell_type": "code",
   "execution_count": 321,
   "metadata": {},
   "outputs": [
    {
     "data": {
      "image/png": "[encoded data removed]",
      "text/plain": [
       "<Figure size 432x288 with 2 Axes>"
      ]
     },
     "metadata": {},
     "output_type": "display_data"
    }
   ],
   "source": [
    "mask = np.zeros_like(cosine_sim)\n",
    "mask[np.triu_indices_from(mask)] = True\n",
    "with sns.axes_style(\"white\"):\n",
    "    ax = sns.heatmap(cosine_sim, mask=mask, vmax=.3, square=True,  cmap=\"YlGnBu\")\n",
    "    plt.show()"
   ]
  },
  {
   "cell_type": "code",
   "execution_count": 302,
   "metadata": {},
   "outputs": [
    {
     "data": {
      "text/plain": [
       "0                          War on Everyone\n",
       "1       Mission: Impossible - Rogue Nation\n",
       "2    The Mummy: Tomb of the Dragon Emperor\n",
       "3                                    Horns\n",
       "4                    Whiskey Tango Foxtrot\n",
       "Name: Title, dtype: object"
      ]
     },
     "execution_count": 302,
     "metadata": {},
     "output_type": "execute_result"
    }
   ],
   "source": [
    "# creation of indices \n",
    "indices_movie = pd.Series(df_train.index)\n",
    "indices_movie[:5]"
   ]
  },
  {
   "cell_type": "markdown",
   "metadata": {},
   "source": [
    "### defining the function that takes in movie title  as input and returns the top 10 recommended movies"
   ]
  },
  {
   "cell_type": "code",
   "execution_count": 311,
   "metadata": {},
   "outputs": [],
   "source": [
    "\n",
    "#  defining the function that takes in movie title \n",
    "# as input and returns the top 10 recommended movies\n",
    "def recommendations(input, cosine_sim = cosine_sim):\n",
    "    \n",
    "    # initializing the empty list of recommended movies\n",
    "    recommended_movies = []\n",
    "    \n",
    "    # gettin the index of the movie that matches the title\n",
    "    idx = indices_movie[indices_movie == input].index[0]\n",
    "\n",
    "    # creating a Series with the similarity scores in descending order\n",
    "    score_series = pd.Series(cosine_sim[idx]).sort_values(ascending = False)\n",
    "\n",
    "    # getting the indexes of the 10 most similar movies\n",
    "    top_10_indexes = list(score_series.iloc[1:11].index)\n",
    "    \n",
    "    # populating the list with the titles of the best 10 matching movies\n",
    "    for i in top_10_indexes:\n",
    "        recommended_movies.append(list(df.index)[i])\n",
    "        \n",
    "    return recommended_movies"
   ]
  },
  {
   "cell_type": "markdown",
   "metadata": {},
   "source": [
    "###   Recomend similar movie for War on Everyone"
   ]
  },
  {
   "cell_type": "code",
   "execution_count": 312,
   "metadata": {},
   "outputs": [
    {
     "data": {
      "text/plain": [
       "['Slither',\n",
       " 'I Am Number Four',\n",
       " 'Jupiter Ascending',\n",
       " 'Fantastic Four',\n",
       " 'Battleship',\n",
       " 'G.I. Joe: Retaliation',\n",
       " 'Green Lantern',\n",
       " 'Predators',\n",
       " 'Godzilla',\n",
       " 'Jurassic World']"
      ]
     },
     "execution_count": 312,
     "metadata": {},
     "output_type": "execute_result"
    }
   ],
   "source": [
    "recommendations('War on Everyone')"
   ]
  },
  {
   "cell_type": "markdown",
   "metadata": {},
   "source": [
    "### we can see here Recomendation engine is predicting movie correctly as \n",
    "### War on Everyone is a action movie and similar movie it will recomends are also action movie \n",
    "### so over here we are getting expected result "
   ]
  },
  {
   "cell_type": "code",
   "execution_count": 304,
   "metadata": {},
   "outputs": [
    {
     "data": {
      "text/plain": [
       "bag_of_words    action comedy johnmichaelmcdonagh alexanderska...\n",
       "Name: War on Everyone, dtype: object"
      ]
     },
     "execution_count": 304,
     "metadata": {},
     "output_type": "execute_result"
    }
   ],
   "source": [
    "df.loc['War on Everyone'] "
   ]
  },
  {
   "cell_type": "code",
   "execution_count": 217,
   "metadata": {},
   "outputs": [
    {
     "data": {
      "text/plain": [
       "bag_of_words    action adventure sci-fi jamesgunn chrispratt v...\n",
       "Name: Guardians of the Galaxy, dtype: object"
      ]
     },
     "execution_count": 217,
     "metadata": {},
     "output_type": "execute_result"
    }
   ],
   "source": [
    "df.loc['Guardians of the Galaxy'] "
   ]
  },
  {
   "cell_type": "code",
   "execution_count": 253,
   "metadata": {},
   "outputs": [
    {
     "data": {
      "text/plain": [
       "bag_of_words    action adventure sci-fi joshtrank milesteller ...\n",
       "Name: Fantastic Four, dtype: object"
      ]
     },
     "execution_count": 253,
     "metadata": {},
     "output_type": "execute_result"
    }
   ],
   "source": [
    "\n",
    "df.loc['Fantastic Four'] "
   ]
  },
  {
   "cell_type": "code",
   "execution_count": 305,
   "metadata": {},
   "outputs": [
    {
     "data": {
      "text/plain": [
       "bag_of_words    action adventure sci-fi colintrevorrow chrispr...\n",
       "Name: Jurassic World, dtype: object"
      ]
     },
     "execution_count": 305,
     "metadata": {},
     "output_type": "execute_result"
    }
   ],
   "source": [
    "df.loc['Jurassic World']"
   ]
  },
  {
   "cell_type": "code",
   "execution_count": 306,
   "metadata": {},
   "outputs": [
    {
     "data": {
      "text/plain": [
       "bag_of_words    action adventure sci-fi nimródantal adrienbrod...\n",
       "Name: Predators, dtype: object"
      ]
     },
     "execution_count": 306,
     "metadata": {},
     "output_type": "execute_result"
    }
   ],
   "source": [
    "df.loc['Predators']"
   ]
  },
  {
   "cell_type": "markdown",
   "metadata": {},
   "source": [
    "### Movie Horns also predicting similar movie "
   ]
  },
  {
   "cell_type": "code",
   "execution_count": 314,
   "metadata": {},
   "outputs": [
    {
     "data": {
      "text/plain": [
       "['Ratatouille',\n",
       " 'Enchanted',\n",
       " 'Happy Feet',\n",
       " 'Hotel Transylvania 2',\n",
       " 'The Imaginarium of Doctor Parnassus',\n",
       " 'Scouts Guide to the Zombie Apocalypse',\n",
       " 'Zootopia',\n",
       " 'Ted 2',\n",
       " 'Ted',\n",
       " 'A Million Ways to Die in the West']"
      ]
     },
     "execution_count": 314,
     "metadata": {},
     "output_type": "execute_result"
    }
   ],
   "source": [
    "recommendations('Horns')"
   ]
  },
  {
   "cell_type": "code",
   "execution_count": 315,
   "metadata": {},
   "outputs": [
    {
     "data": {
      "text/plain": [
       "bag_of_words    drama fantasy horror alexandreaja danielradcli...\n",
       "Name: Horns, dtype: object"
      ]
     },
     "execution_count": 315,
     "metadata": {},
     "output_type": "execute_result"
    }
   ],
   "source": [
    "df.loc['Horns']"
   ]
  },
  {
   "cell_type": "code",
   "execution_count": 316,
   "metadata": {},
   "outputs": [
    {
     "data": {
      "text/plain": [
       "bag_of_words    animation comedy family kevinlima amyadams sus...\n",
       "Name: Enchanted, dtype: object"
      ]
     },
     "execution_count": 316,
     "metadata": {},
     "output_type": "execute_result"
    }
   ],
   "source": [
    "df.loc['Enchanted']"
   ]
  },
  {
   "cell_type": "code",
   "execution_count": 317,
   "metadata": {},
   "outputs": [
    {
     "data": {
      "text/plain": [
       "bag_of_words    animation comedy family bradbird bradgarrett l...\n",
       "Name: Ratatouille, dtype: object"
      ]
     },
     "execution_count": 317,
     "metadata": {},
     "output_type": "execute_result"
    }
   ],
   "source": [
    "df.loc['Ratatouille']"
   ]
  },
  {
   "cell_type": "markdown",
   "metadata": {},
   "source": [
    "# SUMMARY \n",
    "\n",
    "### ADVANTAGES \n",
    "\n",
    "1. content based recommendation system is a Robost mechanism as we donot need other user \n",
    "2. It helps to recommendation with unique taste\n",
    "3. Able to recoomend new and popular item \n",
    "\n",
    "### Challanges \n",
    "\n",
    "1. Difficult to create item profile such and extract feature from movie and images \n",
    "2. Some user very unpredictable and have multiple interest \n",
    "\n",
    "As a whole we can see above content based recomendation is predicting as expected.\n",
    "\n",
    "\n"
   ]
  },
  {
   "cell_type": "code",
   "execution_count": null,
   "metadata": {},
   "outputs": [],
   "source": []
  }
 ],
 "metadata": {
  "kernelspec": {
   "display_name": "Python 3",
   "language": "python",
   "name": "python3"
  },
  "language_info": {
   "codemirror_mode": {
    "name": "ipython",
    "version": 3
   },
   "file_extension": ".py",
   "mimetype": "text/x-python",
   "name": "python",
   "nbconvert_exporter": "python",
   "pygments_lexer": "ipython3",
   "version": "3.7.6"
  }
 },
 "nbformat": 4,
 "nbformat_minor": 4
}
