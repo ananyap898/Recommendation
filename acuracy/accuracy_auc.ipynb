{
 "cells": [
  {
   "cell_type": "markdown",
   "metadata": {},
   "source": [
    "# DATA 612 Project 4 | Accuracy and Beyond\n",
    "### Ananya Punyatoya"
   ]
  },
  {
   "cell_type": "markdown",
   "metadata": {},
   "source": [
    "###  INTRODUCTION \n",
    "This project is  about evaluating  diffrent Recommnedation model and how we will measure the accuracy of the model \n",
    "using RMSE and ROC, AUC curve for offline data.\n",
    "\n",
    "\n",
    "\n"
   ]
  },
  {
   "cell_type": "markdown",
   "metadata": {},
   "source": [
    "###  ABOUT DATA SET\n",
    "\n",
    "we have taken a book dataset from Amazon with attributes \n",
    "1. book_id\n",
    "2. user_id\n",
    "3. rating (scale of 1 to 5)\n",
    "\n"
   ]
  },
  {
   "cell_type": "code",
   "execution_count": 1,
   "metadata": {},
   "outputs": [],
   "source": [
    "import pandas as pd\n",
    "import numpy as np \n",
    "from sklearn.model_selection import train_test_split\n",
    "from sklearn.metrics import roc_curve\n",
    "from sklearn.metrics import roc_auc_score\n",
    "from matplotlib import pyplot as plt \n",
    "from surprise import Reader, Dataset\n",
    "from surprise.model_selection import train_test_split\n",
    "from surprise import KNNBaseline\n",
    "from surprise import  accuracy\n",
    "from surprise import SVD\n",
    "from surprise.model_selection import cross_validate\n",
    "import sklearn.metrics as metrics\n",
    "from sklearn.metrics import auc\n"
   ]
  },
  {
   "cell_type": "code",
   "execution_count": 2,
   "metadata": {},
   "outputs": [
    {
     "data": {
      "text/html": [
       "<div>\n",
       "<style scoped>\n",
       "    .dataframe tbody tr th:only-of-type {\n",
       "        vertical-align: middle;\n",
       "    }\n",
       "\n",
       "    .dataframe tbody tr th {\n",
       "        vertical-align: top;\n",
       "    }\n",
       "\n",
       "    .dataframe thead th {\n",
       "        text-align: right;\n",
       "    }\n",
       "</style>\n",
       "<table border=\"1\" class=\"dataframe\">\n",
       "  <thead>\n",
       "    <tr style=\"text-align: right;\">\n",
       "      <th></th>\n",
       "      <th>book_id</th>\n",
       "      <th>user_id</th>\n",
       "      <th>rating</th>\n",
       "    </tr>\n",
       "  </thead>\n",
       "  <tbody>\n",
       "    <tr>\n",
       "      <th>0</th>\n",
       "      <td>1</td>\n",
       "      <td>314</td>\n",
       "      <td>5</td>\n",
       "    </tr>\n",
       "    <tr>\n",
       "      <th>1</th>\n",
       "      <td>1</td>\n",
       "      <td>439</td>\n",
       "      <td>3</td>\n",
       "    </tr>\n",
       "    <tr>\n",
       "      <th>2</th>\n",
       "      <td>1</td>\n",
       "      <td>588</td>\n",
       "      <td>5</td>\n",
       "    </tr>\n",
       "    <tr>\n",
       "      <th>3</th>\n",
       "      <td>1</td>\n",
       "      <td>1169</td>\n",
       "      <td>4</td>\n",
       "    </tr>\n",
       "    <tr>\n",
       "      <th>4</th>\n",
       "      <td>1</td>\n",
       "      <td>1185</td>\n",
       "      <td>4</td>\n",
       "    </tr>\n",
       "  </tbody>\n",
       "</table>\n",
       "</div>"
      ],
      "text/plain": [
       "   book_id  user_id  rating\n",
       "0        1      314       5\n",
       "1        1      439       3\n",
       "2        1      588       5\n",
       "3        1     1169       4\n",
       "4        1     1185       4"
      ]
     },
     "execution_count": 2,
     "metadata": {},
     "output_type": "execute_result"
    }
   ],
   "source": [
    "book_data = pd.read_csv(r\"ratings.csv\", encoding = 'unicode_escape')\n",
    "book_data.head()"
   ]
  },
  {
   "cell_type": "code",
   "execution_count": 3,
   "metadata": {},
   "outputs": [
    {
     "name": "stdout",
     "output_type": "stream",
     "text": [
      "<class 'pandas.core.frame.DataFrame'>\n",
      "RangeIndex: 981756 entries, 0 to 981755\n",
      "Data columns (total 3 columns):\n",
      " #   Column   Non-Null Count   Dtype\n",
      "---  ------   --------------   -----\n",
      " 0   book_id  981756 non-null  int64\n",
      " 1   user_id  981756 non-null  int64\n",
      " 2   rating   981756 non-null  int64\n",
      "dtypes: int64(3)\n",
      "memory usage: 22.5 MB\n"
     ]
    }
   ],
   "source": [
    "book_data.info()"
   ]
  },
  {
   "cell_type": "code",
   "execution_count": 4,
   "metadata": {},
   "outputs": [
    {
     "data": {
      "text/plain": [
       "(981756, 3)"
      ]
     },
     "execution_count": 4,
     "metadata": {},
     "output_type": "execute_result"
    }
   ],
   "source": [
    "book_data.shape"
   ]
  },
  {
   "cell_type": "code",
   "execution_count": 5,
   "metadata": {},
   "outputs": [
    {
     "data": {
      "text/plain": [
       "2945268"
      ]
     },
     "execution_count": 5,
     "metadata": {},
     "output_type": "execute_result"
    }
   ],
   "source": [
    "book_data.size"
   ]
  },
  {
   "cell_type": "code",
   "execution_count": 6,
   "metadata": {},
   "outputs": [
    {
     "data": {
      "image/png": "[encoded data removed]",
      "text/plain": [
       "<Figure size 432x288 with 1 Axes>"
      ]
     },
     "metadata": {
      "needs_background": "light"
     },
     "output_type": "display_data"
    }
   ],
   "source": [
    "book_data.rating.value_counts().plot(kind='bar')\n",
    "plt.show()"
   ]
  },
  {
   "cell_type": "code",
   "execution_count": 7,
   "metadata": {},
   "outputs": [
    {
     "data": {
      "text/plain": [
       "<surprise.dataset.DatasetAutoFolds at 0x1a23951710>"
      ]
     },
     "execution_count": 7,
     "metadata": {},
     "output_type": "execute_result"
    }
   ],
   "source": [
    "reader = Reader(rating_scale=(1, 5))\n",
    "data = Dataset.load_from_df(book_data[['book_id','user_id','rating']],reader)\n",
    "data"
   ]
  },
  {
   "cell_type": "code",
   "execution_count": 8,
   "metadata": {},
   "outputs": [],
   "source": [
    "# test train split\n",
    "trainset, testset = train_test_split(data, test_size=0.20)"
   ]
  },
  {
   "cell_type": "markdown",
   "metadata": {},
   "source": [
    "###  user based collabarative filtering"
   ]
  },
  {
   "cell_type": "code",
   "execution_count": 9,
   "metadata": {},
   "outputs": [],
   "source": [
    "# setting k = 30 \n",
    "sim_options = {'name': 'pearson_baseline',\n",
    "               'min_support': 5,\n",
    "               'user_based': True}\n",
    "base_user = KNNBaseline(k=30,sim_options=sim_options)"
   ]
  },
  {
   "cell_type": "code",
   "execution_count": 10,
   "metadata": {},
   "outputs": [
    {
     "name": "stdout",
     "output_type": "stream",
     "text": [
      "Estimating biases using als...\n",
      "Computing the pearson_baseline similarity matrix...\n",
      "Done computing similarity matrix.\n",
      "RMSE: 0.8436\n"
     ]
    },
    {
     "data": {
      "text/plain": [
       "0.8435533908945605"
      ]
     },
     "execution_count": 10,
     "metadata": {},
     "output_type": "execute_result"
    }
   ],
   "source": [
    "base_user .fit(trainset)\n",
    "base_user_preds = base_user.test(testset)\n",
    "accuracy.rmse(base_user_preds)"
   ]
  },
  {
   "cell_type": "markdown",
   "metadata": {},
   "source": [
    "###  Itembased collabarative filtering "
   ]
  },
  {
   "cell_type": "code",
   "execution_count": 11,
   "metadata": {},
   "outputs": [],
   "source": [
    "# setting K value to 30 \n",
    "sim_options = {'name': 'pearson_baseline',\n",
    "               'min_support': 5,\n",
    "               'user_based': False}\n",
    "base_item_1 = KNNBaseline(k=30,sim_options=sim_options)"
   ]
  },
  {
   "cell_type": "code",
   "execution_count": 12,
   "metadata": {},
   "outputs": [
    {
     "name": "stdout",
     "output_type": "stream",
     "text": [
      "Estimating biases using als...\n",
      "Computing the pearson_baseline similarity matrix...\n",
      "Done computing similarity matrix.\n",
      "RMSE: 0.8726\n"
     ]
    },
    {
     "data": {
      "text/plain": [
       "0.8726211893890723"
      ]
     },
     "execution_count": 12,
     "metadata": {},
     "output_type": "execute_result"
    }
   ],
   "source": [
    "base_item_1.fit(trainset)\n",
    "base_item_1_preds = base_item_1.test(testset)\n",
    "accuracy.rmse(base_item_1_preds)"
   ]
  },
  {
   "cell_type": "code",
   "execution_count": 13,
   "metadata": {},
   "outputs": [
    {
     "data": {
      "text/plain": [
       "Prediction(uid=2610, iid=45293, r_ui=4.0, est=3.8295894893667883, details={'actual_k': 2, 'was_impossible': False})"
      ]
     },
     "execution_count": 13,
     "metadata": {},
     "output_type": "execute_result"
    }
   ],
   "source": [
    "base_item_1_preds[0]"
   ]
  },
  {
   "cell_type": "markdown",
   "metadata": {},
   "source": [
    "### Automatic cross validation by surprise"
   ]
  },
  {
   "cell_type": "code",
   "execution_count": 14,
   "metadata": {},
   "outputs": [
    {
     "name": "stdout",
     "output_type": "stream",
     "text": [
      "Evaluating RMSE, MAE of algorithm SVD on 10 split(s).\n",
      "\n",
      "                  Fold 1  Fold 2  Fold 3  Fold 4  Fold 5  Fold 6  Fold 7  Fold 8  Fold 9  Fold 10 Mean    Std     \n",
      "RMSE (testset)    0.8418  0.8393  0.8425  0.8380  0.8412  0.8384  0.8409  0.8394  0.8394  0.8383  0.8399  0.0015  \n",
      "MAE (testset)     0.6572  0.6558  0.6586  0.6536  0.6565  0.6546  0.6573  0.6562  0.6556  0.6541  0.6559  0.0015  \n",
      "Fit time          72.28   73.65   70.20   79.14   79.07   76.46   68.79   76.25   72.31   73.31   74.14   3.33    \n",
      "Test time         1.85    1.89    1.91    1.21    1.11    1.08    1.05    1.36    1.62    2.13    1.52    0.38    \n"
     ]
    },
    {
     "data": {
      "text/plain": [
       "{'test_rmse': array([0.84182206, 0.83925141, 0.84245025, 0.83795413, 0.84118542,\n",
       "        0.83843788, 0.84085328, 0.83937497, 0.83943193, 0.83825895]),\n",
       " 'test_mae': array([0.65724895, 0.6557762 , 0.65861927, 0.6535515 , 0.65645136,\n",
       "        0.65459347, 0.65727818, 0.65617416, 0.65560601, 0.6541124 ]),\n",
       " 'fit_time': (72.28147912025452,\n",
       "  73.64768719673157,\n",
       "  70.20278477668762,\n",
       "  79.13590097427368,\n",
       "  79.06676292419434,\n",
       "  76.46243715286255,\n",
       "  68.78604507446289,\n",
       "  76.24547576904297,\n",
       "  72.30970191955566,\n",
       "  73.30531477928162),\n",
       " 'test_time': (1.8519327640533447,\n",
       "  1.8884460926055908,\n",
       "  1.9118220806121826,\n",
       "  1.212327003479004,\n",
       "  1.1086759567260742,\n",
       "  1.0847139358520508,\n",
       "  1.0502102375030518,\n",
       "  1.3557319641113281,\n",
       "  1.6207420825958252,\n",
       "  2.126101016998291)}"
      ]
     },
     "execution_count": 14,
     "metadata": {},
     "output_type": "execute_result"
    }
   ],
   "source": [
    "algo = SVD()\n",
    "\n",
    "# Run 10_fold cross-validation and print results.\n",
    "cross_validate(algo, data, measures=['RMSE', 'MAE'], cv=10, verbose=True)"
   ]
  },
  {
   "cell_type": "markdown",
   "metadata": {},
   "source": [
    "###  train the model using train data and prdict using test data "
   ]
  },
  {
   "cell_type": "code",
   "execution_count": 15,
   "metadata": {},
   "outputs": [],
   "source": [
    "algo = SVD()"
   ]
  },
  {
   "cell_type": "code",
   "execution_count": 16,
   "metadata": {},
   "outputs": [
    {
     "data": {
      "text/plain": [
       "[Prediction(uid=2610, iid=45293, r_ui=4.0, est=3.856130411649811, details={'was_impossible': False}),\n",
       " Prediction(uid=2602, iid=25578, r_ui=5.0, est=4.000094912644184, details={'was_impossible': False}),\n",
       " Prediction(uid=2316, iid=37420, r_ui=4.0, est=4.389671161808016, details={'was_impossible': False}),\n",
       " Prediction(uid=9021, iid=49554, r_ui=4.0, est=3.3010122859279867, details={'was_impossible': False}),\n",
       " Prediction(uid=8161, iid=19120, r_ui=3.0, est=4.501697368464742, details={'was_impossible': False}),\n",
       " Prediction(uid=3022, iid=9971, r_ui=5.0, est=4.235308693939788, details={'was_impossible': False}),\n",
       " Prediction(uid=2492, iid=37700, r_ui=5.0, est=4.42694814429726, details={'was_impossible': False}),\n",
       " Prediction(uid=9196, iid=10033, r_ui=5.0, est=3.8562352143226963, details={'was_impossible': False}),\n",
       " Prediction(uid=1145, iid=13826, r_ui=3.0, est=2.6007169271305908, details={'was_impossible': False}),\n",
       " Prediction(uid=260, iid=11445, r_ui=3.0, est=3.47446437430195, details={'was_impossible': False}),\n",
       " Prediction(uid=7396, iid=31387, r_ui=5.0, est=4.606857087523016, details={'was_impossible': False}),\n",
       " Prediction(uid=3343, iid=409, r_ui=4.0, est=2.6627721113495597, details={'was_impossible': False}),\n",
       " Prediction(uid=5897, iid=21682, r_ui=4.0, est=4.002428978506581, details={'was_impossible': False}),\n",
       " Prediction(uid=5765, iid=17387, r_ui=4.0, est=4.058235802378315, details={'was_impossible': False}),\n",
       " Prediction(uid=3905, iid=5053, r_ui=4.0, est=3.5967611256906475, details={'was_impossible': False}),\n",
       " Prediction(uid=66, iid=5272, r_ui=5.0, est=3.4072627540602793, details={'was_impossible': False}),\n",
       " Prediction(uid=957, iid=9044, r_ui=4.0, est=2.879447299625215, details={'was_impossible': False}),\n",
       " Prediction(uid=6251, iid=7001, r_ui=3.0, est=4.177243722592524, details={'was_impossible': False}),\n",
       " Prediction(uid=6279, iid=22336, r_ui=4.0, est=4.6185860402609835, details={'was_impossible': False}),\n",
       " Prediction(uid=3438, iid=43448, r_ui=2.0, est=2.7614865778652216, details={'was_impossible': False}),\n",
       " Prediction(uid=2220, iid=11053, r_ui=4.0, est=4.133041361200604, details={'was_impossible': False}),\n",
       " Prediction(uid=2480, iid=51051, r_ui=5.0, est=2.922997590818432, details={'was_impossible': False}),\n",
       " Prediction(uid=5133, iid=36955, r_ui=4.0, est=3.3716805937447583, details={'was_impossible': False}),\n",
       " Prediction(uid=9013, iid=32491, r_ui=5.0, est=4.679132957758266, details={'was_impossible': False}),\n",
       " Prediction(uid=1766, iid=32421, r_ui=4.0, est=4.304123778662122, details={'was_impossible': False}),\n",
       " Prediction(uid=4387, iid=10695, r_ui=3.0, est=4.765471093596841, details={'was_impossible': False}),\n",
       " Prediction(uid=4232, iid=6749, r_ui=3.0, est=3.6226960469855833, details={'was_impossible': False}),\n",
       " Prediction(uid=3539, iid=47639, r_ui=4.0, est=4.369132043007932, details={'was_impossible': False}),\n",
       " Prediction(uid=4857, iid=30405, r_ui=5.0, est=4.666820302112315, details={'was_impossible': False}),\n",
       " Prediction(uid=635, iid=27898, r_ui=4.0, est=3.2004278126906853, details={'was_impossible': False}),\n",
       " Prediction(uid=7269, iid=23601, r_ui=5.0, est=4.032262346112722, details={'was_impossible': False}),\n",
       " Prediction(uid=3472, iid=45811, r_ui=4.0, est=4.326346331894789, details={'was_impossible': False}),\n",
       " Prediction(uid=1458, iid=7979, r_ui=4.0, est=4.609520833628095, details={'was_impossible': False}),\n",
       " Prediction(uid=3940, iid=6616, r_ui=4.0, est=4.4430423464052735, details={'was_impossible': False}),\n",
       " Prediction(uid=3164, iid=45382, r_ui=2.0, est=3.900088266040397, details={'was_impossible': False}),\n",
       " Prediction(uid=4696, iid=34111, r_ui=5.0, est=4.870836562351601, details={'was_impossible': False}),\n",
       " Prediction(uid=6871, iid=15775, r_ui=4.0, est=3.3687565819868373, details={'was_impossible': False}),\n",
       " Prediction(uid=1119, iid=33713, r_ui=5.0, est=4.391876266590518, details={'was_impossible': False}),\n",
       " Prediction(uid=679, iid=33556, r_ui=2.0, est=2.429458449599129, details={'was_impossible': False}),\n",
       " Prediction(uid=1549, iid=5043, r_ui=1.0, est=3.3924124840307113, details={'was_impossible': False}),\n",
       " Prediction(uid=1873, iid=18535, r_ui=5.0, est=4.126080552787865, details={'was_impossible': False}),\n",
       " Prediction(uid=1100, iid=343, r_ui=3.0, est=4.344890426711616, details={'was_impossible': False}),\n",
       " Prediction(uid=4132, iid=25742, r_ui=3.0, est=3.299539282146147, details={'was_impossible': False}),\n",
       " Prediction(uid=9412, iid=52591, r_ui=5.0, est=4.1010023399523154, details={'was_impossible': False}),\n",
       " Prediction(uid=7987, iid=43657, r_ui=4.0, est=3.6323154385828103, details={'was_impossible': False}),\n",
       " Prediction(uid=2878, iid=33406, r_ui=3.0, est=3.316059780114799, details={'was_impossible': False}),\n",
       " Prediction(uid=9310, iid=12847, r_ui=3.0, est=3.400868488418257, details={'was_impossible': False}),\n",
       " Prediction(uid=3662, iid=31358, r_ui=5.0, est=4.870147986740603, details={'was_impossible': False}),\n",
       " Prediction(uid=6926, iid=49746, r_ui=3.0, est=4.253595814113947, details={'was_impossible': False}),\n",
       " Prediction(uid=9843, iid=10368, r_ui=4.0, est=3.7922788093321453, details={'was_impossible': False}),\n",
       " Prediction(uid=7809, iid=48913, r_ui=5.0, est=4.170688589680435, details={'was_impossible': False}),\n",
       " Prediction(uid=3095, iid=40449, r_ui=5.0, est=3.645967681178404, details={'was_impossible': False}),\n",
       " Prediction(uid=41, iid=18316, r_ui=5.0, est=4.2393839333555325, details={'was_impossible': False}),\n",
       " Prediction(uid=4531, iid=3346, r_ui=2.0, est=3.8279430891432735, details={'was_impossible': False}),\n",
       " Prediction(uid=4244, iid=12874, r_ui=3.0, est=3.3356927022646072, details={'was_impossible': False}),\n",
       " Prediction(uid=2544, iid=10397, r_ui=2.0, est=3.4344099588084163, details={'was_impossible': False}),\n",
       " Prediction(uid=4872, iid=6784, r_ui=2.0, est=2.734339688629244, details={'was_impossible': False}),\n",
       " Prediction(uid=6017, iid=39762, r_ui=5.0, est=3.8335708743126253, details={'was_impossible': False}),\n",
       " Prediction(uid=9337, iid=49878, r_ui=3.0, est=4.017957228880198, details={'was_impossible': False}),\n",
       " Prediction(uid=6559, iid=35715, r_ui=5.0, est=4.034004807263247, details={'was_impossible': False}),\n",
       " Prediction(uid=8653, iid=26160, r_ui=4.0, est=4.036378165299728, details={'was_impossible': False}),\n",
       " Prediction(uid=3057, iid=20928, r_ui=5.0, est=4.189063736226498, details={'was_impossible': False}),\n",
       " Prediction(uid=340, iid=50774, r_ui=4.0, est=3.444139690420325, details={'was_impossible': False}),\n",
       " Prediction(uid=4898, iid=11770, r_ui=4.0, est=3.6895177652337185, details={'was_impossible': False}),\n",
       " Prediction(uid=6993, iid=40526, r_ui=5.0, est=4.432307988820998, details={'was_impossible': False}),\n",
       " Prediction(uid=6641, iid=14087, r_ui=4.0, est=4.269505042779307, details={'was_impossible': False}),\n",
       " Prediction(uid=6347, iid=27959, r_ui=5.0, est=4.83637859507236, details={'was_impossible': False}),\n",
       " Prediction(uid=4766, iid=48018, r_ui=3.0, est=2.888493775817414, details={'was_impossible': False}),\n",
       " Prediction(uid=8311, iid=25545, r_ui=3.0, est=3.8612227679678326, details={'was_impossible': False}),\n",
       " Prediction(uid=211, iid=33207, r_ui=4.0, est=3.6655327791860097, details={'was_impossible': False}),\n",
       " Prediction(uid=4956, iid=25919, r_ui=4.0, est=3.547619432830191, details={'was_impossible': False}),\n",
       " Prediction(uid=5741, iid=34322, r_ui=3.0, est=2.906842226403024, details={'was_impossible': False}),\n",
       " Prediction(uid=8565, iid=34983, r_ui=3.0, est=3.3400266672368355, details={'was_impossible': False}),\n",
       " Prediction(uid=2835, iid=40344, r_ui=4.0, est=3.5149544462685447, details={'was_impossible': False}),\n",
       " Prediction(uid=9724, iid=19312, r_ui=2.0, est=3.634654584336399, details={'was_impossible': False}),\n",
       " Prediction(uid=506, iid=12471, r_ui=1.0, est=3.674503330986729, details={'was_impossible': False}),\n",
       " Prediction(uid=9309, iid=11505, r_ui=3.0, est=3.544026404984111, details={'was_impossible': False}),\n",
       " Prediction(uid=5658, iid=19337, r_ui=4.0, est=4.797191526942629, details={'was_impossible': False}),\n",
       " Prediction(uid=5489, iid=48206, r_ui=4.0, est=4.030694364421009, details={'was_impossible': False}),\n",
       " Prediction(uid=858, iid=41339, r_ui=4.0, est=3.9348045678500005, details={'was_impossible': False}),\n",
       " Prediction(uid=2728, iid=6285, r_ui=4.0, est=3.8116615504699136, details={'was_impossible': False}),\n",
       " Prediction(uid=2899, iid=11679, r_ui=4.0, est=3.4988104182674205, details={'was_impossible': False}),\n",
       " Prediction(uid=334, iid=6649, r_ui=4.0, est=4.436270333128136, details={'was_impossible': False}),\n",
       " Prediction(uid=5886, iid=16119, r_ui=5.0, est=3.7793804271037583, details={'was_impossible': False}),\n",
       " Prediction(uid=2843, iid=6609, r_ui=4.0, est=3.2960893222683665, details={'was_impossible': False}),\n",
       " Prediction(uid=7689, iid=37544, r_ui=5.0, est=4.26083478497613, details={'was_impossible': False}),\n",
       " Prediction(uid=6972, iid=49239, r_ui=5.0, est=4.040050915427843, details={'was_impossible': False}),\n",
       " Prediction(uid=7961, iid=1874, r_ui=4.0, est=3.8111346192307116, details={'was_impossible': False}),\n",
       " Prediction(uid=3489, iid=41351, r_ui=5.0, est=3.927491526288652, details={'was_impossible': False}),\n",
       " Prediction(uid=3679, iid=25691, r_ui=4.0, est=4.178740006200471, details={'was_impossible': False}),\n",
       " Prediction(uid=6393, iid=15130, r_ui=3.0, est=3.443432781888659, details={'was_impossible': False}),\n",
       " Prediction(uid=1365, iid=946, r_ui=3.0, est=3.011897839141281, details={'was_impossible': False}),\n",
       " Prediction(uid=9758, iid=31531, r_ui=5.0, est=4.348757239892236, details={'was_impossible': False}),\n",
       " Prediction(uid=6818, iid=23770, r_ui=4.0, est=3.4530783565287977, details={'was_impossible': False}),\n",
       " Prediction(uid=410, iid=43622, r_ui=3.0, est=3.935799021188878, details={'was_impossible': False}),\n",
       " Prediction(uid=6045, iid=33473, r_ui=4.0, est=4.14663453645649, details={'was_impossible': False}),\n",
       " Prediction(uid=2245, iid=44450, r_ui=5.0, est=5, details={'was_impossible': False}),\n",
       " Prediction(uid=6703, iid=21614, r_ui=4.0, est=3.634613575776697, details={'was_impossible': False}),\n",
       " Prediction(uid=3097, iid=49891, r_ui=3.0, est=3.80459495643839, details={'was_impossible': False}),\n",
       " Prediction(uid=3382, iid=45361, r_ui=3.0, est=3.3994499765769794, details={'was_impossible': False}),\n",
       " Prediction(uid=382, iid=27011, r_ui=5.0, est=3.56959997747082, details={'was_impossible': False}),\n",
       " Prediction(uid=6343, iid=31828, r_ui=5.0, est=3.413488046018913, details={'was_impossible': False}),\n",
       " Prediction(uid=4462, iid=11241, r_ui=5.0, est=4.83740988795471, details={'was_impossible': False}),\n",
       " Prediction(uid=6001, iid=34126, r_ui=4.0, est=4.511640753978298, details={'was_impossible': False}),\n",
       " Prediction(uid=9062, iid=48800, r_ui=5.0, est=4.919042507645698, details={'was_impossible': False}),\n",
       " Prediction(uid=6102, iid=28161, r_ui=3.0, est=3.6206991659435186, details={'was_impossible': False}),\n",
       " Prediction(uid=4867, iid=32134, r_ui=4.0, est=4.197538248225776, details={'was_impossible': False}),\n",
       " Prediction(uid=8163, iid=1115, r_ui=3.0, est=2.974119742075885, details={'was_impossible': False}),\n",
       " Prediction(uid=6909, iid=41614, r_ui=5.0, est=4.8216686021922035, details={'was_impossible': False}),\n",
       " Prediction(uid=2317, iid=14907, r_ui=3.0, est=3.9956391389281696, details={'was_impossible': False}),\n",
       " Prediction(uid=240, iid=49382, r_ui=5.0, est=3.8680733349768914, details={'was_impossible': False}),\n",
       " Prediction(uid=6756, iid=22757, r_ui=5.0, est=4.322250168333922, details={'was_impossible': False}),\n",
       " Prediction(uid=6490, iid=19800, r_ui=4.0, est=3.7269487843516096, details={'was_impossible': False}),\n",
       " Prediction(uid=4498, iid=41310, r_ui=4.0, est=3.9276056689009717, details={'was_impossible': False}),\n",
       " Prediction(uid=1641, iid=26030, r_ui=4.0, est=4.725109528787859, details={'was_impossible': False}),\n",
       " Prediction(uid=8318, iid=3111, r_ui=5.0, est=4.036670035260835, details={'was_impossible': False}),\n",
       " Prediction(uid=8374, iid=45263, r_ui=3.0, est=4.139018124589828, details={'was_impossible': False}),\n",
       " Prediction(uid=8803, iid=22342, r_ui=4.0, est=3.776497912711569, details={'was_impossible': False}),\n",
       " Prediction(uid=3867, iid=52816, r_ui=1.0, est=3.3682649916105456, details={'was_impossible': False}),\n",
       " Prediction(uid=3683, iid=11521, r_ui=4.0, est=3.731567259425965, details={'was_impossible': False}),\n",
       " Prediction(uid=5505, iid=15625, r_ui=2.0, est=2.999278475021533, details={'was_impossible': False}),\n",
       " Prediction(uid=2229, iid=43676, r_ui=4.0, est=2.853892016358796, details={'was_impossible': False}),\n",
       " Prediction(uid=9786, iid=36673, r_ui=4.0, est=3.661396415092007, details={'was_impossible': False}),\n",
       " Prediction(uid=9941, iid=47442, r_ui=5.0, est=3.90692954406596, details={'was_impossible': False}),\n",
       " Prediction(uid=9354, iid=390, r_ui=4.0, est=3.8290405443262907, details={'was_impossible': False}),\n",
       " Prediction(uid=6755, iid=10031, r_ui=4.0, est=3.687600377960137, details={'was_impossible': False}),\n",
       " Prediction(uid=1437, iid=46766, r_ui=5.0, est=4.007589559960804, details={'was_impossible': False}),\n",
       " Prediction(uid=2467, iid=27515, r_ui=5.0, est=4.322652118575284, details={'was_impossible': False}),\n",
       " Prediction(uid=1561, iid=21160, r_ui=5.0, est=4.368766009591674, details={'was_impossible': False}),\n",
       " Prediction(uid=7237, iid=27377, r_ui=4.0, est=2.8129627008153393, details={'was_impossible': False}),\n",
       " Prediction(uid=3638, iid=18831, r_ui=4.0, est=3.726027286539102, details={'was_impossible': False}),\n",
       " Prediction(uid=8932, iid=12884, r_ui=4.0, est=3.6564870898960873, details={'was_impossible': False}),\n",
       " Prediction(uid=9422, iid=17745, r_ui=5.0, est=3.4886431485068443, details={'was_impossible': False}),\n",
       " Prediction(uid=8401, iid=46378, r_ui=5.0, est=4.309175211199548, details={'was_impossible': False}),\n",
       " Prediction(uid=322, iid=32748, r_ui=5.0, est=4.76678616252806, details={'was_impossible': False}),\n",
       " Prediction(uid=4742, iid=50515, r_ui=4.0, est=3.786837705501766, details={'was_impossible': False}),\n",
       " Prediction(uid=7204, iid=29024, r_ui=5.0, est=2.935456465722438, details={'was_impossible': False}),\n",
       " Prediction(uid=2832, iid=39623, r_ui=4.0, est=3.816007117737409, details={'was_impossible': False}),\n",
       " Prediction(uid=7269, iid=16515, r_ui=5.0, est=4.116009450217012, details={'was_impossible': False}),\n",
       " Prediction(uid=7907, iid=17152, r_ui=5.0, est=4.445768722399389, details={'was_impossible': False}),\n",
       " Prediction(uid=7309, iid=13215, r_ui=4.0, est=3.780204229725857, details={'was_impossible': False}),\n",
       " Prediction(uid=7863, iid=52210, r_ui=5.0, est=4.825151928034336, details={'was_impossible': False}),\n",
       " Prediction(uid=9571, iid=47901, r_ui=4.0, est=3.985975283476517, details={'was_impossible': False}),\n",
       " Prediction(uid=9451, iid=27533, r_ui=3.0, est=4.020170613845703, details={'was_impossible': False}),\n",
       " Prediction(uid=4222, iid=1516, r_ui=4.0, est=3.908231963303756, details={'was_impossible': False}),\n",
       " Prediction(uid=8373, iid=19479, r_ui=5.0, est=4.184888249123472, details={'was_impossible': False}),\n",
       " Prediction(uid=231, iid=1185, r_ui=3.0, est=3.76899731761205, details={'was_impossible': False}),\n",
       " Prediction(uid=3602, iid=22647, r_ui=5.0, est=4.59569149817389, details={'was_impossible': False}),\n",
       " Prediction(uid=1487, iid=47639, r_ui=5.0, est=4.435350703865402, details={'was_impossible': False}),\n",
       " Prediction(uid=9344, iid=28183, r_ui=4.0, est=3.8188570264048685, details={'was_impossible': False}),\n",
       " Prediction(uid=479, iid=16576, r_ui=5.0, est=4.0265242712023515, details={'was_impossible': False}),\n",
       " Prediction(uid=7363, iid=29713, r_ui=2.0, est=3.399142529066378, details={'was_impossible': False}),\n",
       " Prediction(uid=5482, iid=37402, r_ui=4.0, est=3.7659520769200774, details={'was_impossible': False}),\n",
       " Prediction(uid=9597, iid=40736, r_ui=5.0, est=5, details={'was_impossible': False}),\n",
       " Prediction(uid=2006, iid=25872, r_ui=5.0, est=4.469949683623912, details={'was_impossible': False}),\n",
       " Prediction(uid=2388, iid=20288, r_ui=4.0, est=3.870880719947668, details={'was_impossible': False}),\n",
       " Prediction(uid=7313, iid=20957, r_ui=4.0, est=4.140100892361532, details={'was_impossible': False}),\n",
       " Prediction(uid=2860, iid=24791, r_ui=5.0, est=4.0797344934463915, details={'was_impossible': False}),\n",
       " Prediction(uid=2950, iid=44694, r_ui=3.0, est=3.1051621718231575, details={'was_impossible': False}),\n",
       " Prediction(uid=7619, iid=27401, r_ui=5.0, est=4.991077302686525, details={'was_impossible': False}),\n",
       " Prediction(uid=6322, iid=8216, r_ui=4.0, est=3.811443218471406, details={'was_impossible': False}),\n",
       " Prediction(uid=2507, iid=44840, r_ui=5.0, est=4.329130095145143, details={'was_impossible': False}),\n",
       " Prediction(uid=7822, iid=5667, r_ui=5.0, est=3.6987975453511064, details={'was_impossible': False}),\n",
       " Prediction(uid=7940, iid=28975, r_ui=5.0, est=4.968638222401491, details={'was_impossible': False}),\n",
       " Prediction(uid=5802, iid=25427, r_ui=4.0, est=3.9438000135494264, details={'was_impossible': False}),\n",
       " Prediction(uid=215, iid=24441, r_ui=5.0, est=4.697003055479359, details={'was_impossible': False}),\n",
       " Prediction(uid=9800, iid=33723, r_ui=5.0, est=4.84190459670262, details={'was_impossible': False}),\n",
       " Prediction(uid=2440, iid=8959, r_ui=3.0, est=3.311549295963812, details={'was_impossible': False}),\n",
       " Prediction(uid=4558, iid=14374, r_ui=4.0, est=3.2643565905175453, details={'was_impossible': False}),\n",
       " Prediction(uid=4912, iid=28420, r_ui=4.0, est=3.951365730109729, details={'was_impossible': False}),\n",
       " Prediction(uid=747, iid=37284, r_ui=3.0, est=3.859645306709103, details={'was_impossible': False}),\n",
       " Prediction(uid=7448, iid=49132, r_ui=4.0, est=3.9838674200711512, details={'was_impossible': False}),\n",
       " Prediction(uid=1820, iid=28438, r_ui=5.0, est=4.479949309268063, details={'was_impossible': False}),\n",
       " Prediction(uid=7944, iid=24786, r_ui=5.0, est=4.23957957769093, details={'was_impossible': False}),\n",
       " Prediction(uid=8396, iid=26191, r_ui=2.0, est=3.2015716759676462, details={'was_impossible': False}),\n",
       " Prediction(uid=758, iid=26729, r_ui=4.0, est=3.544610364104328, details={'was_impossible': False}),\n",
       " Prediction(uid=4381, iid=2155, r_ui=4.0, est=3.821507817427513, details={'was_impossible': False}),\n",
       " Prediction(uid=3769, iid=10948, r_ui=3.0, est=3.4802853738386226, details={'was_impossible': False}),\n",
       " Prediction(uid=2585, iid=20205, r_ui=5.0, est=4.321089691077378, details={'was_impossible': False}),\n",
       " Prediction(uid=5504, iid=6325, r_ui=4.0, est=3.8186599181929304, details={'was_impossible': False}),\n",
       " Prediction(uid=6180, iid=836, r_ui=3.0, est=3.203192785758699, details={'was_impossible': False}),\n",
       " Prediction(uid=8155, iid=27656, r_ui=3.0, est=4.148432689934254, details={'was_impossible': False}),\n",
       " Prediction(uid=1180, iid=4681, r_ui=4.0, est=3.5826312975660244, details={'was_impossible': False}),\n",
       " Prediction(uid=6982, iid=13853, r_ui=4.0, est=4.0219171853253615, details={'was_impossible': False}),\n",
       " Prediction(uid=7843, iid=44100, r_ui=1.0, est=3.7867198641944233, details={'was_impossible': False}),\n",
       " Prediction(uid=6117, iid=17112, r_ui=5.0, est=4.3813265112447555, details={'was_impossible': False}),\n",
       " Prediction(uid=8043, iid=48053, r_ui=3.0, est=3.9609482393185576, details={'was_impossible': False}),\n",
       " Prediction(uid=1025, iid=31721, r_ui=3.0, est=3.2864426915958522, details={'was_impossible': False}),\n",
       " Prediction(uid=1526, iid=20553, r_ui=1.0, est=2.4057052499485483, details={'was_impossible': False}),\n",
       " Prediction(uid=503, iid=29353, r_ui=4.0, est=3.6810758600302087, details={'was_impossible': False}),\n",
       " Prediction(uid=3322, iid=15608, r_ui=3.0, est=3.101880432886265, details={'was_impossible': False}),\n",
       " Prediction(uid=4405, iid=35665, r_ui=5.0, est=4.644812313430448, details={'was_impossible': False}),\n",
       " Prediction(uid=5227, iid=43049, r_ui=4.0, est=4.98388602368138, details={'was_impossible': False}),\n",
       " Prediction(uid=7852, iid=48723, r_ui=4.0, est=4.389247179430317, details={'was_impossible': False}),\n",
       " Prediction(uid=4498, iid=44346, r_ui=5.0, est=4.169530339280105, details={'was_impossible': False}),\n",
       " Prediction(uid=719, iid=50096, r_ui=5.0, est=4.3658582805597455, details={'was_impossible': False}),\n",
       " Prediction(uid=1964, iid=22013, r_ui=4.0, est=4.219557966664213, details={'was_impossible': False}),\n",
       " Prediction(uid=1781, iid=34268, r_ui=5.0, est=4.6799867636973405, details={'was_impossible': False}),\n",
       " Prediction(uid=7936, iid=37513, r_ui=5.0, est=4.314170761494485, details={'was_impossible': False}),\n",
       " Prediction(uid=2523, iid=22202, r_ui=5.0, est=4.8885188857099084, details={'was_impossible': False}),\n",
       " Prediction(uid=9167, iid=12507, r_ui=3.0, est=3.5527306824058194, details={'was_impossible': False}),\n",
       " Prediction(uid=1830, iid=25597, r_ui=3.0, est=2.8346119349900403, details={'was_impossible': False}),\n",
       " Prediction(uid=6875, iid=5870, r_ui=5.0, est=4.334627202565709, details={'was_impossible': False}),\n",
       " Prediction(uid=2735, iid=10060, r_ui=4.0, est=3.741653399394607, details={'was_impossible': False}),\n",
       " Prediction(uid=3183, iid=25910, r_ui=4.0, est=3.9770281641972867, details={'was_impossible': False}),\n",
       " Prediction(uid=6733, iid=29024, r_ui=5.0, est=2.294706460667685, details={'was_impossible': False}),\n",
       " Prediction(uid=7749, iid=3365, r_ui=3.0, est=3.1421264557810433, details={'was_impossible': False}),\n",
       " Prediction(uid=6880, iid=6488, r_ui=3.0, est=3.132351840283598, details={'was_impossible': False}),\n",
       " Prediction(uid=87, iid=6634, r_ui=4.0, est=4.209681753632293, details={'was_impossible': False}),\n",
       " Prediction(uid=9077, iid=39958, r_ui=4.0, est=3.61840866696623, details={'was_impossible': False}),\n",
       " Prediction(uid=155, iid=18361, r_ui=5.0, est=4.202753577154293, details={'was_impossible': False}),\n",
       " Prediction(uid=1103, iid=6329, r_ui=2.0, est=3.3016995708576093, details={'was_impossible': False}),\n",
       " Prediction(uid=864, iid=11527, r_ui=3.0, est=3.8679621395737183, details={'was_impossible': False}),\n",
       " Prediction(uid=4989, iid=28039, r_ui=4.0, est=3.1199559994159283, details={'was_impossible': False}),\n",
       " Prediction(uid=245, iid=11408, r_ui=3.0, est=3.264463504534451, details={'was_impossible': False}),\n",
       " Prediction(uid=369, iid=14119, r_ui=3.0, est=3.2299945099864504, details={'was_impossible': False}),\n",
       " Prediction(uid=5926, iid=3400, r_ui=4.0, est=3.6945429733376347, details={'was_impossible': False}),\n",
       " Prediction(uid=9058, iid=10772, r_ui=5.0, est=4.96598100989318, details={'was_impossible': False}),\n",
       " Prediction(uid=4661, iid=39569, r_ui=4.0, est=4.611944114017274, details={'was_impossible': False}),\n",
       " Prediction(uid=5942, iid=42232, r_ui=3.0, est=3.3835546893555786, details={'was_impossible': False}),\n",
       " Prediction(uid=2299, iid=31941, r_ui=5.0, est=5, details={'was_impossible': False}),\n",
       " Prediction(uid=4007, iid=46080, r_ui=5.0, est=4.46524397786838, details={'was_impossible': False}),\n",
       " Prediction(uid=5166, iid=38867, r_ui=5.0, est=4.246669995545624, details={'was_impossible': False}),\n",
       " Prediction(uid=7916, iid=13854, r_ui=5.0, est=4.036031526813407, details={'was_impossible': False}),\n",
       " Prediction(uid=3630, iid=25743, r_ui=2.0, est=3.1703654355755053, details={'was_impossible': False}),\n",
       " Prediction(uid=3415, iid=45513, r_ui=2.0, est=3.871992950207888, details={'was_impossible': False}),\n",
       " Prediction(uid=2766, iid=48607, r_ui=3.0, est=3.7006902347886896, details={'was_impossible': False}),\n",
       " Prediction(uid=1735, iid=13976, r_ui=5.0, est=3.7554132844777017, details={'was_impossible': False}),\n",
       " Prediction(uid=9509, iid=18013, r_ui=4.0, est=3.781356299707596, details={'was_impossible': False}),\n",
       " Prediction(uid=8342, iid=46534, r_ui=4.0, est=2.8983917850410816, details={'was_impossible': False}),\n",
       " Prediction(uid=4722, iid=34889, r_ui=4.0, est=4.412627695653328, details={'was_impossible': False}),\n",
       " Prediction(uid=9383, iid=19982, r_ui=4.0, est=3.9161398650902437, details={'was_impossible': False}),\n",
       " Prediction(uid=3414, iid=8999, r_ui=4.0, est=3.4951561561201583, details={'was_impossible': False}),\n",
       " Prediction(uid=2530, iid=16707, r_ui=2.0, est=3.315504369977859, details={'was_impossible': False}),\n",
       " Prediction(uid=6785, iid=48703, r_ui=5.0, est=4.285560961425443, details={'was_impossible': False}),\n",
       " Prediction(uid=2076, iid=16297, r_ui=5.0, est=4.307860199778223, details={'was_impossible': False}),\n",
       " Prediction(uid=9009, iid=11913, r_ui=2.0, est=2.8354522960698447, details={'was_impossible': False}),\n",
       " Prediction(uid=1098, iid=10688, r_ui=3.0, est=3.891694960169784, details={'was_impossible': False}),\n",
       " Prediction(uid=6992, iid=40367, r_ui=5.0, est=3.8805808010054297, details={'was_impossible': False}),\n",
       " Prediction(uid=6130, iid=42334, r_ui=5.0, est=4.195187102236401, details={'was_impossible': False}),\n",
       " Prediction(uid=4838, iid=1260, r_ui=3.0, est=3.3595863165186564, details={'was_impossible': False}),\n",
       " Prediction(uid=5461, iid=36135, r_ui=4.0, est=3.516733081365353, details={'was_impossible': False}),\n",
       " Prediction(uid=5016, iid=45612, r_ui=3.0, est=4.1605468869120585, details={'was_impossible': False}),\n",
       " Prediction(uid=6381, iid=27579, r_ui=4.0, est=4.20513085146893, details={'was_impossible': False}),\n",
       " Prediction(uid=2404, iid=49187, r_ui=5.0, est=4.131688546695731, details={'was_impossible': False}),\n",
       " Prediction(uid=4863, iid=9128, r_ui=4.0, est=4.246495804968873, details={'was_impossible': False}),\n",
       " Prediction(uid=5877, iid=18765, r_ui=3.0, est=3.43919730914755, details={'was_impossible': False}),\n",
       " Prediction(uid=8370, iid=16159, r_ui=5.0, est=3.604214594691845, details={'was_impossible': False}),\n",
       " Prediction(uid=7910, iid=595, r_ui=4.0, est=4.248481253695989, details={'was_impossible': False}),\n",
       " Prediction(uid=2845, iid=51625, r_ui=5.0, est=4.3793882898648, details={'was_impossible': False}),\n",
       " Prediction(uid=9036, iid=23350, r_ui=4.0, est=3.582351662919647, details={'was_impossible': False}),\n",
       " Prediction(uid=2332, iid=31327, r_ui=4.0, est=3.1840381374108104, details={'was_impossible': False}),\n",
       " Prediction(uid=7028, iid=1129, r_ui=5.0, est=3.845392054597604, details={'was_impossible': False}),\n",
       " Prediction(uid=4981, iid=11160, r_ui=3.0, est=4.3590746973740035, details={'was_impossible': False}),\n",
       " Prediction(uid=5189, iid=28950, r_ui=4.0, est=4.358721067355405, details={'was_impossible': False}),\n",
       " Prediction(uid=3258, iid=13763, r_ui=5.0, est=4.13672771380784, details={'was_impossible': False}),\n",
       " Prediction(uid=2377, iid=45155, r_ui=4.0, est=3.484299074174442, details={'was_impossible': False}),\n",
       " Prediction(uid=5666, iid=13378, r_ui=5.0, est=4.683922202643668, details={'was_impossible': False}),\n",
       " Prediction(uid=5013, iid=51714, r_ui=4.0, est=2.9643251664069266, details={'was_impossible': False}),\n",
       " Prediction(uid=271, iid=32918, r_ui=3.0, est=4.8375790748573575, details={'was_impossible': False}),\n",
       " Prediction(uid=4350, iid=11610, r_ui=2.0, est=3.1904248702345828, details={'was_impossible': False}),\n",
       " Prediction(uid=9894, iid=5364, r_ui=5.0, est=4.30430180902481, details={'was_impossible': False}),\n",
       " Prediction(uid=7957, iid=2499, r_ui=4.0, est=3.598144432157108, details={'was_impossible': False}),\n",
       " Prediction(uid=622, iid=4846, r_ui=3.0, est=2.3865516639716797, details={'was_impossible': False}),\n",
       " Prediction(uid=8570, iid=27472, r_ui=5.0, est=4.605469273134344, details={'was_impossible': False}),\n",
       " Prediction(uid=9676, iid=49262, r_ui=3.0, est=3.424110011423538, details={'was_impossible': False}),\n",
       " Prediction(uid=1894, iid=21170, r_ui=3.0, est=2.866085665248881, details={'was_impossible': False}),\n",
       " Prediction(uid=4066, iid=9483, r_ui=5.0, est=4.32994683973705, details={'was_impossible': False}),\n",
       " Prediction(uid=7447, iid=25910, r_ui=5.0, est=4.168923510739675, details={'was_impossible': False}),\n",
       " Prediction(uid=6513, iid=14197, r_ui=3.0, est=3.8715042938445787, details={'was_impossible': False}),\n",
       " Prediction(uid=9896, iid=29241, r_ui=4.0, est=3.8947813242284126, details={'was_impossible': False}),\n",
       " Prediction(uid=4060, iid=19777, r_ui=3.0, est=2.9741819185131857, details={'was_impossible': False}),\n",
       " Prediction(uid=5848, iid=52122, r_ui=5.0, est=5, details={'was_impossible': False}),\n",
       " Prediction(uid=3443, iid=19137, r_ui=3.0, est=4.3475369072789425, details={'was_impossible': False}),\n",
       " Prediction(uid=1014, iid=6017, r_ui=3.0, est=3.229010535968235, details={'was_impossible': False}),\n",
       " Prediction(uid=7937, iid=9191, r_ui=4.0, est=3.644139726955178, details={'was_impossible': False}),\n",
       " Prediction(uid=1949, iid=50023, r_ui=2.0, est=3.407740676839621, details={'was_impossible': False}),\n",
       " Prediction(uid=821, iid=4715, r_ui=2.0, est=3.143345067364778, details={'was_impossible': False}),\n",
       " Prediction(uid=6319, iid=11652, r_ui=4.0, est=3.326720045596948, details={'was_impossible': False}),\n",
       " Prediction(uid=6959, iid=3693, r_ui=3.0, est=3.287700600004471, details={'was_impossible': False}),\n",
       " Prediction(uid=1320, iid=22034, r_ui=5.0, est=4.056166602342788, details={'was_impossible': False}),\n",
       " Prediction(uid=4129, iid=4840, r_ui=4.0, est=3.8053972031260868, details={'was_impossible': False}),\n",
       " Prediction(uid=2668, iid=21511, r_ui=5.0, est=3.990960382654265, details={'was_impossible': False}),\n",
       " Prediction(uid=232, iid=50684, r_ui=4.0, est=4.509446210138322, details={'was_impossible': False}),\n",
       " Prediction(uid=9431, iid=6620, r_ui=4.0, est=3.481694092348058, details={'was_impossible': False}),\n",
       " Prediction(uid=7923, iid=20423, r_ui=4.0, est=4.305050936490513, details={'was_impossible': False}),\n",
       " Prediction(uid=7246, iid=10813, r_ui=3.0, est=3.2947047413182773, details={'was_impossible': False}),\n",
       " Prediction(uid=9359, iid=22758, r_ui=5.0, est=4.303726064179688, details={'was_impossible': False}),\n",
       " Prediction(uid=9408, iid=36497, r_ui=4.0, est=3.8179344730676634, details={'was_impossible': False}),\n",
       " Prediction(uid=2754, iid=47876, r_ui=5.0, est=4.238049615720331, details={'was_impossible': False}),\n",
       " Prediction(uid=4534, iid=5863, r_ui=4.0, est=3.664039940486692, details={'was_impossible': False}),\n",
       " Prediction(uid=2171, iid=46746, r_ui=2.0, est=2.681162476905514, details={'was_impossible': False}),\n",
       " Prediction(uid=7328, iid=22326, r_ui=3.0, est=4.138226981403277, details={'was_impossible': False}),\n",
       " Prediction(uid=3363, iid=5598, r_ui=4.0, est=3.473656707274229, details={'was_impossible': False}),\n",
       " Prediction(uid=1893, iid=38551, r_ui=4.0, est=3.7990341290251592, details={'was_impossible': False}),\n",
       " Prediction(uid=3650, iid=45462, r_ui=4.0, est=4.384208470169582, details={'was_impossible': False}),\n",
       " Prediction(uid=3621, iid=30355, r_ui=3.0, est=4.108913410605018, details={'was_impossible': False}),\n",
       " Prediction(uid=627, iid=17329, r_ui=3.0, est=4.076980477540037, details={'was_impossible': False}),\n",
       " Prediction(uid=4101, iid=3468, r_ui=3.0, est=3.28717737606386, details={'was_impossible': False}),\n",
       " Prediction(uid=3676, iid=3621, r_ui=3.0, est=2.985948266534261, details={'was_impossible': False}),\n",
       " Prediction(uid=7081, iid=38165, r_ui=5.0, est=3.7561910054404257, details={'was_impossible': False}),\n",
       " Prediction(uid=5517, iid=51728, r_ui=3.0, est=3.8129365757730183, details={'was_impossible': False}),\n",
       " Prediction(uid=8167, iid=50762, r_ui=4.0, est=3.856351934938604, details={'was_impossible': False}),\n",
       " Prediction(uid=9287, iid=40415, r_ui=4.0, est=3.5987243960089415, details={'was_impossible': False}),\n",
       " Prediction(uid=1880, iid=5568, r_ui=5.0, est=5, details={'was_impossible': False}),\n",
       " Prediction(uid=5253, iid=23482, r_ui=1.0, est=3.305668345202021, details={'was_impossible': False}),\n",
       " Prediction(uid=4492, iid=8970, r_ui=4.0, est=3.5666827871320823, details={'was_impossible': False}),\n",
       " Prediction(uid=7959, iid=42621, r_ui=4.0, est=4.05435307250246, details={'was_impossible': False}),\n",
       " Prediction(uid=2671, iid=41792, r_ui=3.0, est=3.5863004273019397, details={'was_impossible': False}),\n",
       " Prediction(uid=4889, iid=12306, r_ui=5.0, est=5, details={'was_impossible': False}),\n",
       " Prediction(uid=3780, iid=2446, r_ui=4.0, est=3.323754198521981, details={'was_impossible': False}),\n",
       " Prediction(uid=9603, iid=10647, r_ui=4.0, est=3.797070728874963, details={'was_impossible': False}),\n",
       " Prediction(uid=7658, iid=3776, r_ui=2.0, est=3.1511380215850386, details={'was_impossible': False}),\n",
       " Prediction(uid=1970, iid=10953, r_ui=3.0, est=2.4926143242971857, details={'was_impossible': False}),\n",
       " Prediction(uid=4375, iid=41969, r_ui=4.0, est=4.575672793036735, details={'was_impossible': False}),\n",
       " Prediction(uid=6163, iid=27039, r_ui=5.0, est=3.626795987346693, details={'was_impossible': False}),\n",
       " Prediction(uid=5117, iid=42204, r_ui=4.0, est=4.2883704552342, details={'was_impossible': False}),\n",
       " Prediction(uid=7783, iid=19, r_ui=4.0, est=3.4975926802684287, details={'was_impossible': False}),\n",
       " Prediction(uid=662, iid=11272, r_ui=3.0, est=3.6867813872375597, details={'was_impossible': False}),\n",
       " Prediction(uid=1037, iid=44470, r_ui=4.0, est=3.485559679346561, details={'was_impossible': False}),\n",
       " Prediction(uid=3771, iid=46528, r_ui=3.0, est=3.4763086706371618, details={'was_impossible': False}),\n",
       " Prediction(uid=7335, iid=42414, r_ui=5.0, est=4.883454875125266, details={'was_impossible': False}),\n",
       " Prediction(uid=5383, iid=11829, r_ui=3.0, est=3.5954862999979733, details={'was_impossible': False}),\n",
       " Prediction(uid=8046, iid=46666, r_ui=2.0, est=3.7575715610290765, details={'was_impossible': False}),\n",
       " Prediction(uid=1387, iid=53381, r_ui=4.0, est=3.280060224490862, details={'was_impossible': False}),\n",
       " Prediction(uid=7733, iid=16054, r_ui=5.0, est=4.850869955939169, details={'was_impossible': False}),\n",
       " Prediction(uid=1185, iid=10228, r_ui=4.0, est=3.812557814907715, details={'was_impossible': False}),\n",
       " Prediction(uid=1048, iid=32269, r_ui=5.0, est=3.7411179957616243, details={'was_impossible': False}),\n",
       " Prediction(uid=7072, iid=43959, r_ui=4.0, est=4.616488802837324, details={'was_impossible': False}),\n",
       " Prediction(uid=4536, iid=27150, r_ui=4.0, est=3.92589759291083, details={'was_impossible': False}),\n",
       " Prediction(uid=5555, iid=47799, r_ui=5.0, est=4.254445797687291, details={'was_impossible': False}),\n",
       " Prediction(uid=4718, iid=36815, r_ui=4.0, est=3.6983275560343274, details={'was_impossible': False}),\n",
       " Prediction(uid=9766, iid=45708, r_ui=3.0, est=4.016426589960721, details={'was_impossible': False}),\n",
       " Prediction(uid=1807, iid=2959, r_ui=5.0, est=3.7850603438780626, details={'was_impossible': False}),\n",
       " Prediction(uid=9016, iid=21977, r_ui=4.0, est=3.8217303874389033, details={'was_impossible': False}),\n",
       " Prediction(uid=1868, iid=34464, r_ui=4.0, est=3.6571588578020626, details={'was_impossible': False}),\n",
       " Prediction(uid=1735, iid=40017, r_ui=3.0, est=2.540838718949818, details={'was_impossible': False}),\n",
       " Prediction(uid=9040, iid=20353, r_ui=4.0, est=4.1621242205893285, details={'was_impossible': False}),\n",
       " Prediction(uid=7865, iid=7737, r_ui=3.0, est=4.03935784702366, details={'was_impossible': False}),\n",
       " Prediction(uid=6087, iid=44188, r_ui=4.0, est=4.2623375951144755, details={'was_impossible': False}),\n",
       " Prediction(uid=8230, iid=11493, r_ui=4.0, est=3.6167073837952177, details={'was_impossible': False}),\n",
       " Prediction(uid=884, iid=25877, r_ui=4.0, est=3.801522632191923, details={'was_impossible': False}),\n",
       " Prediction(uid=1013, iid=47478, r_ui=1.0, est=2.48818204615802, details={'was_impossible': False}),\n",
       " Prediction(uid=9921, iid=26292, r_ui=5.0, est=4.474293776618642, details={'was_impossible': False}),\n",
       " Prediction(uid=4979, iid=19868, r_ui=4.0, est=3.2401807304720847, details={'was_impossible': False}),\n",
       " Prediction(uid=6148, iid=9092, r_ui=4.0, est=3.588337270321079, details={'was_impossible': False}),\n",
       " Prediction(uid=1928, iid=23172, r_ui=4.0, est=3.659023737292339, details={'was_impossible': False}),\n",
       " Prediction(uid=1939, iid=37911, r_ui=5.0, est=4.659333380527248, details={'was_impossible': False}),\n",
       " Prediction(uid=5356, iid=27565, r_ui=4.0, est=4.27094487168432, details={'was_impossible': False}),\n",
       " Prediction(uid=8740, iid=40497, r_ui=4.0, est=3.7446534553302775, details={'was_impossible': False}),\n",
       " Prediction(uid=1463, iid=43887, r_ui=3.0, est=3.5191498942468, details={'was_impossible': False}),\n",
       " Prediction(uid=1899, iid=51768, r_ui=5.0, est=4.48980593420162, details={'was_impossible': False}),\n",
       " Prediction(uid=4123, iid=8027, r_ui=2.0, est=3.0884049851354733, details={'was_impossible': False}),\n",
       " Prediction(uid=3302, iid=16843, r_ui=2.0, est=3.7246454310446513, details={'was_impossible': False}),\n",
       " Prediction(uid=6342, iid=13682, r_ui=4.0, est=3.7720145400626124, details={'was_impossible': False}),\n",
       " Prediction(uid=2948, iid=18712, r_ui=4.0, est=4.024066420291728, details={'was_impossible': False}),\n",
       " Prediction(uid=1659, iid=22114, r_ui=3.0, est=3.6099768871424085, details={'was_impossible': False}),\n",
       " Prediction(uid=2994, iid=624, r_ui=4.0, est=3.13565367398182, details={'was_impossible': False}),\n",
       " Prediction(uid=3508, iid=3739, r_ui=5.0, est=4.596171245092107, details={'was_impossible': False}),\n",
       " Prediction(uid=5316, iid=14470, r_ui=4.0, est=4.099181473314691, details={'was_impossible': False}),\n",
       " Prediction(uid=5372, iid=17735, r_ui=3.0, est=3.840729480693923, details={'was_impossible': False}),\n",
       " Prediction(uid=3397, iid=41302, r_ui=3.0, est=3.6460489557436375, details={'was_impossible': False}),\n",
       " Prediction(uid=2936, iid=19209, r_ui=4.0, est=3.9794323226953288, details={'was_impossible': False}),\n",
       " Prediction(uid=8427, iid=33939, r_ui=4.0, est=4.092168219328409, details={'was_impossible': False}),\n",
       " Prediction(uid=1073, iid=31996, r_ui=3.0, est=3.4076371781504395, details={'was_impossible': False}),\n",
       " Prediction(uid=5799, iid=35374, r_ui=5.0, est=4.351532731937622, details={'was_impossible': False}),\n",
       " Prediction(uid=2570, iid=26018, r_ui=4.0, est=3.170658656332425, details={'was_impossible': False}),\n",
       " Prediction(uid=8852, iid=50680, r_ui=4.0, est=4.508102390029311, details={'was_impossible': False}),\n",
       " Prediction(uid=9521, iid=49354, r_ui=5.0, est=4.094334988583578, details={'was_impossible': False}),\n",
       " Prediction(uid=9287, iid=2750, r_ui=3.0, est=3.3289178107205677, details={'was_impossible': False}),\n",
       " Prediction(uid=4561, iid=25134, r_ui=4.0, est=3.9681748457847843, details={'was_impossible': False}),\n",
       " Prediction(uid=1411, iid=39423, r_ui=3.0, est=3.724758302232442, details={'was_impossible': False}),\n",
       " Prediction(uid=4608, iid=34723, r_ui=4.0, est=3.785689643512518, details={'was_impossible': False}),\n",
       " Prediction(uid=2116, iid=28214, r_ui=4.0, est=3.7386102329436186, details={'was_impossible': False}),\n",
       " Prediction(uid=8012, iid=857, r_ui=4.0, est=3.457437135876434, details={'was_impossible': False}),\n",
       " Prediction(uid=2018, iid=274, r_ui=4.0, est=4.699468220302807, details={'was_impossible': False}),\n",
       " Prediction(uid=2744, iid=22505, r_ui=5.0, est=3.8258181155001125, details={'was_impossible': False}),\n",
       " Prediction(uid=4389, iid=39720, r_ui=5.0, est=4.353883654986129, details={'was_impossible': False}),\n",
       " Prediction(uid=7795, iid=2356, r_ui=3.0, est=3.7275283921380034, details={'was_impossible': False}),\n",
       " Prediction(uid=6087, iid=25239, r_ui=2.0, est=3.2701512244161743, details={'was_impossible': False}),\n",
       " Prediction(uid=7915, iid=51534, r_ui=3.0, est=3.7800290164054986, details={'was_impossible': False}),\n",
       " Prediction(uid=5503, iid=25675, r_ui=4.0, est=4.223562914652737, details={'was_impossible': False}),\n",
       " Prediction(uid=2835, iid=39189, r_ui=4.0, est=4.406392638655265, details={'was_impossible': False}),\n",
       " Prediction(uid=5956, iid=50928, r_ui=5.0, est=4.195885850695949, details={'was_impossible': False}),\n",
       " Prediction(uid=7425, iid=10135, r_ui=3.0, est=4.092226986113356, details={'was_impossible': False}),\n",
       " Prediction(uid=2464, iid=1352, r_ui=5.0, est=3.601450497053621, details={'was_impossible': False}),\n",
       " Prediction(uid=8770, iid=50222, r_ui=5.0, est=4.279562973076116, details={'was_impossible': False}),\n",
       " Prediction(uid=1068, iid=7319, r_ui=5.0, est=3.2546256817811927, details={'was_impossible': False}),\n",
       " Prediction(uid=5846, iid=51377, r_ui=3.0, est=3.5217386363868606, details={'was_impossible': False}),\n",
       " Prediction(uid=2942, iid=52322, r_ui=4.0, est=4.458903456090895, details={'was_impossible': False}),\n",
       " Prediction(uid=1239, iid=43858, r_ui=4.0, est=4.227943653099935, details={'was_impossible': False}),\n",
       " Prediction(uid=538, iid=10288, r_ui=5.0, est=3.69167572958081, details={'was_impossible': False}),\n",
       " Prediction(uid=5215, iid=20539, r_ui=4.0, est=4.133558009079977, details={'was_impossible': False}),\n",
       " Prediction(uid=5273, iid=52332, r_ui=5.0, est=4.574867294842486, details={'was_impossible': False}),\n",
       " Prediction(uid=6190, iid=53266, r_ui=4.0, est=3.8465798334910453, details={'was_impossible': False}),\n",
       " Prediction(uid=7396, iid=13742, r_ui=3.0, est=3.899586710958078, details={'was_impossible': False}),\n",
       " Prediction(uid=9528, iid=8705, r_ui=5.0, est=3.8863072940210084, details={'was_impossible': False}),\n",
       " Prediction(uid=859, iid=38079, r_ui=4.0, est=3.9974160748752166, details={'was_impossible': False}),\n",
       " Prediction(uid=2110, iid=41633, r_ui=3.0, est=4.60543265851428, details={'was_impossible': False}),\n",
       " Prediction(uid=2011, iid=34787, r_ui=3.0, est=3.437461475141912, details={'was_impossible': False}),\n",
       " Prediction(uid=2945, iid=6263, r_ui=3.0, est=3.165590748460288, details={'was_impossible': False}),\n",
       " Prediction(uid=1582, iid=1710, r_ui=4.0, est=3.1416141240405984, details={'was_impossible': False}),\n",
       " Prediction(uid=3407, iid=6217, r_ui=4.0, est=3.968583616631555, details={'was_impossible': False}),\n",
       " Prediction(uid=3212, iid=29353, r_ui=4.0, est=3.219425793606458, details={'was_impossible': False}),\n",
       " Prediction(uid=4069, iid=43465, r_ui=5.0, est=4.738839822609581, details={'was_impossible': False}),\n",
       " Prediction(uid=9, iid=11445, r_ui=4.0, est=3.233876006469967, details={'was_impossible': False}),\n",
       " Prediction(uid=2640, iid=21418, r_ui=5.0, est=4.489895956204072, details={'was_impossible': False}),\n",
       " Prediction(uid=5282, iid=27940, r_ui=4.0, est=4.118443143920788, details={'was_impossible': False}),\n",
       " Prediction(uid=9140, iid=33774, r_ui=4.0, est=3.689478911342516, details={'was_impossible': False}),\n",
       " Prediction(uid=4599, iid=15034, r_ui=4.0, est=4.057640312211555, details={'was_impossible': False}),\n",
       " Prediction(uid=4573, iid=49867, r_ui=5.0, est=3.8774692313427828, details={'was_impossible': False}),\n",
       " Prediction(uid=424, iid=48007, r_ui=4.0, est=3.53687450662086, details={'was_impossible': False}),\n",
       " Prediction(uid=5001, iid=32481, r_ui=4.0, est=3.940826935603009, details={'was_impossible': False}),\n",
       " Prediction(uid=2417, iid=5535, r_ui=4.0, est=3.674857176915067, details={'was_impossible': False}),\n",
       " Prediction(uid=7414, iid=5980, r_ui=4.0, est=3.3360713838947245, details={'was_impossible': False}),\n",
       " Prediction(uid=6485, iid=14026, r_ui=5.0, est=4.116779536498263, details={'was_impossible': False}),\n",
       " Prediction(uid=2957, iid=12404, r_ui=3.0, est=3.742649778396241, details={'was_impossible': False}),\n",
       " Prediction(uid=1516, iid=9672, r_ui=3.0, est=3.4921521862411136, details={'was_impossible': False}),\n",
       " Prediction(uid=3597, iid=52196, r_ui=5.0, est=3.83129086823866, details={'was_impossible': False}),\n",
       " Prediction(uid=9583, iid=12131, r_ui=4.0, est=3.7126242887959426, details={'was_impossible': False}),\n",
       " Prediction(uid=7115, iid=31896, r_ui=3.0, est=3.494782836685606, details={'was_impossible': False}),\n",
       " Prediction(uid=6438, iid=21024, r_ui=4.0, est=4.544967738858981, details={'was_impossible': False}),\n",
       " Prediction(uid=5556, iid=18297, r_ui=4.0, est=3.495320834276142, details={'was_impossible': False}),\n",
       " Prediction(uid=4922, iid=27992, r_ui=5.0, est=3.872588095434707, details={'was_impossible': False}),\n",
       " Prediction(uid=134, iid=11408, r_ui=2.0, est=2.8108653934275645, details={'was_impossible': False}),\n",
       " Prediction(uid=1723, iid=35138, r_ui=4.0, est=4.582613011013456, details={'was_impossible': False}),\n",
       " Prediction(uid=8359, iid=15885, r_ui=5.0, est=3.9142684720818415, details={'was_impossible': False}),\n",
       " Prediction(uid=8018, iid=49564, r_ui=4.0, est=4.016045709903317, details={'was_impossible': False}),\n",
       " Prediction(uid=4654, iid=49297, r_ui=5.0, est=4.98744099042548, details={'was_impossible': False}),\n",
       " Prediction(uid=3151, iid=11426, r_ui=4.0, est=3.6792551216104976, details={'was_impossible': False}),\n",
       " Prediction(uid=1766, iid=37542, r_ui=3.0, est=3.081655030894325, details={'was_impossible': False}),\n",
       " Prediction(uid=2610, iid=6524, r_ui=5.0, est=3.9381077798229396, details={'was_impossible': False}),\n",
       " Prediction(uid=8018, iid=14489, r_ui=5.0, est=3.536545285603821, details={'was_impossible': False}),\n",
       " Prediction(uid=5224, iid=41433, r_ui=4.0, est=3.735147337934725, details={'was_impossible': False}),\n",
       " Prediction(uid=7398, iid=38020, r_ui=4.0, est=4.144174396716393, details={'was_impossible': False}),\n",
       " Prediction(uid=7977, iid=18017, r_ui=3.0, est=4.262410925978852, details={'was_impossible': False}),\n",
       " Prediction(uid=1264, iid=15580, r_ui=4.0, est=4.39140787820942, details={'was_impossible': False}),\n",
       " Prediction(uid=1617, iid=44019, r_ui=5.0, est=4.389285242860489, details={'was_impossible': False}),\n",
       " Prediction(uid=2936, iid=3080, r_ui=3.0, est=3.633671586436144, details={'was_impossible': False}),\n",
       " Prediction(uid=3545, iid=13163, r_ui=5.0, est=4.5175251560317236, details={'was_impossible': False}),\n",
       " Prediction(uid=8223, iid=29904, r_ui=5.0, est=4.185997999044178, details={'was_impossible': False}),\n",
       " Prediction(uid=9968, iid=37508, r_ui=5.0, est=4.075354898861858, details={'was_impossible': False}),\n",
       " Prediction(uid=9708, iid=9225, r_ui=4.0, est=3.914495313932022, details={'was_impossible': False}),\n",
       " Prediction(uid=7967, iid=48253, r_ui=3.0, est=3.5772075260713776, details={'was_impossible': False}),\n",
       " Prediction(uid=8391, iid=45359, r_ui=5.0, est=3.3950631783749823, details={'was_impossible': False}),\n",
       " Prediction(uid=5263, iid=19990, r_ui=4.0, est=3.884783983872511, details={'was_impossible': False}),\n",
       " Prediction(uid=5046, iid=31205, r_ui=4.0, est=3.9589014037708323, details={'was_impossible': False}),\n",
       " Prediction(uid=5790, iid=4174, r_ui=3.0, est=3.744948668478346, details={'was_impossible': False}),\n",
       " Prediction(uid=728, iid=5551, r_ui=3.0, est=4.15909466606498, details={'was_impossible': False}),\n",
       " Prediction(uid=8158, iid=23197, r_ui=3.0, est=4.538119613709373, details={'was_impossible': False}),\n",
       " Prediction(uid=2509, iid=49562, r_ui=4.0, est=3.185394298917258, details={'was_impossible': False}),\n",
       " Prediction(uid=6157, iid=8094, r_ui=5.0, est=3.970901414864738, details={'was_impossible': False}),\n",
       " Prediction(uid=1937, iid=7093, r_ui=5.0, est=4.291433171608487, details={'was_impossible': False}),\n",
       " Prediction(uid=1466, iid=8691, r_ui=2.0, est=3.2192285987968225, details={'was_impossible': False}),\n",
       " Prediction(uid=1700, iid=50473, r_ui=5.0, est=4.0502002600411275, details={'was_impossible': False}),\n",
       " Prediction(uid=591, iid=35296, r_ui=5.0, est=4.363072992882845, details={'was_impossible': False}),\n",
       " Prediction(uid=9, iid=14372, r_ui=2.0, est=3.0642106646391145, details={'was_impossible': False}),\n",
       " Prediction(uid=9447, iid=2118, r_ui=2.0, est=3.4210944259755007, details={'was_impossible': False}),\n",
       " Prediction(uid=1766, iid=37019, r_ui=5.0, est=3.943397517932188, details={'was_impossible': False}),\n",
       " Prediction(uid=2359, iid=19725, r_ui=3.0, est=3.608092754235643, details={'was_impossible': False}),\n",
       " Prediction(uid=5945, iid=53131, r_ui=3.0, est=3.320149282825852, details={'was_impossible': False}),\n",
       " Prediction(uid=5648, iid=494, r_ui=4.0, est=3.8398152102519565, details={'was_impossible': False}),\n",
       " Prediction(uid=3676, iid=19290, r_ui=3.0, est=3.2948984893759374, details={'was_impossible': False}),\n",
       " Prediction(uid=2576, iid=41987, r_ui=4.0, est=3.8221473594154025, details={'was_impossible': False}),\n",
       " Prediction(uid=9714, iid=30068, r_ui=5.0, est=4.13235422638982, details={'was_impossible': False}),\n",
       " Prediction(uid=8830, iid=7507, r_ui=3.0, est=3.9773689520611244, details={'was_impossible': False}),\n",
       " Prediction(uid=9621, iid=20217, r_ui=3.0, est=2.929843313512763, details={'was_impossible': False}),\n",
       " Prediction(uid=1001, iid=20040, r_ui=1.0, est=2.7993737149572904, details={'was_impossible': False}),\n",
       " Prediction(uid=6844, iid=399, r_ui=5.0, est=4.340165601966234, details={'was_impossible': False}),\n",
       " Prediction(uid=2597, iid=16858, r_ui=5.0, est=3.7196553217668855, details={'was_impossible': False}),\n",
       " Prediction(uid=2209, iid=36695, r_ui=5.0, est=4.373566188169412, details={'was_impossible': False}),\n",
       " Prediction(uid=9679, iid=45176, r_ui=5.0, est=4.282208025495658, details={'was_impossible': False}),\n",
       " Prediction(uid=9617, iid=46625, r_ui=4.0, est=4.098076449617669, details={'was_impossible': False}),\n",
       " Prediction(uid=5461, iid=1563, r_ui=4.0, est=3.317939216806622, details={'was_impossible': False}),\n",
       " Prediction(uid=5832, iid=45260, r_ui=3.0, est=2.7305013350855987, details={'was_impossible': False}),\n",
       " Prediction(uid=9466, iid=43463, r_ui=3.0, est=3.8257924467758095, details={'was_impossible': False}),\n",
       " Prediction(uid=1022, iid=13053, r_ui=4.0, est=4.02179499292307, details={'was_impossible': False}),\n",
       " Prediction(uid=2548, iid=12464, r_ui=4.0, est=3.855087867284527, details={'was_impossible': False}),\n",
       " Prediction(uid=163, iid=46479, r_ui=5.0, est=3.662482334197847, details={'was_impossible': False}),\n",
       " Prediction(uid=971, iid=33147, r_ui=1.0, est=3.614927397984812, details={'was_impossible': False}),\n",
       " Prediction(uid=1707, iid=25485, r_ui=4.0, est=4.396978574255605, details={'was_impossible': False}),\n",
       " Prediction(uid=6802, iid=23225, r_ui=3.0, est=3.9916696763705763, details={'was_impossible': False}),\n",
       " Prediction(uid=7177, iid=50952, r_ui=4.0, est=3.3362807087114197, details={'was_impossible': False}),\n",
       " Prediction(uid=1264, iid=41393, r_ui=4.0, est=3.8725239331910744, details={'was_impossible': False}),\n",
       " Prediction(uid=1744, iid=6184, r_ui=2.0, est=3.6509759374280657, details={'was_impossible': False}),\n",
       " Prediction(uid=4634, iid=36230, r_ui=4.0, est=4.537126295981894, details={'was_impossible': False}),\n",
       " Prediction(uid=6861, iid=52521, r_ui=3.0, est=3.66107818865009, details={'was_impossible': False}),\n",
       " Prediction(uid=55, iid=9246, r_ui=3.0, est=3.108527652490385, details={'was_impossible': False}),\n",
       " Prediction(uid=505, iid=48050, r_ui=4.0, est=2.8840506358347042, details={'was_impossible': False}),\n",
       " Prediction(uid=6885, iid=9110, r_ui=4.0, est=3.8594438211948803, details={'was_impossible': False}),\n",
       " Prediction(uid=9867, iid=43298, r_ui=4.0, est=4.413108253954575, details={'was_impossible': False}),\n",
       " Prediction(uid=3427, iid=28328, r_ui=4.0, est=3.9950687642041327, details={'was_impossible': False}),\n",
       " Prediction(uid=5412, iid=24188, r_ui=3.0, est=4.474630518623369, details={'was_impossible': False}),\n",
       " Prediction(uid=7563, iid=32162, r_ui=4.0, est=3.8342045810079335, details={'was_impossible': False}),\n",
       " Prediction(uid=2694, iid=26512, r_ui=4.0, est=4.305534763388859, details={'was_impossible': False}),\n",
       " Prediction(uid=8317, iid=8926, r_ui=4.0, est=3.761332619939626, details={'was_impossible': False}),\n",
       " Prediction(uid=8722, iid=41292, r_ui=5.0, est=4.0563567687501845, details={'was_impossible': False}),\n",
       " Prediction(uid=3897, iid=20568, r_ui=5.0, est=4.247984045039022, details={'was_impossible': False}),\n",
       " Prediction(uid=1231, iid=15267, r_ui=4.0, est=3.6023489105232556, details={'was_impossible': False}),\n",
       " Prediction(uid=7620, iid=33665, r_ui=3.0, est=3.8390143110843455, details={'was_impossible': False}),\n",
       " Prediction(uid=9558, iid=39581, r_ui=5.0, est=4.018870655777745, details={'was_impossible': False}),\n",
       " Prediction(uid=9161, iid=32998, r_ui=5.0, est=4.027959449701406, details={'was_impossible': False}),\n",
       " Prediction(uid=4165, iid=50566, r_ui=5.0, est=4.066260814078804, details={'was_impossible': False}),\n",
       " Prediction(uid=5866, iid=41268, r_ui=5.0, est=3.1521654124966663, details={'was_impossible': False}),\n",
       " Prediction(uid=2737, iid=8239, r_ui=5.0, est=4.777885321972389, details={'was_impossible': False}),\n",
       " Prediction(uid=3725, iid=7081, r_ui=5.0, est=3.8203620453130998, details={'was_impossible': False}),\n",
       " Prediction(uid=4639, iid=9246, r_ui=3.0, est=2.920606797440307, details={'was_impossible': False}),\n",
       " Prediction(uid=3645, iid=18540, r_ui=5.0, est=4.455393524789724, details={'was_impossible': False}),\n",
       " Prediction(uid=213, iid=20076, r_ui=3.0, est=3.2201513968122777, details={'was_impossible': False}),\n",
       " Prediction(uid=1501, iid=30513, r_ui=3.0, est=3.3228585618779043, details={'was_impossible': False}),\n",
       " Prediction(uid=7051, iid=30721, r_ui=4.0, est=4.389375873554005, details={'was_impossible': False}),\n",
       " Prediction(uid=8699, iid=42339, r_ui=5.0, est=4.547046957519238, details={'was_impossible': False}),\n",
       " Prediction(uid=2440, iid=1600, r_ui=3.0, est=2.71344032678226, details={'was_impossible': False}),\n",
       " Prediction(uid=4874, iid=34609, r_ui=4.0, est=4.290475044851519, details={'was_impossible': False}),\n",
       " Prediction(uid=1208, iid=34363, r_ui=4.0, est=3.5038898817179844, details={'was_impossible': False}),\n",
       " Prediction(uid=7080, iid=53245, r_ui=3.0, est=2.937250669240917, details={'was_impossible': False}),\n",
       " Prediction(uid=2517, iid=50407, r_ui=4.0, est=4.017089987123441, details={'was_impossible': False}),\n",
       " Prediction(uid=6577, iid=31089, r_ui=4.0, est=3.908721266799643, details={'was_impossible': False}),\n",
       " Prediction(uid=1266, iid=41114, r_ui=3.0, est=3.5257392318739127, details={'was_impossible': False}),\n",
       " Prediction(uid=5863, iid=6460, r_ui=5.0, est=3.5890338373685178, details={'was_impossible': False}),\n",
       " Prediction(uid=2675, iid=119, r_ui=5.0, est=4.4507740771264315, details={'was_impossible': False}),\n",
       " Prediction(uid=9833, iid=41986, r_ui=4.0, est=3.2785752405283857, details={'was_impossible': False}),\n",
       " Prediction(uid=4358, iid=42342, r_ui=4.0, est=4.219132018677928, details={'was_impossible': False}),\n",
       " Prediction(uid=1500, iid=47027, r_ui=5.0, est=3.915715513000488, details={'was_impossible': False}),\n",
       " Prediction(uid=6552, iid=25382, r_ui=5.0, est=4.298855259343428, details={'was_impossible': False}),\n",
       " Prediction(uid=9385, iid=23200, r_ui=4.0, est=4.052846937923388, details={'was_impossible': False}),\n",
       " Prediction(uid=5290, iid=24647, r_ui=3.0, est=3.4621893118257554, details={'was_impossible': False}),\n",
       " Prediction(uid=3564, iid=7236, r_ui=4.0, est=3.460515016362801, details={'was_impossible': False}),\n",
       " Prediction(uid=8345, iid=32991, r_ui=5.0, est=4.180506494330742, details={'was_impossible': False}),\n",
       " Prediction(uid=6741, iid=49778, r_ui=3.0, est=3.8331209579557526, details={'was_impossible': False}),\n",
       " Prediction(uid=2023, iid=6294, r_ui=3.0, est=3.265722977238296, details={'was_impossible': False}),\n",
       " Prediction(uid=3832, iid=9440, r_ui=5.0, est=4.089019567665364, details={'was_impossible': False}),\n",
       " Prediction(uid=608, iid=49382, r_ui=5.0, est=4.798648950706992, details={'was_impossible': False}),\n",
       " Prediction(uid=7089, iid=14111, r_ui=3.0, est=3.6230176449763434, details={'was_impossible': False}),\n",
       " Prediction(uid=4097, iid=17467, r_ui=4.0, est=3.83941987117196, details={'was_impossible': False}),\n",
       " Prediction(uid=2136, iid=439, r_ui=3.0, est=2.370539819978406, details={'was_impossible': False}),\n",
       " Prediction(uid=8849, iid=20781, r_ui=4.0, est=3.9440537066373684, details={'was_impossible': False}),\n",
       " Prediction(uid=5692, iid=19079, r_ui=4.0, est=3.8246730309005184, details={'was_impossible': False}),\n",
       " Prediction(uid=991, iid=53332, r_ui=5.0, est=3.007693256771123, details={'was_impossible': False}),\n",
       " Prediction(uid=9972, iid=11331, r_ui=4.0, est=3.7250362206692094, details={'was_impossible': False}),\n",
       " Prediction(uid=9925, iid=13874, r_ui=4.0, est=3.634031656756585, details={'was_impossible': False}),\n",
       " Prediction(uid=5102, iid=20025, r_ui=4.0, est=3.5094322772349082, details={'was_impossible': False}),\n",
       " Prediction(uid=803, iid=17193, r_ui=3.0, est=3.1457225323906894, details={'was_impossible': False}),\n",
       " Prediction(uid=3926, iid=9969, r_ui=3.0, est=4.008535895850711, details={'was_impossible': False}),\n",
       " Prediction(uid=1464, iid=35568, r_ui=5.0, est=4.624188372596755, details={'was_impossible': False}),\n",
       " Prediction(uid=5995, iid=35425, r_ui=3.0, est=3.8054554835109013, details={'was_impossible': False}),\n",
       " Prediction(uid=6964, iid=48034, r_ui=4.0, est=4.338442639331655, details={'was_impossible': False}),\n",
       " Prediction(uid=4868, iid=48936, r_ui=5.0, est=4.124731237833672, details={'was_impossible': False}),\n",
       " Prediction(uid=5453, iid=8957, r_ui=5.0, est=4.149837774155033, details={'was_impossible': False}),\n",
       " Prediction(uid=7414, iid=28695, r_ui=3.0, est=3.1546380952988198, details={'was_impossible': False}),\n",
       " Prediction(uid=1590, iid=3757, r_ui=4.0, est=4.495218139536652, details={'was_impossible': False}),\n",
       " Prediction(uid=9274, iid=235, r_ui=3.0, est=3.7514247433991694, details={'was_impossible': False}),\n",
       " Prediction(uid=3205, iid=18616, r_ui=4.0, est=3.6471719556037225, details={'was_impossible': False}),\n",
       " Prediction(uid=2496, iid=32204, r_ui=2.0, est=2.493965237942504, details={'was_impossible': False}),\n",
       " Prediction(uid=4355, iid=17339, r_ui=5.0, est=3.6859812760726496, details={'was_impossible': False}),\n",
       " Prediction(uid=7537, iid=14051, r_ui=3.0, est=4.495123040601684, details={'was_impossible': False}),\n",
       " Prediction(uid=768, iid=25872, r_ui=5.0, est=4.268566773323367, details={'was_impossible': False}),\n",
       " Prediction(uid=3208, iid=35262, r_ui=5.0, est=4.286186498589615, details={'was_impossible': False}),\n",
       " Prediction(uid=6069, iid=37623, r_ui=4.0, est=4.265673875554418, details={'was_impossible': False}),\n",
       " Prediction(uid=7622, iid=33713, r_ui=5.0, est=4.305088603772509, details={'was_impossible': False}),\n",
       " Prediction(uid=3864, iid=41468, r_ui=4.0, est=3.2516007425024873, details={'was_impossible': False}),\n",
       " Prediction(uid=7673, iid=31156, r_ui=3.0, est=3.4260240379181037, details={'was_impossible': False}),\n",
       " Prediction(uid=8322, iid=1864, r_ui=4.0, est=3.4804643468424974, details={'was_impossible': False}),\n",
       " Prediction(uid=7695, iid=6847, r_ui=3.0, est=3.7138729875757988, details={'was_impossible': False}),\n",
       " Prediction(uid=2051, iid=3255, r_ui=3.0, est=3.426072972862302, details={'was_impossible': False}),\n",
       " Prediction(uid=7398, iid=30097, r_ui=5.0, est=3.5036088149501725, details={'was_impossible': False}),\n",
       " Prediction(uid=5760, iid=23138, r_ui=5.0, est=4.920561904371436, details={'was_impossible': False}),\n",
       " Prediction(uid=3652, iid=36088, r_ui=4.0, est=4.035036225893052, details={'was_impossible': False}),\n",
       " Prediction(uid=121, iid=6025, r_ui=4.0, est=3.7268107220639717, details={'was_impossible': False}),\n",
       " Prediction(uid=3732, iid=32036, r_ui=5.0, est=4.7554786523954995, details={'was_impossible': False}),\n",
       " Prediction(uid=7492, iid=4538, r_ui=2.0, est=3.916943645166798, details={'was_impossible': False}),\n",
       " Prediction(uid=272, iid=7563, r_ui=4.0, est=3.5492260192517993, details={'was_impossible': False}),\n",
       " Prediction(uid=1639, iid=7678, r_ui=3.0, est=3.138427003451884, details={'was_impossible': False}),\n",
       " Prediction(uid=9023, iid=2765, r_ui=2.0, est=4.026795639039552, details={'was_impossible': False}),\n",
       " Prediction(uid=9455, iid=40547, r_ui=3.0, est=3.620238649071627, details={'was_impossible': False}),\n",
       " Prediction(uid=9856, iid=17943, r_ui=3.0, est=3.711080875719246, details={'was_impossible': False}),\n",
       " Prediction(uid=7234, iid=32885, r_ui=5.0, est=3.924468060196222, details={'was_impossible': False}),\n",
       " Prediction(uid=749, iid=52740, r_ui=3.0, est=3.2094401248448694, details={'was_impossible': False}),\n",
       " Prediction(uid=4388, iid=8022, r_ui=4.0, est=3.9698904110530733, details={'was_impossible': False}),\n",
       " Prediction(uid=9601, iid=10983, r_ui=5.0, est=4.229277237367481, details={'was_impossible': False}),\n",
       " Prediction(uid=8317, iid=32052, r_ui=4.0, est=3.750465320156635, details={'was_impossible': False}),\n",
       " Prediction(uid=6823, iid=29997, r_ui=4.0, est=3.923460368351572, details={'was_impossible': False}),\n",
       " Prediction(uid=5980, iid=18805, r_ui=4.0, est=4.182698478694302, details={'was_impossible': False}),\n",
       " Prediction(uid=5840, iid=26736, r_ui=5.0, est=4.893579384908688, details={'was_impossible': False}),\n",
       " Prediction(uid=6998, iid=46205, r_ui=4.0, est=3.7474462465634963, details={'was_impossible': False}),\n",
       " Prediction(uid=6654, iid=10209, r_ui=5.0, est=3.8846203776254216, details={'was_impossible': False}),\n",
       " Prediction(uid=7680, iid=48028, r_ui=4.0, est=3.8793602111305794, details={'was_impossible': False}),\n",
       " Prediction(uid=3548, iid=10906, r_ui=5.0, est=3.7717388321345413, details={'was_impossible': False}),\n",
       " Prediction(uid=111, iid=22602, r_ui=3.0, est=3.3139266229152615, details={'was_impossible': False}),\n",
       " Prediction(uid=6209, iid=48697, r_ui=4.0, est=3.770386550008442, details={'was_impossible': False}),\n",
       " Prediction(uid=1805, iid=29072, r_ui=5.0, est=4.83204322282875, details={'was_impossible': False}),\n",
       " Prediction(uid=4866, iid=21646, r_ui=4.0, est=3.1323747718898165, details={'was_impossible': False}),\n",
       " Prediction(uid=2083, iid=53401, r_ui=4.0, est=4.338765493217737, details={'was_impossible': False}),\n",
       " Prediction(uid=6143, iid=22718, r_ui=4.0, est=3.995724057831211, details={'was_impossible': False}),\n",
       " Prediction(uid=3554, iid=18737, r_ui=4.0, est=4.495733587584704, details={'was_impossible': False}),\n",
       " Prediction(uid=4208, iid=34436, r_ui=3.0, est=3.731228525510006, details={'was_impossible': False}),\n",
       " Prediction(uid=9433, iid=2447, r_ui=3.0, est=3.261307369153452, details={'was_impossible': False}),\n",
       " Prediction(uid=2830, iid=19611, r_ui=5.0, est=4.638186068844396, details={'was_impossible': False}),\n",
       " Prediction(uid=9443, iid=40232, r_ui=4.0, est=4.149848297804617, details={'was_impossible': False}),\n",
       " Prediction(uid=9743, iid=35912, r_ui=3.0, est=3.4242855851797094, details={'was_impossible': False}),\n",
       " Prediction(uid=787, iid=32041, r_ui=4.0, est=4.493101252028134, details={'was_impossible': False}),\n",
       " Prediction(uid=1112, iid=35105, r_ui=3.0, est=3.2213353885876708, details={'was_impossible': False}),\n",
       " Prediction(uid=5456, iid=20673, r_ui=4.0, est=4.076431095751936, details={'was_impossible': False}),\n",
       " Prediction(uid=1913, iid=39285, r_ui=3.0, est=4.352915993543794, details={'was_impossible': False}),\n",
       " Prediction(uid=4282, iid=17717, r_ui=2.0, est=2.7210261890690157, details={'was_impossible': False}),\n",
       " Prediction(uid=4109, iid=44418, r_ui=4.0, est=3.9663839631365083, details={'was_impossible': False}),\n",
       " Prediction(uid=401, iid=14248, r_ui=4.0, est=3.645929727765942, details={'was_impossible': False}),\n",
       " Prediction(uid=7716, iid=13130, r_ui=4.0, est=3.536988414186566, details={'was_impossible': False}),\n",
       " Prediction(uid=3817, iid=7224, r_ui=3.0, est=4.07187866784216, details={'was_impossible': False}),\n",
       " Prediction(uid=8324, iid=15486, r_ui=4.0, est=4.042362051397647, details={'was_impossible': False}),\n",
       " Prediction(uid=1306, iid=47811, r_ui=3.0, est=3.410493130624613, details={'was_impossible': False}),\n",
       " Prediction(uid=222, iid=40566, r_ui=5.0, est=4.888856019943122, details={'was_impossible': False}),\n",
       " Prediction(uid=7718, iid=8713, r_ui=4.0, est=4.506010474773669, details={'was_impossible': False}),\n",
       " Prediction(uid=1609, iid=21947, r_ui=5.0, est=5, details={'was_impossible': False}),\n",
       " Prediction(uid=3496, iid=34914, r_ui=4.0, est=4.427661363346086, details={'was_impossible': False}),\n",
       " Prediction(uid=2048, iid=32770, r_ui=3.0, est=3.3506080892573302, details={'was_impossible': False}),\n",
       " Prediction(uid=368, iid=12466, r_ui=3.0, est=3.8156728311667107, details={'was_impossible': False}),\n",
       " Prediction(uid=1191, iid=7509, r_ui=4.0, est=2.8950383777707067, details={'was_impossible': False}),\n",
       " Prediction(uid=2612, iid=27187, r_ui=4.0, est=3.6665210837422793, details={'was_impossible': False}),\n",
       " Prediction(uid=3698, iid=25214, r_ui=5.0, est=4.533531817156116, details={'was_impossible': False}),\n",
       " Prediction(uid=3783, iid=53366, r_ui=4.0, est=3.669756178626085, details={'was_impossible': False}),\n",
       " Prediction(uid=9747, iid=20093, r_ui=3.0, est=3.4856602613493974, details={'was_impossible': False}),\n",
       " Prediction(uid=8402, iid=3438, r_ui=3.0, est=4.115152781538358, details={'was_impossible': False}),\n",
       " Prediction(uid=9049, iid=34974, r_ui=4.0, est=3.997349792303994, details={'was_impossible': False}),\n",
       " Prediction(uid=6015, iid=51273, r_ui=4.0, est=3.74773729978211, details={'was_impossible': False}),\n",
       " Prediction(uid=1050, iid=38795, r_ui=5.0, est=3.728519436641614, details={'was_impossible': False}),\n",
       " Prediction(uid=9588, iid=25309, r_ui=4.0, est=3.2277056932397037, details={'was_impossible': False}),\n",
       " Prediction(uid=3713, iid=38792, r_ui=3.0, est=3.466062777687938, details={'was_impossible': False}),\n",
       " Prediction(uid=4628, iid=19838, r_ui=3.0, est=2.592718271142463, details={'was_impossible': False}),\n",
       " Prediction(uid=8169, iid=35564, r_ui=4.0, est=3.2165496179677766, details={'was_impossible': False}),\n",
       " Prediction(uid=1299, iid=2329, r_ui=3.0, est=3.8120366618698465, details={'was_impossible': False}),\n",
       " Prediction(uid=7016, iid=30923, r_ui=5.0, est=4.0207740822743325, details={'was_impossible': False}),\n",
       " Prediction(uid=3737, iid=17330, r_ui=4.0, est=4.27181487771298, details={'was_impossible': False}),\n",
       " Prediction(uid=2862, iid=3856, r_ui=3.0, est=3.5666856562866713, details={'was_impossible': False}),\n",
       " Prediction(uid=7970, iid=7953, r_ui=4.0, est=3.5970712690629902, details={'was_impossible': False}),\n",
       " Prediction(uid=9077, iid=25277, r_ui=4.0, est=4.225018987943577, details={'was_impossible': False}),\n",
       " Prediction(uid=7837, iid=42799, r_ui=5.0, est=3.878336810116808, details={'was_impossible': False}),\n",
       " Prediction(uid=2799, iid=34672, r_ui=5.0, est=3.8791163266072854, details={'was_impossible': False}),\n",
       " Prediction(uid=5396, iid=22094, r_ui=5.0, est=4.421799133846868, details={'was_impossible': False}),\n",
       " Prediction(uid=3048, iid=22717, r_ui=1.0, est=2.9118559213776387, details={'was_impossible': False}),\n",
       " Prediction(uid=3585, iid=6617, r_ui=4.0, est=3.582613756751653, details={'was_impossible': False}),\n",
       " Prediction(uid=8119, iid=11299, r_ui=4.0, est=4.19543949861769, details={'was_impossible': False}),\n",
       " Prediction(uid=9501, iid=12689, r_ui=1.0, est=4.0077945817410825, details={'was_impossible': False}),\n",
       " Prediction(uid=1633, iid=20451, r_ui=2.0, est=3.0472186038860003, details={'was_impossible': False}),\n",
       " Prediction(uid=4045, iid=31723, r_ui=2.0, est=2.19720604108007, details={'was_impossible': False}),\n",
       " Prediction(uid=331, iid=32923, r_ui=2.0, est=3.4666138146975003, details={'was_impossible': False}),\n",
       " Prediction(uid=8643, iid=14016, r_ui=2.0, est=3.425564581101175, details={'was_impossible': False}),\n",
       " Prediction(uid=1921, iid=39423, r_ui=2.0, est=3.9247545134514925, details={'was_impossible': False}),\n",
       " Prediction(uid=432, iid=8669, r_ui=5.0, est=3.7846348166688233, details={'was_impossible': False}),\n",
       " Prediction(uid=8662, iid=26206, r_ui=5.0, est=4.24925021034967, details={'was_impossible': False}),\n",
       " Prediction(uid=3375, iid=21676, r_ui=5.0, est=3.9825118069777266, details={'was_impossible': False}),\n",
       " Prediction(uid=4477, iid=35798, r_ui=4.0, est=3.615365777828189, details={'was_impossible': False}),\n",
       " Prediction(uid=2510, iid=23896, r_ui=4.0, est=4.108908432240858, details={'was_impossible': False}),\n",
       " Prediction(uid=3929, iid=2505, r_ui=4.0, est=3.8376337248907033, details={'was_impossible': False}),\n",
       " Prediction(uid=2536, iid=22367, r_ui=2.0, est=3.1570085547088755, details={'was_impossible': False}),\n",
       " Prediction(uid=9366, iid=18066, r_ui=3.0, est=3.785131235457325, details={'was_impossible': False}),\n",
       " Prediction(uid=1331, iid=4127, r_ui=5.0, est=4.394539476077733, details={'was_impossible': False}),\n",
       " Prediction(uid=7224, iid=37687, r_ui=5.0, est=3.578472988084716, details={'was_impossible': False}),\n",
       " Prediction(uid=4012, iid=34540, r_ui=5.0, est=4.49734312294029, details={'was_impossible': False}),\n",
       " Prediction(uid=7269, iid=21704, r_ui=5.0, est=3.98730238452637, details={'was_impossible': False}),\n",
       " Prediction(uid=8799, iid=46934, r_ui=3.0, est=4.191560681904145, details={'was_impossible': False}),\n",
       " Prediction(uid=8128, iid=8510, r_ui=1.0, est=3.5933348027717704, details={'was_impossible': False}),\n",
       " Prediction(uid=3304, iid=9322, r_ui=4.0, est=4.435447170942955, details={'was_impossible': False}),\n",
       " Prediction(uid=2699, iid=26286, r_ui=3.0, est=3.3187765465835892, details={'was_impossible': False}),\n",
       " Prediction(uid=3964, iid=19422, r_ui=4.0, est=4.201580901454791, details={'was_impossible': False}),\n",
       " Prediction(uid=975, iid=14248, r_ui=4.0, est=3.612231733348902, details={'was_impossible': False}),\n",
       " Prediction(uid=8153, iid=26900, r_ui=2.0, est=3.755387057219757, details={'was_impossible': False}),\n",
       " Prediction(uid=3609, iid=9668, r_ui=5.0, est=4.050072528926162, details={'was_impossible': False}),\n",
       " Prediction(uid=6685, iid=18897, r_ui=5.0, est=4.170287089972499, details={'was_impossible': False}),\n",
       " Prediction(uid=3816, iid=46298, r_ui=4.0, est=4.712508232119923, details={'was_impossible': False}),\n",
       " Prediction(uid=1051, iid=8526, r_ui=5.0, est=4.097086269959558, details={'was_impossible': False}),\n",
       " Prediction(uid=4354, iid=6463, r_ui=3.0, est=3.2484475865917934, details={'was_impossible': False}),\n",
       " Prediction(uid=3810, iid=28606, r_ui=3.0, est=3.5307217164730256, details={'was_impossible': False}),\n",
       " Prediction(uid=4571, iid=53157, r_ui=3.0, est=3.6113162008416784, details={'was_impossible': False}),\n",
       " Prediction(uid=6485, iid=25779, r_ui=3.0, est=3.9890830751427027, details={'was_impossible': False}),\n",
       " Prediction(uid=7218, iid=47458, r_ui=5.0, est=4.636565910198306, details={'was_impossible': False}),\n",
       " Prediction(uid=9589, iid=17503, r_ui=3.0, est=3.8704731537163752, details={'was_impossible': False}),\n",
       " Prediction(uid=5867, iid=29100, r_ui=4.0, est=4.031933576363937, details={'was_impossible': False}),\n",
       " Prediction(uid=2826, iid=27586, r_ui=1.0, est=2.5546617707597234, details={'was_impossible': False}),\n",
       " Prediction(uid=2967, iid=12195, r_ui=3.0, est=3.151841472301564, details={'was_impossible': False}),\n",
       " Prediction(uid=4862, iid=12921, r_ui=5.0, est=4.629966553660595, details={'was_impossible': False}),\n",
       " Prediction(uid=7633, iid=32346, r_ui=4.0, est=4.699895097477275, details={'was_impossible': False}),\n",
       " Prediction(uid=2719, iid=2959, r_ui=4.0, est=3.5372274677230147, details={'was_impossible': False}),\n",
       " Prediction(uid=9476, iid=50457, r_ui=4.0, est=3.9106110008637684, details={'was_impossible': False}),\n",
       " Prediction(uid=5940, iid=9422, r_ui=3.0, est=4.271659350801756, details={'was_impossible': False}),\n",
       " Prediction(uid=7706, iid=45552, r_ui=2.0, est=3.4113050623192356, details={'was_impossible': False}),\n",
       " Prediction(uid=2720, iid=37532, r_ui=5.0, est=4.5226192784967205, details={'was_impossible': False}),\n",
       " Prediction(uid=6254, iid=25903, r_ui=5.0, est=4.390990835687284, details={'was_impossible': False}),\n",
       " Prediction(uid=8745, iid=24146, r_ui=3.0, est=3.2195720232879546, details={'was_impossible': False}),\n",
       " Prediction(uid=2914, iid=1038, r_ui=3.0, est=3.8054171604948657, details={'was_impossible': False}),\n",
       " Prediction(uid=3548, iid=31908, r_ui=5.0, est=4.402409850721714, details={'was_impossible': False}),\n",
       " Prediction(uid=3263, iid=45155, r_ui=3.0, est=3.0336889775179574, details={'was_impossible': False}),\n",
       " Prediction(uid=4852, iid=19575, r_ui=5.0, est=3.386097649719997, details={'was_impossible': False}),\n",
       " Prediction(uid=5706, iid=31112, r_ui=3.0, est=2.351618584878919, details={'was_impossible': False}),\n",
       " Prediction(uid=416, iid=42508, r_ui=3.0, est=4.04940003902648, details={'was_impossible': False}),\n",
       " Prediction(uid=1278, iid=11287, r_ui=3.0, est=3.946167654460063, details={'was_impossible': False}),\n",
       " Prediction(uid=9215, iid=12089, r_ui=3.0, est=4.379895166473872, details={'was_impossible': False}),\n",
       " Prediction(uid=7732, iid=19005, r_ui=3.0, est=3.0697041316753677, details={'was_impossible': False}),\n",
       " Prediction(uid=7268, iid=45876, r_ui=5.0, est=4.437708779902659, details={'was_impossible': False}),\n",
       " Prediction(uid=3691, iid=11971, r_ui=3.0, est=3.954202235953003, details={'was_impossible': False}),\n",
       " Prediction(uid=466, iid=21228, r_ui=4.0, est=4.059315060382997, details={'was_impossible': False}),\n",
       " Prediction(uid=3224, iid=34293, r_ui=5.0, est=4.570030585686126, details={'was_impossible': False}),\n",
       " Prediction(uid=7016, iid=39393, r_ui=5.0, est=4.414430329760581, details={'was_impossible': False}),\n",
       " Prediction(uid=5032, iid=42075, r_ui=1.0, est=3.8690700279844985, details={'was_impossible': False}),\n",
       " Prediction(uid=1893, iid=31219, r_ui=4.0, est=3.4793710530066613, details={'was_impossible': False}),\n",
       " Prediction(uid=5135, iid=7448, r_ui=3.0, est=3.4304601456523796, details={'was_impossible': False}),\n",
       " Prediction(uid=3838, iid=23403, r_ui=5.0, est=4.367062209722076, details={'was_impossible': False}),\n",
       " Prediction(uid=851, iid=37127, r_ui=3.0, est=2.923449126650506, details={'was_impossible': False}),\n",
       " Prediction(uid=6964, iid=46866, r_ui=1.0, est=3.5948027952630297, details={'was_impossible': False}),\n",
       " Prediction(uid=4708, iid=19947, r_ui=4.0, est=4.909141059639841, details={'was_impossible': False}),\n",
       " Prediction(uid=4315, iid=4430, r_ui=5.0, est=4.195987770702455, details={'was_impossible': False}),\n",
       " Prediction(uid=6311, iid=40248, r_ui=4.0, est=3.681460230638158, details={'was_impossible': False}),\n",
       " Prediction(uid=6803, iid=39428, r_ui=5.0, est=4.311743013757205, details={'was_impossible': False}),\n",
       " Prediction(uid=2158, iid=30953, r_ui=3.0, est=3.9032801606909016, details={'was_impossible': False}),\n",
       " Prediction(uid=2124, iid=34083, r_ui=4.0, est=3.869902052778317, details={'was_impossible': False}),\n",
       " Prediction(uid=3732, iid=12994, r_ui=5.0, est=4.574975187040711, details={'was_impossible': False}),\n",
       " Prediction(uid=3735, iid=1502, r_ui=4.0, est=3.916965207841645, details={'was_impossible': False}),\n",
       " Prediction(uid=3241, iid=49631, r_ui=5.0, est=5, details={'was_impossible': False}),\n",
       " Prediction(uid=2135, iid=37099, r_ui=4.0, est=4.567539543510699, details={'was_impossible': False}),\n",
       " Prediction(uid=7779, iid=42295, r_ui=4.0, est=3.700204207339845, details={'was_impossible': False}),\n",
       " Prediction(uid=8776, iid=4619, r_ui=2.0, est=3.3094967542333453, details={'was_impossible': False}),\n",
       " Prediction(uid=6629, iid=35726, r_ui=5.0, est=4.791545856208865, details={'was_impossible': False}),\n",
       " Prediction(uid=7455, iid=7113, r_ui=3.0, est=4.0511173636249795, details={'was_impossible': False}),\n",
       " Prediction(uid=9653, iid=37774, r_ui=4.0, est=4.766042535649402, details={'was_impossible': False}),\n",
       " Prediction(uid=7638, iid=5644, r_ui=3.0, est=3.83216017860261, details={'was_impossible': False}),\n",
       " Prediction(uid=4648, iid=27532, r_ui=5.0, est=4.764325100609722, details={'was_impossible': False}),\n",
       " Prediction(uid=5679, iid=44009, r_ui=3.0, est=3.6686158790738412, details={'was_impossible': False}),\n",
       " Prediction(uid=7590, iid=22015, r_ui=3.0, est=3.983800372912981, details={'was_impossible': False}),\n",
       " Prediction(uid=2930, iid=5904, r_ui=3.0, est=3.4202721233701068, details={'was_impossible': False}),\n",
       " Prediction(uid=7848, iid=33288, r_ui=2.0, est=3.792117762808622, details={'was_impossible': False}),\n",
       " Prediction(uid=6777, iid=3307, r_ui=3.0, est=3.652329992477561, details={'was_impossible': False}),\n",
       " Prediction(uid=4292, iid=8135, r_ui=4.0, est=4.482761797088597, details={'was_impossible': False}),\n",
       " Prediction(uid=6117, iid=51814, r_ui=4.0, est=3.8142294798043643, details={'was_impossible': False}),\n",
       " Prediction(uid=5184, iid=21744, r_ui=5.0, est=4.334422838985147, details={'was_impossible': False}),\n",
       " Prediction(uid=6370, iid=16890, r_ui=5.0, est=4.315314426151517, details={'was_impossible': False}),\n",
       " Prediction(uid=9638, iid=51261, r_ui=3.0, est=3.685644843927635, details={'was_impossible': False}),\n",
       " Prediction(uid=3842, iid=15279, r_ui=2.0, est=4.148748999369692, details={'was_impossible': False}),\n",
       " Prediction(uid=4109, iid=41791, r_ui=5.0, est=5, details={'was_impossible': False}),\n",
       " Prediction(uid=6312, iid=10229, r_ui=4.0, est=3.4080140710849096, details={'was_impossible': False}),\n",
       " Prediction(uid=9312, iid=1380, r_ui=4.0, est=3.709411267770327, details={'was_impossible': False}),\n",
       " Prediction(uid=1558, iid=25218, r_ui=5.0, est=4.222530560526659, details={'was_impossible': False}),\n",
       " Prediction(uid=9300, iid=27147, r_ui=4.0, est=3.3926248684102562, details={'was_impossible': False}),\n",
       " Prediction(uid=5955, iid=40406, r_ui=5.0, est=3.993635408472447, details={'was_impossible': False}),\n",
       " Prediction(uid=3688, iid=24256, r_ui=5.0, est=4.5270871997326765, details={'was_impossible': False}),\n",
       " Prediction(uid=4245, iid=28538, r_ui=5.0, est=4.44501682741453, details={'was_impossible': False}),\n",
       " Prediction(uid=8709, iid=19035, r_ui=3.0, est=3.463349593516241, details={'was_impossible': False}),\n",
       " Prediction(uid=1487, iid=14437, r_ui=4.0, est=3.912707488734799, details={'was_impossible': False}),\n",
       " Prediction(uid=4210, iid=8506, r_ui=5.0, est=4.468409818437913, details={'was_impossible': False}),\n",
       " Prediction(uid=9066, iid=23724, r_ui=5.0, est=4.9001198146571205, details={'was_impossible': False}),\n",
       " Prediction(uid=7654, iid=14905, r_ui=4.0, est=4.1991142539838915, details={'was_impossible': False}),\n",
       " Prediction(uid=2873, iid=35469, r_ui=4.0, est=3.930595336331587, details={'was_impossible': False}),\n",
       " Prediction(uid=2957, iid=36627, r_ui=4.0, est=4.138653094892879, details={'was_impossible': False}),\n",
       " Prediction(uid=875, iid=16904, r_ui=2.0, est=2.7049156645023005, details={'was_impossible': False}),\n",
       " Prediction(uid=6457, iid=3906, r_ui=5.0, est=4.569520118054156, details={'was_impossible': False}),\n",
       " Prediction(uid=8450, iid=21339, r_ui=5.0, est=4.5986222434757, details={'was_impossible': False}),\n",
       " Prediction(uid=605, iid=28834, r_ui=3.0, est=4.167841914671248, details={'was_impossible': False}),\n",
       " Prediction(uid=4243, iid=15642, r_ui=4.0, est=3.464941868738985, details={'was_impossible': False}),\n",
       " Prediction(uid=3408, iid=45664, r_ui=5.0, est=4.3855699875029, details={'was_impossible': False}),\n",
       " Prediction(uid=6730, iid=12371, r_ui=3.0, est=4.006664206726197, details={'was_impossible': False}),\n",
       " Prediction(uid=35, iid=27027, r_ui=2.0, est=3.191537561635212, details={'was_impossible': False}),\n",
       " Prediction(uid=290, iid=26146, r_ui=3.0, est=4.3683397363259475, details={'was_impossible': False}),\n",
       " Prediction(uid=5589, iid=8019, r_ui=2.0, est=3.6660685128702486, details={'was_impossible': False}),\n",
       " Prediction(uid=9101, iid=34970, r_ui=4.0, est=3.4852815996588467, details={'was_impossible': False}),\n",
       " Prediction(uid=5773, iid=21883, r_ui=5.0, est=4.489732062493893, details={'was_impossible': False}),\n",
       " Prediction(uid=6333, iid=34501, r_ui=4.0, est=4.548128242677282, details={'was_impossible': False}),\n",
       " Prediction(uid=5492, iid=3104, r_ui=5.0, est=4.117266336055458, details={'was_impossible': False}),\n",
       " Prediction(uid=8885, iid=24861, r_ui=4.0, est=3.2924969907858124, details={'was_impossible': False}),\n",
       " Prediction(uid=6778, iid=38634, r_ui=5.0, est=4.350086838647572, details={'was_impossible': False}),\n",
       " Prediction(uid=3516, iid=8164, r_ui=4.0, est=3.4884058789991217, details={'was_impossible': False}),\n",
       " Prediction(uid=6308, iid=36281, r_ui=5.0, est=3.7075987025087063, details={'was_impossible': False}),\n",
       " Prediction(uid=7864, iid=2502, r_ui=3.0, est=3.7207831880813518, details={'was_impossible': False}),\n",
       " Prediction(uid=1929, iid=5789, r_ui=3.0, est=3.9139058246199814, details={'was_impossible': False}),\n",
       " Prediction(uid=1746, iid=23558, r_ui=3.0, est=3.014837660969996, details={'was_impossible': False}),\n",
       " Prediction(uid=9563, iid=36691, r_ui=4.0, est=3.815417609791495, details={'was_impossible': False}),\n",
       " Prediction(uid=5674, iid=31294, r_ui=5.0, est=4.612462008305527, details={'was_impossible': False}),\n",
       " Prediction(uid=2110, iid=24683, r_ui=4.0, est=3.8434221591472, details={'was_impossible': False}),\n",
       " Prediction(uid=7033, iid=39971, r_ui=4.0, est=3.369318168968891, details={'was_impossible': False}),\n",
       " Prediction(uid=2271, iid=17547, r_ui=3.0, est=3.951622311576326, details={'was_impossible': False}),\n",
       " Prediction(uid=8678, iid=51960, r_ui=5.0, est=4.3169432352689965, details={'was_impossible': False}),\n",
       " Prediction(uid=2447, iid=6406, r_ui=3.0, est=2.9409853788127363, details={'was_impossible': False}),\n",
       " Prediction(uid=6987, iid=4383, r_ui=4.0, est=3.905373078583471, details={'was_impossible': False}),\n",
       " Prediction(uid=6115, iid=15695, r_ui=3.0, est=3.244714064743699, details={'was_impossible': False}),\n",
       " Prediction(uid=7467, iid=44930, r_ui=4.0, est=3.3653176171491674, details={'was_impossible': False}),\n",
       " Prediction(uid=7721, iid=25353, r_ui=3.0, est=3.4161905993240715, details={'was_impossible': False}),\n",
       " Prediction(uid=971, iid=37031, r_ui=4.0, est=3.6602565212181304, details={'was_impossible': False}),\n",
       " Prediction(uid=7351, iid=1127, r_ui=5.0, est=3.4476353479001034, details={'was_impossible': False}),\n",
       " Prediction(uid=6111, iid=15153, r_ui=1.0, est=4.362256744073661, details={'was_impossible': False}),\n",
       " Prediction(uid=8457, iid=2889, r_ui=1.0, est=2.544464097168906, details={'was_impossible': False}),\n",
       " Prediction(uid=3241, iid=11718, r_ui=3.0, est=3.797391272458921, details={'was_impossible': False}),\n",
       " Prediction(uid=2669, iid=35149, r_ui=4.0, est=3.7896043204501026, details={'was_impossible': False}),\n",
       " Prediction(uid=1114, iid=25415, r_ui=5.0, est=4.249272085404945, details={'was_impossible': False}),\n",
       " Prediction(uid=5452, iid=30433, r_ui=2.0, est=3.1603209641797543, details={'was_impossible': False}),\n",
       " Prediction(uid=6150, iid=10181, r_ui=4.0, est=3.9522199325222314, details={'was_impossible': False}),\n",
       " Prediction(uid=8183, iid=49168, r_ui=5.0, est=3.9927960137021485, details={'was_impossible': False}),\n",
       " Prediction(uid=417, iid=30794, r_ui=4.0, est=3.6175428408078063, details={'was_impossible': False}),\n",
       " Prediction(uid=4981, iid=9307, r_ui=4.0, est=4.284954000069387, details={'was_impossible': False}),\n",
       " Prediction(uid=2565, iid=25591, r_ui=5.0, est=4.067497838153873, details={'was_impossible': False}),\n",
       " Prediction(uid=3524, iid=35512, r_ui=4.0, est=4.142654852086001, details={'was_impossible': False}),\n",
       " Prediction(uid=6503, iid=7136, r_ui=5.0, est=4.59462919314307, details={'was_impossible': False}),\n",
       " Prediction(uid=4448, iid=26539, r_ui=5.0, est=3.8975830999916, details={'was_impossible': False}),\n",
       " Prediction(uid=4966, iid=6889, r_ui=3.0, est=4.332426380967144, details={'was_impossible': False}),\n",
       " Prediction(uid=6692, iid=2951, r_ui=4.0, est=3.583637590938948, details={'was_impossible': False}),\n",
       " Prediction(uid=5595, iid=5812, r_ui=3.0, est=3.131360686832847, details={'was_impossible': False}),\n",
       " Prediction(uid=4441, iid=42576, r_ui=4.0, est=4.4014086916002695, details={'was_impossible': False}),\n",
       " Prediction(uid=723, iid=7678, r_ui=5.0, est=3.8069245008162316, details={'was_impossible': False}),\n",
       " Prediction(uid=6892, iid=51426, r_ui=4.0, est=4.464212203691041, details={'was_impossible': False}),\n",
       " Prediction(uid=3474, iid=44918, r_ui=5.0, est=4.556471301455434, details={'was_impossible': False}),\n",
       " Prediction(uid=3273, iid=26425, r_ui=5.0, est=2.816088199836057, details={'was_impossible': False}),\n",
       " Prediction(uid=6860, iid=39176, r_ui=5.0, est=4.714385252045147, details={'was_impossible': False}),\n",
       " Prediction(uid=4736, iid=50605, r_ui=5.0, est=3.379936883500579, details={'was_impossible': False}),\n",
       " Prediction(uid=7011, iid=53190, r_ui=3.0, est=3.981889549302164, details={'was_impossible': False}),\n",
       " Prediction(uid=5440, iid=40237, r_ui=4.0, est=3.8397036367801896, details={'was_impossible': False}),\n",
       " Prediction(uid=2487, iid=30196, r_ui=5.0, est=4.308380136499039, details={'was_impossible': False}),\n",
       " Prediction(uid=8160, iid=17917, r_ui=5.0, est=4.285409344483775, details={'was_impossible': False}),\n",
       " Prediction(uid=6577, iid=239, r_ui=4.0, est=3.6122567589579515, details={'was_impossible': False}),\n",
       " Prediction(uid=8785, iid=4759, r_ui=4.0, est=4.407272371253266, details={'was_impossible': False}),\n",
       " Prediction(uid=4408, iid=36505, r_ui=4.0, est=4.2610523961149465, details={'was_impossible': False}),\n",
       " Prediction(uid=1414, iid=43558, r_ui=4.0, est=3.972711138547233, details={'was_impossible': False}),\n",
       " Prediction(uid=8791, iid=23150, r_ui=4.0, est=3.8634045366538903, details={'was_impossible': False}),\n",
       " Prediction(uid=387, iid=8579, r_ui=3.0, est=3.105892785500804, details={'was_impossible': False}),\n",
       " Prediction(uid=9628, iid=11189, r_ui=3.0, est=3.2921077463804522, details={'was_impossible': False}),\n",
       " Prediction(uid=622, iid=13203, r_ui=5.0, est=3.504335982797219, details={'was_impossible': False}),\n",
       " Prediction(uid=3458, iid=45836, r_ui=3.0, est=3.4687421573648165, details={'was_impossible': False}),\n",
       " Prediction(uid=2881, iid=19378, r_ui=4.0, est=3.981161495747131, details={'was_impossible': False}),\n",
       " Prediction(uid=8533, iid=16288, r_ui=5.0, est=4.328388534279641, details={'was_impossible': False}),\n",
       " Prediction(uid=2684, iid=14737, r_ui=4.0, est=3.6187771020393056, details={'was_impossible': False}),\n",
       " Prediction(uid=6290, iid=39274, r_ui=3.0, est=4.085629748834036, details={'was_impossible': False}),\n",
       " Prediction(uid=4810, iid=44466, r_ui=4.0, est=4.166511316529424, details={'was_impossible': False}),\n",
       " Prediction(uid=1290, iid=13003, r_ui=3.0, est=3.5813609164462115, details={'was_impossible': False}),\n",
       " Prediction(uid=7195, iid=20471, r_ui=3.0, est=3.119739231176583, details={'was_impossible': False}),\n",
       " Prediction(uid=7605, iid=22792, r_ui=5.0, est=4.153814624587798, details={'was_impossible': False}),\n",
       " Prediction(uid=6278, iid=15143, r_ui=2.0, est=3.2402548392450665, details={'was_impossible': False}),\n",
       " Prediction(uid=3587, iid=45518, r_ui=4.0, est=4.09203424790047, details={'was_impossible': False}),\n",
       " Prediction(uid=9436, iid=39781, r_ui=4.0, est=3.3949600304139, details={'was_impossible': False}),\n",
       " Prediction(uid=6714, iid=42134, r_ui=3.0, est=4.198115119199733, details={'was_impossible': False}),\n",
       " Prediction(uid=7054, iid=44709, r_ui=5.0, est=4.281833766614859, details={'was_impossible': False}),\n",
       " Prediction(uid=9208, iid=13994, r_ui=4.0, est=3.9751967756033553, details={'was_impossible': False}),\n",
       " Prediction(uid=8414, iid=2355, r_ui=4.0, est=3.984082858655358, details={'was_impossible': False}),\n",
       " Prediction(uid=6760, iid=26671, r_ui=4.0, est=3.7479339644447887, details={'was_impossible': False}),\n",
       " Prediction(uid=814, iid=50204, r_ui=2.0, est=3.2561857473220686, details={'was_impossible': False}),\n",
       " Prediction(uid=3567, iid=22234, r_ui=2.0, est=2.905010716814087, details={'was_impossible': False}),\n",
       " Prediction(uid=5557, iid=39663, r_ui=5.0, est=4.168778230896805, details={'was_impossible': False}),\n",
       " Prediction(uid=7585, iid=33721, r_ui=3.0, est=3.591813518488682, details={'was_impossible': False}),\n",
       " Prediction(uid=8957, iid=19042, r_ui=4.0, est=3.9554244114409136, details={'was_impossible': False}),\n",
       " Prediction(uid=3567, iid=3940, r_ui=4.0, est=3.7652667248199485, details={'was_impossible': False}),\n",
       " Prediction(uid=6432, iid=16287, r_ui=2.0, est=2.8024802439803502, details={'was_impossible': False}),\n",
       " Prediction(uid=9774, iid=21592, r_ui=5.0, est=4.3955365010658785, details={'was_impossible': False}),\n",
       " Prediction(uid=6935, iid=20835, r_ui=4.0, est=4.253044941069074, details={'was_impossible': False}),\n",
       " Prediction(uid=9076, iid=47682, r_ui=5.0, est=5, details={'was_impossible': False}),\n",
       " Prediction(uid=3779, iid=23202, r_ui=5.0, est=4.1685304091900175, details={'was_impossible': False}),\n",
       " Prediction(uid=6317, iid=9104, r_ui=4.0, est=3.889611709334449, details={'was_impossible': False}),\n",
       " Prediction(uid=8467, iid=26670, r_ui=3.0, est=3.48314822215027, details={'was_impossible': False}),\n",
       " Prediction(uid=9220, iid=30909, r_ui=5.0, est=3.1031293196367264, details={'was_impossible': False}),\n",
       " Prediction(uid=1362, iid=997, r_ui=3.0, est=3.423145310835058, details={'was_impossible': False}),\n",
       " Prediction(uid=5482, iid=18289, r_ui=4.0, est=3.4578824836412947, details={'was_impossible': False}),\n",
       " Prediction(uid=2315, iid=6488, r_ui=2.0, est=3.5161678579323477, details={'was_impossible': False}),\n",
       " Prediction(uid=2047, iid=36995, r_ui=5.0, est=4.031453148309018, details={'was_impossible': False}),\n",
       " Prediction(uid=7251, iid=9797, r_ui=4.0, est=3.479161725936227, details={'was_impossible': False}),\n",
       " Prediction(uid=8985, iid=23120, r_ui=3.0, est=3.8416857111805767, details={'was_impossible': False}),\n",
       " Prediction(uid=1847, iid=44083, r_ui=4.0, est=4.546168619409061, details={'was_impossible': False}),\n",
       " Prediction(uid=7433, iid=22078, r_ui=5.0, est=3.952179105415181, details={'was_impossible': False}),\n",
       " Prediction(uid=8889, iid=37098, r_ui=4.0, est=3.970140039818393, details={'was_impossible': False}),\n",
       " Prediction(uid=8035, iid=40003, r_ui=4.0, est=4.079576241929521, details={'was_impossible': False}),\n",
       " Prediction(uid=6466, iid=32372, r_ui=3.0, est=3.989168552637376, details={'was_impossible': False}),\n",
       " Prediction(uid=6069, iid=28282, r_ui=3.0, est=3.7522340135881076, details={'was_impossible': False}),\n",
       " Prediction(uid=9648, iid=6792, r_ui=4.0, est=3.809254896265868, details={'was_impossible': False}),\n",
       " Prediction(uid=9244, iid=8644, r_ui=3.0, est=3.6764429868478334, details={'was_impossible': False}),\n",
       " Prediction(uid=4579, iid=18401, r_ui=5.0, est=3.8568848550029964, details={'was_impossible': False}),\n",
       " Prediction(uid=1803, iid=26529, r_ui=2.0, est=2.525987354638402, details={'was_impossible': False}),\n",
       " Prediction(uid=6513, iid=13209, r_ui=3.0, est=3.673906678947371, details={'was_impossible': False}),\n",
       " Prediction(uid=5108, iid=13122, r_ui=4.0, est=3.9201539115022808, details={'was_impossible': False}),\n",
       " Prediction(uid=616, iid=18068, r_ui=5.0, est=4.114968238060059, details={'was_impossible': False}),\n",
       " Prediction(uid=8056, iid=37411, r_ui=4.0, est=3.797021165997799, details={'was_impossible': False}),\n",
       " Prediction(uid=4935, iid=47919, r_ui=3.0, est=3.13910553546941, details={'was_impossible': False}),\n",
       " Prediction(uid=9937, iid=31794, r_ui=2.0, est=2.7526434738218875, details={'was_impossible': False}),\n",
       " Prediction(uid=3635, iid=17434, r_ui=4.0, est=4.698469751635365, details={'was_impossible': False}),\n",
       " Prediction(uid=9176, iid=15606, r_ui=4.0, est=3.8244656851209013, details={'was_impossible': False}),\n",
       " Prediction(uid=5994, iid=30542, r_ui=5.0, est=4.112957361749043, details={'was_impossible': False}),\n",
       " Prediction(uid=9368, iid=21386, r_ui=4.0, est=3.8967005778376405, details={'was_impossible': False}),\n",
       " Prediction(uid=9593, iid=353, r_ui=3.0, est=3.9794964106667745, details={'was_impossible': False}),\n",
       " Prediction(uid=3661, iid=45829, r_ui=5.0, est=3.846236765422818, details={'was_impossible': False}),\n",
       " Prediction(uid=4367, iid=1113, r_ui=2.0, est=3.426283182766199, details={'was_impossible': False}),\n",
       " Prediction(uid=1104, iid=42316, r_ui=4.0, est=3.2781690642360366, details={'was_impossible': False}),\n",
       " Prediction(uid=510, iid=18165, r_ui=3.0, est=3.745070815789023, details={'was_impossible': False}),\n",
       " Prediction(uid=1389, iid=6064, r_ui=4.0, est=3.652324506792177, details={'was_impossible': False}),\n",
       " Prediction(uid=6197, iid=44478, r_ui=4.0, est=3.862285870456407, details={'was_impossible': False}),\n",
       " Prediction(uid=8794, iid=19277, r_ui=5.0, est=4.111492707120695, details={'was_impossible': False}),\n",
       " Prediction(uid=1960, iid=41169, r_ui=5.0, est=3.106627800276949, details={'was_impossible': False}),\n",
       " Prediction(uid=7722, iid=2910, r_ui=3.0, est=3.623607680380334, details={'was_impossible': False}),\n",
       " Prediction(uid=3674, iid=32870, r_ui=5.0, est=4.534752116569168, details={'was_impossible': False}),\n",
       " Prediction(uid=9067, iid=37527, r_ui=4.0, est=3.8337206372622705, details={'was_impossible': False}),\n",
       " Prediction(uid=6532, iid=45949, r_ui=4.0, est=3.7333129068785853, details={'was_impossible': False}),\n",
       " Prediction(uid=138, iid=23612, r_ui=4.0, est=3.256896850312949, details={'was_impossible': False}),\n",
       " Prediction(uid=7907, iid=24415, r_ui=5.0, est=4.434928181546881, details={'was_impossible': False}),\n",
       " Prediction(uid=1116, iid=12894, r_ui=2.0, est=3.963304079115495, details={'was_impossible': False}),\n",
       " Prediction(uid=4568, iid=11747, r_ui=3.0, est=3.2139600619992024, details={'was_impossible': False}),\n",
       " Prediction(uid=6876, iid=15620, r_ui=5.0, est=4.453312714287081, details={'was_impossible': False}),\n",
       " Prediction(uid=4342, iid=23603, r_ui=4.0, est=3.6465137381972963, details={'was_impossible': False}),\n",
       " Prediction(uid=734, iid=15547, r_ui=3.0, est=3.596831261204944, details={'was_impossible': False}),\n",
       " Prediction(uid=3163, iid=16979, r_ui=5.0, est=4.803306330798638, details={'was_impossible': False}),\n",
       " Prediction(uid=4093, iid=9374, r_ui=3.0, est=3.538535074224542, details={'was_impossible': False}),\n",
       " Prediction(uid=575, iid=49184, r_ui=2.0, est=3.40325299502589, details={'was_impossible': False}),\n",
       " Prediction(uid=4437, iid=20143, r_ui=4.0, est=3.4770010705984595, details={'was_impossible': False}),\n",
       " Prediction(uid=2621, iid=2063, r_ui=4.0, est=3.715136960288372, details={'was_impossible': False}),\n",
       " Prediction(uid=6513, iid=13426, r_ui=4.0, est=4.070630531817949, details={'was_impossible': False}),\n",
       " Prediction(uid=4799, iid=36954, r_ui=5.0, est=4.61720210503282, details={'was_impossible': False}),\n",
       " Prediction(uid=4976, iid=33126, r_ui=3.0, est=3.632170384383159, details={'was_impossible': False}),\n",
       " Prediction(uid=837, iid=20375, r_ui=4.0, est=3.7693173960654027, details={'was_impossible': False}),\n",
       " Prediction(uid=2205, iid=9151, r_ui=5.0, est=4.697527040973895, details={'was_impossible': False}),\n",
       " Prediction(uid=2844, iid=17197, r_ui=3.0, est=3.5538540605015454, details={'was_impossible': False}),\n",
       " Prediction(uid=8710, iid=36309, r_ui=5.0, est=4.619675958088164, details={'was_impossible': False}),\n",
       " Prediction(uid=4575, iid=37925, r_ui=5.0, est=4.289951596039156, details={'was_impossible': False}),\n",
       " Prediction(uid=2107, iid=30186, r_ui=4.0, est=3.8545736271180293, details={'was_impossible': False}),\n",
       " Prediction(uid=6397, iid=45806, r_ui=5.0, est=4.27517843316212, details={'was_impossible': False}),\n",
       " Prediction(uid=749, iid=2336, r_ui=4.0, est=3.6271064673792135, details={'was_impossible': False}),\n",
       " Prediction(uid=1964, iid=2011, r_ui=5.0, est=4.253303480686407, details={'was_impossible': False}),\n",
       " Prediction(uid=8846, iid=43502, r_ui=4.0, est=3.7405996994578175, details={'was_impossible': False}),\n",
       " Prediction(uid=2231, iid=4113, r_ui=4.0, est=3.7253704470324935, details={'was_impossible': False}),\n",
       " Prediction(uid=511, iid=19526, r_ui=4.0, est=4.16954779468637, details={'was_impossible': False}),\n",
       " Prediction(uid=1017, iid=7225, r_ui=3.0, est=3.6406968277053386, details={'was_impossible': False}),\n",
       " Prediction(uid=5082, iid=50040, r_ui=3.0, est=4.567883922120212, details={'was_impossible': False}),\n",
       " Prediction(uid=6522, iid=40657, r_ui=4.0, est=3.5846544053093417, details={'was_impossible': False}),\n",
       " Prediction(uid=2199, iid=39552, r_ui=4.0, est=4.011120763085781, details={'was_impossible': False}),\n",
       " Prediction(uid=5591, iid=11876, r_ui=3.0, est=3.130571415717129, details={'was_impossible': False}),\n",
       " Prediction(uid=4316, iid=1323, r_ui=4.0, est=3.772807496915668, details={'was_impossible': False}),\n",
       " Prediction(uid=3274, iid=4706, r_ui=5.0, est=4.183594048023678, details={'was_impossible': False}),\n",
       " Prediction(uid=9314, iid=34166, r_ui=4.0, est=3.732628117222697, details={'was_impossible': False}),\n",
       " Prediction(uid=97, iid=11854, r_ui=3.0, est=3.230435503926442, details={'was_impossible': False}),\n",
       " Prediction(uid=6709, iid=45223, r_ui=4.0, est=4.3490753169816845, details={'was_impossible': False}),\n",
       " Prediction(uid=6741, iid=49005, r_ui=5.0, est=4.3333165923542305, details={'was_impossible': False}),\n",
       " Prediction(uid=6611, iid=41602, r_ui=3.0, est=4.328287673617008, details={'was_impossible': False}),\n",
       " Prediction(uid=3080, iid=19832, r_ui=5.0, est=4.610953741937845, details={'was_impossible': False}),\n",
       " Prediction(uid=5851, iid=53086, r_ui=4.0, est=3.140186794394569, details={'was_impossible': False}),\n",
       " Prediction(uid=4422, iid=8403, r_ui=4.0, est=4.074391733631636, details={'was_impossible': False}),\n",
       " Prediction(uid=858, iid=48482, r_ui=4.0, est=3.519285567206621, details={'was_impossible': False}),\n",
       " Prediction(uid=2239, iid=39868, r_ui=4.0, est=3.6547322581038832, details={'was_impossible': False}),\n",
       " Prediction(uid=3394, iid=2433, r_ui=4.0, est=3.4989185214976577, details={'was_impossible': False}),\n",
       " Prediction(uid=1667, iid=31859, r_ui=3.0, est=3.812859826081463, details={'was_impossible': False}),\n",
       " Prediction(uid=5466, iid=29696, r_ui=4.0, est=4.485511151034285, details={'was_impossible': False}),\n",
       " Prediction(uid=4970, iid=22660, r_ui=4.0, est=4.030939069426561, details={'was_impossible': False}),\n",
       " Prediction(uid=3255, iid=4990, r_ui=4.0, est=3.84117681649165, details={'was_impossible': False}),\n",
       " Prediction(uid=1205, iid=34037, r_ui=4.0, est=4.057900919211865, details={'was_impossible': False}),\n",
       " Prediction(uid=7610, iid=1997, r_ui=4.0, est=3.6835014232115193, details={'was_impossible': False}),\n",
       " Prediction(uid=2570, iid=6598, r_ui=4.0, est=3.831603575794083, details={'was_impossible': False}),\n",
       " Prediction(uid=8640, iid=46988, r_ui=4.0, est=4.091789597643048, details={'was_impossible': False}),\n",
       " Prediction(uid=3673, iid=15690, r_ui=5.0, est=4.439783856680928, details={'was_impossible': False}),\n",
       " Prediction(uid=2540, iid=16574, r_ui=4.0, est=3.859109775169788, details={'was_impossible': False}),\n",
       " Prediction(uid=507, iid=40167, r_ui=5.0, est=4.501601893220895, details={'was_impossible': False}),\n",
       " Prediction(uid=4442, iid=53071, r_ui=4.0, est=4.044594198109211, details={'was_impossible': False}),\n",
       " Prediction(uid=7705, iid=17891, r_ui=4.0, est=4.283531157004389, details={'was_impossible': False}),\n",
       " Prediction(uid=9573, iid=46483, r_ui=5.0, est=4.547039647172532, details={'was_impossible': False}),\n",
       " Prediction(uid=1179, iid=48809, r_ui=3.0, est=3.7029968475026473, details={'was_impossible': False}),\n",
       " Prediction(uid=7583, iid=31321, r_ui=5.0, est=4.127773731042047, details={'was_impossible': False}),\n",
       " Prediction(uid=4791, iid=13673, r_ui=5.0, est=4.282741692710414, details={'was_impossible': False}),\n",
       " Prediction(uid=3244, iid=15299, r_ui=5.0, est=4.843879196852663, details={'was_impossible': False}),\n",
       " Prediction(uid=3989, iid=41037, r_ui=5.0, est=3.9914271320479218, details={'was_impossible': False}),\n",
       " Prediction(uid=5188, iid=42574, r_ui=5.0, est=4.344983209756155, details={'was_impossible': False}),\n",
       " Prediction(uid=5622, iid=42671, r_ui=4.0, est=3.9351606379792963, details={'was_impossible': False}),\n",
       " Prediction(uid=4265, iid=21062, r_ui=3.0, est=3.12929518844238, details={'was_impossible': False}),\n",
       " Prediction(uid=4462, iid=25812, r_ui=4.0, est=3.370441881471954, details={'was_impossible': False}),\n",
       " Prediction(uid=3259, iid=13460, r_ui=3.0, est=3.4880527804918673, details={'was_impossible': False}),\n",
       " Prediction(uid=9007, iid=16429, r_ui=4.0, est=3.8278444267448855, details={'was_impossible': False}),\n",
       " Prediction(uid=7018, iid=48606, r_ui=5.0, est=4.163856775487462, details={'was_impossible': False}),\n",
       " Prediction(uid=9377, iid=24811, r_ui=5.0, est=4.399682494517712, details={'was_impossible': False}),\n",
       " Prediction(uid=4979, iid=31794, r_ui=1.0, est=2.385990375090474, details={'was_impossible': False}),\n",
       " Prediction(uid=1327, iid=11157, r_ui=5.0, est=3.795461750979074, details={'was_impossible': False}),\n",
       " Prediction(uid=4132, iid=15233, r_ui=2.0, est=2.8758304422126097, details={'was_impossible': False}),\n",
       " Prediction(uid=8428, iid=38315, r_ui=5.0, est=4.478257737469891, details={'was_impossible': False}),\n",
       " Prediction(uid=4658, iid=8650, r_ui=2.0, est=3.321377332271707, details={'was_impossible': False}),\n",
       " Prediction(uid=2794, iid=14523, r_ui=5.0, est=4.178780317332912, details={'was_impossible': False}),\n",
       " Prediction(uid=1684, iid=6363, r_ui=4.0, est=3.9353427986771212, details={'was_impossible': False}),\n",
       " Prediction(uid=9560, iid=51517, r_ui=3.0, est=3.615404783211575, details={'was_impossible': False}),\n",
       " Prediction(uid=8223, iid=49355, r_ui=2.0, est=3.576322904046784, details={'was_impossible': False}),\n",
       " Prediction(uid=2528, iid=13914, r_ui=3.0, est=3.6329397486454638, details={'was_impossible': False}),\n",
       " Prediction(uid=1245, iid=22336, r_ui=2.0, est=4.174338408741572, details={'was_impossible': False}),\n",
       " Prediction(uid=5238, iid=2858, r_ui=3.0, est=2.8465884444697234, details={'was_impossible': False}),\n",
       " Prediction(uid=2909, iid=17088, r_ui=4.0, est=3.844271302679772, details={'was_impossible': False}),\n",
       " Prediction(uid=708, iid=4653, r_ui=3.0, est=3.5776660852431226, details={'was_impossible': False}),\n",
       " Prediction(uid=3692, iid=4470, r_ui=5.0, est=4.127359692485772, details={'was_impossible': False}),\n",
       " Prediction(uid=6149, iid=4758, r_ui=4.0, est=4.191437160036746, details={'was_impossible': False}),\n",
       " Prediction(uid=9725, iid=8671, r_ui=5.0, est=4.053961390886079, details={'was_impossible': False}),\n",
       " Prediction(uid=385, iid=6829, r_ui=3.0, est=3.561199945657213, details={'was_impossible': False}),\n",
       " Prediction(uid=9885, iid=11920, r_ui=2.0, est=3.777046816267244, details={'was_impossible': False}),\n",
       " Prediction(uid=8352, iid=38449, r_ui=4.0, est=3.9241544106993476, details={'was_impossible': False}),\n",
       " Prediction(uid=2760, iid=9747, r_ui=4.0, est=3.4865457984088595, details={'was_impossible': False}),\n",
       " Prediction(uid=1008, iid=2077, r_ui=2.0, est=3.158022619442187, details={'was_impossible': False}),\n",
       " Prediction(uid=4721, iid=24833, r_ui=5.0, est=4.195441000861385, details={'was_impossible': False}),\n",
       " Prediction(uid=4126, iid=48123, r_ui=5.0, est=5, details={'was_impossible': False}),\n",
       " Prediction(uid=8860, iid=34441, r_ui=4.0, est=3.8900369605226475, details={'was_impossible': False}),\n",
       " Prediction(uid=3841, iid=34978, r_ui=4.0, est=3.8117825011270807, details={'was_impossible': False}),\n",
       " Prediction(uid=6105, iid=21062, r_ui=5.0, est=3.5993330295440336, details={'was_impossible': False}),\n",
       " Prediction(uid=297, iid=37855, r_ui=4.0, est=4.0872299603452085, details={'was_impossible': False}),\n",
       " Prediction(uid=2627, iid=3840, r_ui=5.0, est=4.628599970274537, details={'was_impossible': False}),\n",
       " Prediction(uid=9775, iid=52445, r_ui=5.0, est=4.1266160203043025, details={'was_impossible': False}),\n",
       " Prediction(uid=520, iid=29353, r_ui=4.0, est=3.6302134727761235, details={'was_impossible': False}),\n",
       " Prediction(uid=80, iid=44397, r_ui=5.0, est=4.99856315638819, details={'was_impossible': False}),\n",
       " Prediction(uid=1101, iid=21666, r_ui=4.0, est=4.047746430688922, details={'was_impossible': False}),\n",
       " Prediction(uid=4403, iid=28346, r_ui=3.0, est=3.2894249706954097, details={'was_impossible': False}),\n",
       " Prediction(uid=2242, iid=8382, r_ui=3.0, est=3.2756228739258715, details={'was_impossible': False}),\n",
       " Prediction(uid=2105, iid=29244, r_ui=5.0, est=4.432026866464604, details={'was_impossible': False}),\n",
       " ...]"
      ]
     },
     "execution_count": 16,
     "metadata": {},
     "output_type": "execute_result"
    }
   ],
   "source": [
    "# Train the algorithm on the trainset, and predict ratings for the testset\n",
    "algo.fit(trainset)\n",
    "predictions = algo.test(testset)\n",
    "predictions "
   ]
  },
  {
   "cell_type": "code",
   "execution_count": 17,
   "metadata": {},
   "outputs": [
    {
     "name": "stdout",
     "output_type": "stream",
     "text": [
      "RMSE: 0.8458\n"
     ]
    },
    {
     "data": {
      "text/plain": [
       "0.8457895032805477"
      ]
     },
     "execution_count": 17,
     "metadata": {},
     "output_type": "execute_result"
    }
   ],
   "source": [
    "# Then compute RMSE\n",
    "accuracy.rmse(predictions)"
   ]
  },
  {
   "cell_type": "markdown",
   "metadata": {},
   "source": [
    "###  Comparing accuracy by applying 3 diffrent methodology\n",
    "#### Collabarative filtering (user based): 0.8435\n",
    "#### Collabarative filtering(itembased): 0.87\n",
    "#### Matrix factorisation(svd): 0.8458\n",
    "\n",
    "we can see from above rmse score that userbased and svd are performing closely.\n",
    "However,it depends on the data set it may vary in diffrent dataset.so the perfomace score is limited to this dataset \n",
    "and here we can conclude that Collabarative filtering (user based) is best for this senario.\n",
    "\n"
   ]
  },
  {
   "cell_type": "markdown",
   "metadata": {},
   "source": [
    "###  AUC and ROC curve"
   ]
  },
  {
   "cell_type": "code",
   "execution_count": 18,
   "metadata": {},
   "outputs": [],
   "source": [
    "# method to plot a roc curve \n",
    "def plot_roc(fpr, tpr):\n",
    "    fig, ax = plt.subplots()\n",
    "\n",
    "    roc_auc = auc(fpr,tpr)\n",
    "\n",
    "    ax.plot(fpr, tpr, lw=2, label= 'area under curve = %0.4f' % roc_auc)\n",
    "    \n",
    "\n",
    "    ax.grid(color='0.7', linestyle='--', linewidth=1)\n",
    "\n",
    "    ax.set_xlim([-0.1, 1.1])\n",
    "    ax.set_ylim([0.0, 1.05])\n",
    "    ax.set_xlabel('False Positive Rate',fontsize=15)\n",
    "    ax.set_ylabel('True Positive Rate',fontsize=15)\n",
    "\n",
    "    ax.legend(loc=\"lower right\")\n",
    "\n",
    "    for label in ax.get_xticklabels()+ax.get_yticklabels():\n",
    "        label.set_fontsize(15)\n",
    "    \n"
   ]
  },
  {
   "cell_type": "code",
   "execution_count": 19,
   "metadata": {},
   "outputs": [],
   "source": [
    "# converting continious rating to labael attributes to draw roc curve \n",
    "def covert_rating(row):\n",
    "    if row['rating']>2.5:\n",
    "        return 1\n",
    "    else:\n",
    "        return 0"
   ]
  },
  {
   "cell_type": "code",
   "execution_count": 20,
   "metadata": {},
   "outputs": [],
   "source": [
    "df_book = book_data.set_index(['book_id'])\n",
    "df_book['rating'] = df_book.apply(covert_rating,axis=1)\n",
    "df_b= df_book.reset_index()\n",
    "\n",
    "reader = Reader(rating_scale=(0, 1))\n",
    "data= Dataset.load_from_df(df_b[['book_id', 'user_id', 'rating']], reader)\n",
    "\n",
    "trainset, testset = train_test_split(data, test_size=0.20)\n",
    "algo = SVD()\n",
    "algo.fit(trainset)\n",
    "predictions = algo.test(testset)\n",
    "pred = pd.DataFrame(predictions)\n",
    "fpr, tpr, thresholds = metrics.roc_curve(pred['r_ui'], pred['est'])"
   ]
  },
  {
   "cell_type": "code",
   "execution_count": 21,
   "metadata": {},
   "outputs": [
    {
     "data": {
      "image/png": "[encoded data removed]",
      "text/plain": [
       "<Figure size 432x288 with 1 Axes>"
      ]
     },
     "metadata": {
      "needs_background": "light"
     },
     "output_type": "display_data"
    }
   ],
   "source": [
    "plot_roc(fpr,tpr)"
   ]
  },
  {
   "cell_type": "code",
   "execution_count": 148,
   "metadata": {},
   "outputs": [],
   "source": [
    "# setting K value to 30 \n",
    "sim_options = {'name': 'pearson_baseline',\n",
    "               'min_support': 5,\n",
    "               'user_based': False}\n",
    "base_item_1 = KNNBaseline(k=30,sim_options=sim_options)"
   ]
  },
  {
   "cell_type": "code",
   "execution_count": 149,
   "metadata": {},
   "outputs": [
    {
     "name": "stdout",
     "output_type": "stream",
     "text": [
      "Estimating biases using als...\n",
      "Computing the pearson_baseline similarity matrix...\n",
      "Done computing similarity matrix.\n"
     ]
    }
   ],
   "source": [
    "base_item_1.fit(trainset)\n",
    "base_item_1_preds = base_item_1.test(testset)"
   ]
  },
  {
   "cell_type": "code",
   "execution_count": 150,
   "metadata": {},
   "outputs": [],
   "source": [
    "pred = pd.DataFrame(base_item_1_preds)\n",
    "fpr1, tpr1, thresholds = metrics.roc_curve(pred['r_ui'], pred['est'])"
   ]
  },
  {
   "cell_type": "code",
   "execution_count": 151,
   "metadata": {},
   "outputs": [
    {
     "data": {
      "image/png": "[encoded data removed]",
      "text/plain": [
       "<Figure size 432x288 with 1 Axes>"
      ]
     },
     "metadata": {
      "needs_background": "light"
     },
     "output_type": "display_data"
    }
   ],
   "source": [
    "plot_roc(fpr1,tpr1)"
   ]
  },
  {
   "cell_type": "code",
   "execution_count": 22,
   "metadata": {},
   "outputs": [],
   "source": [
    "sim_options = {'name': 'pearson_baseline',\n",
    "               'min_support': 5,\n",
    "               'user_based': True}\n",
    "base_user = KNNBaseline(k=30,sim_options=sim_options)"
   ]
  },
  {
   "cell_type": "code",
   "execution_count": 23,
   "metadata": {},
   "outputs": [
    {
     "name": "stdout",
     "output_type": "stream",
     "text": [
      "Estimating biases using als...\n",
      "Computing the pearson_baseline similarity matrix...\n",
      "Done computing similarity matrix.\n"
     ]
    }
   ],
   "source": [
    "base_user.fit(trainset)\n",
    "base_user= base_user.test(testset)\n"
   ]
  },
  {
   "cell_type": "code",
   "execution_count": 24,
   "metadata": {},
   "outputs": [],
   "source": [
    "pred = pd.DataFrame(base_user)\n",
    "fpr, tpr, thresholds = metrics.roc_curve(pred['r_ui'], pred['est'])"
   ]
  },
  {
   "cell_type": "code",
   "execution_count": 25,
   "metadata": {},
   "outputs": [
    {
     "data": {
      "image/png": "[encoded data removed]",
      "text/plain": [
       "<Figure size 432x288 with 1 Axes>"
      ]
     },
     "metadata": {
      "needs_background": "light"
     },
     "output_type": "display_data"
    }
   ],
   "source": [
    "plot_roc(fpr,tpr)"
   ]
  },
  {
   "cell_type": "markdown",
   "metadata": {},
   "source": [
    "### AUC curve and best model \n",
    "\n",
    "AUC–ROC curve is the model selection metric for bi–multi class classification problem.\n",
    "ROC is a probability curve for different classes and tells us how good the model is for distinguishing the given classes, in terms of the predicted probability.\n",
    "\n",
    "when the area under the curve(AUC) = 1 then that is the best case senario.\n",
    "AUC is 0.5 means model is 50% accurate for instances and their classification. The model has no discrimination capabilities at all in this case.\n",
    "\n",
    "ACU = 0 model is predicting opposite of what is expected.\n",
    "As we can see above all the roc curve > 0.7 so they are able to predict 70 percent correctly \n",
    "and error rate is or the loss function is 0.3.\n",
    "user_based collabarative filltering is giving the hihest area of curve.\n"
   ]
  },
  {
   "cell_type": "markdown",
   "metadata": {},
   "source": [
    "### Implement support for at least one business or user experience goal such as increased serendipity, novelty, or diversity.\n",
    "most of the time populat item will cretae bias on recomendation system as they will have high weight on data\n",
    "and mislead the outcome. \n",
    "so we will find out 10 highly populat item and remove those item from book_data df and apply userbased collabarative filtering and analysis the result what we get before and now.\n"
   ]
  },
  {
   "cell_type": "code",
   "execution_count": 26,
   "metadata": {},
   "outputs": [
    {
     "data": {
      "text/plain": [
       "[7947, 6920, 5207, 9566, 8946, 6361, 3275, 5580, 6590, 4483]"
      ]
     },
     "execution_count": 26,
     "metadata": {},
     "output_type": "execute_result"
    }
   ],
   "source": [
    "# finding top 10 gighly popular book\n",
    "group_by_book_id = book_data.groupby(\"book_id\")[\"rating\"].mean()\n",
    "top_10 = group_by_book_id.sort_values(ascending=False)\n",
    "top_10 = top_10[:10]\n",
    "top_10_df = top_10.to_frame()\n",
    "top_10_df =top_10_df.reset_index()\n",
    "highly_popular_book = list(top_10_df[\"book_id\"])\n",
    "highly_popular_book"
   ]
  },
  {
   "cell_type": "code",
   "execution_count": 27,
   "metadata": {},
   "outputs": [],
   "source": [
    "# remove popular book_id and crete a new data frame\n",
    "book_data_remove_popular = book_data[~book_data['book_id'].isin(highly_popular_book)]"
   ]
  },
  {
   "cell_type": "code",
   "execution_count": 28,
   "metadata": {},
   "outputs": [
    {
     "data": {
      "text/html": [
       "<div>\n",
       "<style scoped>\n",
       "    .dataframe tbody tr th:only-of-type {\n",
       "        vertical-align: middle;\n",
       "    }\n",
       "\n",
       "    .dataframe tbody tr th {\n",
       "        vertical-align: top;\n",
       "    }\n",
       "\n",
       "    .dataframe thead th {\n",
       "        text-align: right;\n",
       "    }\n",
       "</style>\n",
       "<table border=\"1\" class=\"dataframe\">\n",
       "  <thead>\n",
       "    <tr style=\"text-align: right;\">\n",
       "      <th></th>\n",
       "      <th>book_id</th>\n",
       "      <th>user_id</th>\n",
       "      <th>rating</th>\n",
       "    </tr>\n",
       "  </thead>\n",
       "  <tbody>\n",
       "  </tbody>\n",
       "</table>\n",
       "</div>"
      ],
      "text/plain": [
       "Empty DataFrame\n",
       "Columns: [book_id, user_id, rating]\n",
       "Index: []"
      ]
     },
     "execution_count": 28,
     "metadata": {},
     "output_type": "execute_result"
    }
   ],
   "source": [
    "# check for popular book_id = 6920\n",
    "book_data_remove_popular[book_data_remove_popular.book_id == 6920]"
   ]
  },
  {
   "cell_type": "code",
   "execution_count": 29,
   "metadata": {},
   "outputs": [
    {
     "data": {
      "text/html": [
       "<div>\n",
       "<style scoped>\n",
       "    .dataframe tbody tr th:only-of-type {\n",
       "        vertical-align: middle;\n",
       "    }\n",
       "\n",
       "    .dataframe tbody tr th {\n",
       "        vertical-align: top;\n",
       "    }\n",
       "\n",
       "    .dataframe thead th {\n",
       "        text-align: right;\n",
       "    }\n",
       "</style>\n",
       "<table border=\"1\" class=\"dataframe\">\n",
       "  <thead>\n",
       "    <tr style=\"text-align: right;\">\n",
       "      <th></th>\n",
       "      <th>book_id</th>\n",
       "      <th>user_id</th>\n",
       "      <th>rating</th>\n",
       "    </tr>\n",
       "  </thead>\n",
       "  <tbody>\n",
       "  </tbody>\n",
       "</table>\n",
       "</div>"
      ],
      "text/plain": [
       "Empty DataFrame\n",
       "Columns: [book_id, user_id, rating]\n",
       "Index: []"
      ]
     },
     "execution_count": 29,
     "metadata": {},
     "output_type": "execute_result"
    }
   ],
   "source": [
    "book_data_remove_popular[book_data_remove_popular.book_id == 7947]"
   ]
  },
  {
   "cell_type": "code",
   "execution_count": 30,
   "metadata": {},
   "outputs": [
    {
     "data": {
      "text/plain": [
       "2945268"
      ]
     },
     "execution_count": 30,
     "metadata": {},
     "output_type": "execute_result"
    }
   ],
   "source": [
    "# original size\n",
    "book_data.size "
   ]
  },
  {
   "cell_type": "code",
   "execution_count": 31,
   "metadata": {},
   "outputs": [
    {
     "data": {
      "text/plain": [
       "2942325"
      ]
     },
     "execution_count": 31,
     "metadata": {},
     "output_type": "execute_result"
    }
   ],
   "source": [
    "# reduced size\n",
    "book_data_remove_popular.size"
   ]
  },
  {
   "cell_type": "markdown",
   "metadata": {},
   "source": [
    "###  Apply UBC model on new reduced dataset"
   ]
  },
  {
   "cell_type": "code",
   "execution_count": 32,
   "metadata": {},
   "outputs": [
    {
     "data": {
      "text/plain": [
       "<surprise.dataset.DatasetAutoFolds at 0x1a3d259e90>"
      ]
     },
     "execution_count": 32,
     "metadata": {},
     "output_type": "execute_result"
    }
   ],
   "source": [
    "reader = Reader(rating_scale=(1, 5))\n",
    "data = Dataset.load_from_df(book_data_remove_popular[['book_id','user_id','rating']],reader)\n",
    "data"
   ]
  },
  {
   "cell_type": "code",
   "execution_count": 33,
   "metadata": {},
   "outputs": [],
   "source": [
    "trainset, testset = train_test_split(data, test_size=0.20)"
   ]
  },
  {
   "cell_type": "code",
   "execution_count": 34,
   "metadata": {},
   "outputs": [],
   "source": [
    "sim_options = {'name': 'pearson_baseline',\n",
    "               'min_support': 5,\n",
    "               'user_based': True}\n",
    "base_user = KNNBaseline(k=30,sim_options=sim_options)"
   ]
  },
  {
   "cell_type": "code",
   "execution_count": 35,
   "metadata": {},
   "outputs": [
    {
     "name": "stdout",
     "output_type": "stream",
     "text": [
      "Estimating biases using als...\n",
      "Computing the pearson_baseline similarity matrix...\n",
      "Done computing similarity matrix.\n",
      "RMSE: 0.8436\n"
     ]
    },
    {
     "data": {
      "text/plain": [
       "0.8435533908945605"
      ]
     },
     "execution_count": 35,
     "metadata": {},
     "output_type": "execute_result"
    }
   ],
   "source": [
    "base_user.fit(trainset)\n",
    "base_user= base_user.test(testset)\n",
    "accuracy.rmse(base_user_preds)"
   ]
  },
  {
   "cell_type": "markdown",
   "metadata": {},
   "source": [
    "### Compare and report on any change in accuracy before and after removing most popular book \n",
    "Collabarative filtering (user based): 0.8435533908945605(initially)\n",
    "0.8435533908945605(after change)\n",
    "So there is no chage in accuracy, as we just removed only 10 popular book. But,in real world senario it will \n",
    "definitely make a difference."
   ]
  },
  {
   "cell_type": "markdown",
   "metadata": {},
   "source": [
    "### conclusion \n",
    "\n",
    "In the above discussion we have only discussed about offline data. However,in real world senario both evalute online \n",
    "and also offline data.\n",
    "\n",
    "For online evaluation, an engine was developed to randomly split users traffic and assign to one of the experiments\n",
    "of the hybrid recommender system (A/B testing), each varying only one setting of the two component algorithms. \n",
    "\n",
    "The Click-Through Rate (CTR) metric was also used to measure online accuracy of recommendations. Online CTR\n",
    "was the ratio of interactions on recommended items and the total of recommended items viewed by users during their\n",
    "sessions. \n",
    "\n",
    "How to mesure accuracy of CTR:\n",
    "1. by taking both whole data set \n",
    "2. Ignoreing the popular items \n",
    "\n",
    "observe the curve if they go parally then we stop and release model. Because,model is behaving as expected and both online and offline evaluation is predicting in similar way.  if online recomendation and offline recommendation curve will inresect then there is someting wrong in the algorithm  and   we need to rebuild the model or try to change parameters.\n"
   ]
  }
 ],
 "metadata": {
  "kernelspec": {
   "display_name": "Python 3",
   "language": "python",
   "name": "python3"
  },
  "language_info": {
   "codemirror_mode": {
    "name": "ipython",
    "version": 3
   },
   "file_extension": ".py",
   "mimetype": "text/x-python",
   "name": "python",
   "nbconvert_exporter": "python",
   "pygments_lexer": "ipython3",
   "version": "3.7.6"
  }
 },
 "nbformat": 4,
 "nbformat_minor": 4
}
